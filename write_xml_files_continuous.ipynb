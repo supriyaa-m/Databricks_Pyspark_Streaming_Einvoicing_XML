{
 "cells": [
  {
   "cell_type": "code",
   "execution_count": 0,
   "metadata": {
    "application/vnd.databricks.v1+cell": {
     "cellMetadata": {
      "byteLimit": 2048000,
      "rowLimit": 10000
     },
     "inputWidgets": {},
     "nuid": "bd41bcc8-2b4a-4eda-bcd6-5c82134b1d59",
     "showTitle": false,
     "title": ""
    }
   },
   "outputs": [
    {
     "output_type": "stream",
     "name": "stdout",
     "output_type": "stream",
     "text": [
      "Python interpreter will be restarted.\nCollecting lxml\n  Downloading lxml-5.2.2-cp39-cp39-manylinux_2_28_x86_64.whl (5.0 MB)\nInstalling collected packages: lxml\nSuccessfully installed lxml-5.2.2\nPython interpreter will be restarted.\n"
     ]
    }
   ],
   "source": [
    "%pip install lxml"
   ]
  },
  {
   "cell_type": "code",
   "execution_count": 0,
   "metadata": {
    "application/vnd.databricks.v1+cell": {
     "cellMetadata": {
      "byteLimit": 2048000,
      "rowLimit": 10000
     },
     "inputWidgets": {},
     "nuid": "0d9166a7-6699-41a3-833a-8ffdffd9601c",
     "showTitle": false,
     "title": ""
    }
   },
   "outputs": [
    {
     "output_type": "stream",
     "name": "stdout",
     "output_type": "stream",
     "text": [
      "Out[94]: True"
     ]
    }
   ],
   "source": [
    "#dbutils.fs.rm(\"/FileStore/tables/invoices\", recurse=True)"
   ]
  },
  {
   "cell_type": "code",
   "execution_count": 0,
   "metadata": {
    "application/vnd.databricks.v1+cell": {
     "cellMetadata": {
      "byteLimit": 2048000,
      "rowLimit": 10000
     },
     "inputWidgets": {},
     "nuid": "198e0a8e-6708-4647-829d-dccfbcc372dd",
     "showTitle": false,
     "title": ""
    }
   },
   "outputs": [],
   "source": [
    "spark.conf.set(\"spark.sql.legacy.timeParserPolicy\", \"LEGACY\")"
   ]
  },
  {
   "cell_type": "code",
   "execution_count": 0,
   "metadata": {
    "application/vnd.databricks.v1+cell": {
     "cellMetadata": {
      "byteLimit": 2048000,
      "rowLimit": 10000
     },
     "inputWidgets": {},
     "nuid": "5fcb25a4-ec9a-40e8-864f-29d3a1372105",
     "showTitle": false,
     "title": ""
    }
   },
   "outputs": [],
   "source": [
    "from pyspark.sql import SparkSession\n",
    "from pyspark.sql.types import StructType, StructField, StringType, DoubleType, TimestampType, DateType\n",
    "from pyspark.sql.functions import collect_list, struct, lit, concat, input_file_name\n",
    "import base64\n",
    "import uuid\n",
    "from lxml import etree\n",
    "import datetime\n",
    "import os\n",
    "import shutil"
   ]
  },
  {
   "cell_type": "code",
   "execution_count": 0,
   "metadata": {
    "application/vnd.databricks.v1+cell": {
     "cellMetadata": {
      "byteLimit": 2048000,
      "rowLimit": 10000
     },
     "inputWidgets": {},
     "nuid": "c0a5175e-2e1a-4b43-bdb0-8d5d18647af4",
     "showTitle": false,
     "title": ""
    }
   },
   "outputs": [],
   "source": [
    "# Clear the checkpoint directory before starting the stream\n",
    "if os.path.exists(checkpoint_dir):\n",
    "    shutil.rmtree(checkpoint_dir)"
   ]
  },
  {
   "cell_type": "code",
   "execution_count": 0,
   "metadata": {
    "application/vnd.databricks.v1+cell": {
     "cellMetadata": {
      "byteLimit": 2048000,
      "rowLimit": 10000
     },
     "inputWidgets": {},
     "nuid": "c3f15299-0c17-44ad-9d23-45487dacdb0d",
     "showTitle": false,
     "title": ""
    }
   },
   "outputs": [],
   "source": [
    "# Define the staging directory\n",
    "staging_directory = \"/FileStore/tables/invoices/staging\"\n",
    "input_directory = \"/FileStore/tables/invoices\"\n",
    "checkpoint_directory = \"/FileStore/tables/invoices/checkpoint\"\n",
    "processed_directory = \"/FileStore/tables/invoices/processed\""
   ]
  },
  {
   "cell_type": "code",
   "execution_count": 0,
   "metadata": {
    "application/vnd.databricks.v1+cell": {
     "cellMetadata": {
      "byteLimit": 2048000,
      "rowLimit": 10000
     },
     "inputWidgets": {},
     "nuid": "068dec90-02ea-48f3-9261-cd3eec4a1310",
     "showTitle": false,
     "title": ""
    }
   },
   "outputs": [],
   "source": [
    "# create directories if not exists\n",
    "def create_directory_if_not_exists(path):\n",
    "    try:\n",
    "        dbutils.fs.ls(path)\n",
    "        print(f\"Directory {path} already exists.\")\n",
    "    except:\n",
    "        dbutils.fs.mkdirs(path)\n",
    "        print(f\"Directory {path} created.\")"
   ]
  },
  {
   "cell_type": "code",
   "execution_count": 0,
   "metadata": {
    "application/vnd.databricks.v1+cell": {
     "cellMetadata": {
      "byteLimit": 2048000,
      "rowLimit": 10000
     },
     "inputWidgets": {},
     "nuid": "a0907f88-9570-495e-baa3-026f345b9f71",
     "showTitle": false,
     "title": ""
    }
   },
   "outputs": [
    {
     "output_type": "stream",
     "name": "stdout",
     "output_type": "stream",
     "text": [
      "Directory /FileStore/tables/invoices created.\n"
     ]
    }
   ],
   "source": [
    "# Create the input directory if it doesn't exist\n",
    "create_directory_if_not_exists(input_directory)"
   ]
  },
  {
   "cell_type": "code",
   "execution_count": 0,
   "metadata": {
    "application/vnd.databricks.v1+cell": {
     "cellMetadata": {
      "byteLimit": 2048000,
      "rowLimit": 10000
     },
     "inputWidgets": {},
     "nuid": "7b16cc93-d6d7-47c2-981f-9f4e1d8e6ccd",
     "showTitle": false,
     "title": ""
    }
   },
   "outputs": [
    {
     "output_type": "stream",
     "name": "stdout",
     "output_type": "stream",
     "text": [
      "Directory /FileStore/tables/invoices/staging created.\n"
     ]
    }
   ],
   "source": [
    "# Create the staging directory if it doesn't exist\n",
    "create_directory_if_not_exists(staging_directory)"
   ]
  },
  {
   "cell_type": "code",
   "execution_count": 0,
   "metadata": {
    "application/vnd.databricks.v1+cell": {
     "cellMetadata": {
      "byteLimit": 2048000,
      "rowLimit": 10000
     },
     "inputWidgets": {},
     "nuid": "74cd1bcd-f998-4b2f-85cf-546eb7861547",
     "showTitle": false,
     "title": ""
    }
   },
   "outputs": [
    {
     "output_type": "stream",
     "name": "stdout",
     "output_type": "stream",
     "text": [
      "Directory /FileStore/tables/invoices/checkpoint created.\n"
     ]
    }
   ],
   "source": [
    "# Create the checkpoint directory if it doesn't exist\n",
    "create_directory_if_not_exists(checkpoint_directory)"
   ]
  },
  {
   "cell_type": "code",
   "execution_count": 0,
   "metadata": {
    "application/vnd.databricks.v1+cell": {
     "cellMetadata": {
      "byteLimit": 2048000,
      "rowLimit": 10000
     },
     "inputWidgets": {},
     "nuid": "c8595f24-c034-4edb-b3cd-cddf6a07c2ca",
     "showTitle": false,
     "title": ""
    }
   },
   "outputs": [
    {
     "output_type": "stream",
     "name": "stdout",
     "output_type": "stream",
     "text": [
      "Directory /FileStore/tables/invoices/processed created.\n"
     ]
    }
   ],
   "source": [
    "# Create the processed directory if it doesn't exist\n",
    "create_directory_if_not_exists(processed_directory)"
   ]
  },
  {
   "cell_type": "code",
   "execution_count": 0,
   "metadata": {
    "application/vnd.databricks.v1+cell": {
     "cellMetadata": {
      "byteLimit": 2048000,
      "rowLimit": 10000
     },
     "inputWidgets": {},
     "nuid": "18bf4f71-a6b5-4111-ae97-a7794ca7db13",
     "showTitle": false,
     "title": ""
    }
   },
   "outputs": [],
   "source": [
    "\n",
    "# Define schema for incoming invoices\n",
    "invoiceSchema = StructType([\n",
    "    StructField(\"invoice_number\", StringType(), True),\n",
    "    StructField(\"account_number\", StringType(), True),\n",
    "    StructField(\"invoice_date\", StringType(), True),\n",
    "    StructField(\"customer_name\", StringType(), True),\n",
    "    StructField(\"customer_state\", StringType(), True),\n",
    "    StructField(\"customer_city\", StringType(), True),\n",
    "    StructField(\"customer_pincode\", StringType(), True),\n",
    "    StructField(\"company_name\", StringType(), True),\n",
    "    StructField(\"company_state\", StringType(), True),\n",
    "    StructField(\"company_city\", StringType(), True),\n",
    "    StructField(\"company_pincode\", StringType(), True),\n",
    "    StructField(\"vat_amount\", DoubleType(), True),\n",
    "    StructField(\"vat_breakdown_amount\", DoubleType(), True),\n",
    "    StructField(\"tax_exemption_code\", StringType(), True),\n",
    "    StructField(\"tax_exemption_amount\", DoubleType(), True),\n",
    "    StructField(\"invoice_line_amount\", DoubleType(), True),\n",
    "    StructField(\"price\", DoubleType(), True),\n",
    "    StructField(\"invoice_start_date\", StringType(), True),\n",
    "    StructField(\"invoice_end_date\", StringType(), True),\n",
    "    StructField(\"invoice_total_amount\", DoubleType(), True)\n",
    "])"
   ]
  },
  {
   "cell_type": "code",
   "execution_count": 0,
   "metadata": {
    "application/vnd.databricks.v1+cell": {
     "cellMetadata": {
      "byteLimit": 2048000,
      "rowLimit": 10000
     },
     "inputWidgets": {},
     "nuid": "0ea49433-8c1c-4017-8eea-c54be0075369",
     "showTitle": false,
     "title": ""
    }
   },
   "outputs": [],
   "source": [
    "\n",
    "# Define file path\n",
    "file_path = \"/FileStore/tables/invoices\"\n",
    "\n",
    "# Read the CSV file as a streaming DataFrame\n",
    "invoices = spark.readStream \\\n",
    "    .option(\"header\", \"true\") \\\n",
    "    .option(\"ignoreOlderFiles\", \"1d\") \\\n",
    "    .schema(invoiceSchema) \\\n",
    "    .csv(file_path)\n"
   ]
  },
  {
   "cell_type": "code",
   "execution_count": 0,
   "metadata": {
    "application/vnd.databricks.v1+cell": {
     "cellMetadata": {
      "byteLimit": 2048000,
      "rowLimit": 10000
     },
     "inputWidgets": {},
     "nuid": "38867f0e-462a-4c19-9f20-532201287bef",
     "showTitle": false,
     "title": ""
    }
   },
   "outputs": [],
   "source": [
    "invoices = invoices.withColumn(\"input_file_name\", input_file_name())"
   ]
  },
  {
   "cell_type": "code",
   "execution_count": 0,
   "metadata": {
    "application/vnd.databricks.v1+cell": {
     "cellMetadata": {
      "byteLimit": 2048000,
      "rowLimit": 10000
     },
     "inputWidgets": {},
     "nuid": "f2526bfe-9413-4cf1-a921-d13c1ccb8f77",
     "showTitle": false,
     "title": ""
    }
   },
   "outputs": [
    {
     "output_type": "display_data",
     "data": {
      "text/html": [
       "<style scoped>\n",
       "  .table-result-container {\n",
       "    max-height: 300px;\n",
       "    overflow: auto;\n",
       "  }\n",
       "  table, th, td {\n",
       "    border: 1px solid black;\n",
       "    border-collapse: collapse;\n",
       "  }\n",
       "  th, td {\n",
       "    padding: 5px;\n",
       "  }\n",
       "  th {\n",
       "    text-align: left;\n",
       "  }\n",
       "</style><div class='table-result-container'><table class='table-result'><thead style='background-color: white'><tr><th>invoice_number</th><th>account_number</th><th>invoice_date</th><th>customer_name</th><th>customer_state</th><th>customer_city</th><th>customer_pincode</th><th>company_name</th><th>company_state</th><th>company_city</th><th>company_pincode</th><th>vat_amount</th><th>vat_breakdown_amount</th><th>tax_exemption_code</th><th>tax_exemption_amount</th><th>invoice_line_amount</th><th>price</th><th>invoice_start_date</th><th>invoice_end_date</th><th>invoice_total_amount</th><th>input_file_name</th></tr></thead><tbody><tr><td>123462836-SS</td><td>123-456-657</td><td>17-06-2024</td><td>John Mathew</td><td>Texas</td><td>Atlanta</td><td>10</td><td>Southern Investors</td><td>Texas</td><td>Atlanta</td><td>10</td><td>200.0</td><td>100.0</td><td>ES</td><td>50.0</td><td>150.0</td><td>300.0</td><td>17-05-2024</td><td>30-05-2024</td><td>350.0</td><td>dbfs:/FileStore/tables/invoices/invoice_data_2024061802400001.csv</td></tr><tr><td>123462837-SS</td><td>123-456-658</td><td>18-06-2024</td><td>Joseph Christ</td><td>Pebbas</td><td>North</td><td>9</td><td>Southern Investors</td><td>Texas</td><td>Atlanta</td><td>10</td><td>250.0</td><td>100.0</td><td>ES</td><td>50.0</td><td>200.0</td><td>400.0</td><td>18-05-2024</td><td>31-05-2024</td><td>450.0</td><td>dbfs:/FileStore/tables/invoices/invoice_data_2024061802400001.csv</td></tr><tr><td>123462837-SS</td><td>123-456-658</td><td>19-06-2024</td><td>Joseph Christ</td><td>Pebbas</td><td>North</td><td>9</td><td>Southern Investors</td><td>Texas</td><td>Atlanta</td><td>10</td><td>300.0</td><td>150.0</td><td>ES</td><td>50.0</td><td>200.0</td><td>400.0</td><td>19-05-2024</td><td>01-06-2024</td><td>450.0</td><td>dbfs:/FileStore/tables/invoices/invoice_data_2024061802400001.csv</td></tr><tr><td>123462838-SS</td><td>123-456-656</td><td>18-06-2024</td><td>Sara Mathew</td><td>Texas</td><td>Atlanta</td><td>10</td><td>Southern Investors</td><td>Texas</td><td>Atlanta</td><td>10</td><td>200.0</td><td>100.0</td><td>ES</td><td>50.0</td><td>150.0</td><td>300.0</td><td>17-05-2024</td><td>30-05-2024</td><td>350.0</td><td>dbfs:/FileStore/tables/invoices/invoice_data_2024061802440011.csv</td></tr><tr><td>123462839-SS</td><td>123-456-654</td><td>18-06-2024</td><td>Ali Christ</td><td>Pebbas</td><td>North</td><td>9</td><td>Southern Investors</td><td>Texas</td><td>Atlanta</td><td>10</td><td>250.0</td><td>100.0</td><td>ES</td><td>50.0</td><td>200.0</td><td>400.0</td><td>18-05-2024</td><td>31-05-2024</td><td>450.0</td><td>dbfs:/FileStore/tables/invoices/invoice_data_2024061802440011.csv</td></tr><tr><td>123462834-SS</td><td>123-456-653</td><td>18-06-2024</td><td>Ali Christ</td><td>Pebbas</td><td>North</td><td>9</td><td>Southern Investors</td><td>Texas</td><td>Atlanta</td><td>10</td><td>300.0</td><td>150.0</td><td>ES</td><td>50.0</td><td>200.0</td><td>400.0</td><td>19-05-2024</td><td>01-06-2024</td><td>450.0</td><td>dbfs:/FileStore/tables/invoices/invoice_data_2024061802440011.csv</td></tr></tbody></table></div>"
      ]
     },
     "metadata": {
      "application/vnd.databricks.v1+output": {
       "addedWidgets": {},
       "aggData": [],
       "aggError": "",
       "aggOverflow": false,
       "aggSchema": [],
       "aggSeriesLimitReached": false,
       "aggType": "",
       "arguments": {},
       "columnCustomDisplayInfos": {},
       "data": [
        [
         "123462836-SS",
         "123-456-657",
         "17-06-2024",
         "John Mathew",
         "Texas",
         "Atlanta",
         "10",
         "Southern Investors",
         "Texas",
         "Atlanta",
         "10",
         200.0,
         100.0,
         "ES",
         50.0,
         150.0,
         300.0,
         "17-05-2024",
         "30-05-2024",
         350.0,
         "dbfs:/FileStore/tables/invoices/invoice_data_2024061802400001.csv"
        ],
        [
         "123462837-SS",
         "123-456-658",
         "18-06-2024",
         "Joseph Christ",
         "Pebbas",
         "North",
         "9",
         "Southern Investors",
         "Texas",
         "Atlanta",
         "10",
         250.0,
         100.0,
         "ES",
         50.0,
         200.0,
         400.0,
         "18-05-2024",
         "31-05-2024",
         450.0,
         "dbfs:/FileStore/tables/invoices/invoice_data_2024061802400001.csv"
        ],
        [
         "123462837-SS",
         "123-456-658",
         "19-06-2024",
         "Joseph Christ",
         "Pebbas",
         "North",
         "9",
         "Southern Investors",
         "Texas",
         "Atlanta",
         "10",
         300.0,
         150.0,
         "ES",
         50.0,
         200.0,
         400.0,
         "19-05-2024",
         "01-06-2024",
         450.0,
         "dbfs:/FileStore/tables/invoices/invoice_data_2024061802400001.csv"
        ],
        [
         "123462838-SS",
         "123-456-656",
         "18-06-2024",
         "Sara Mathew",
         "Texas",
         "Atlanta",
         "10",
         "Southern Investors",
         "Texas",
         "Atlanta",
         "10",
         200.0,
         100.0,
         "ES",
         50.0,
         150.0,
         300.0,
         "17-05-2024",
         "30-05-2024",
         350.0,
         "dbfs:/FileStore/tables/invoices/invoice_data_2024061802440011.csv"
        ],
        [
         "123462839-SS",
         "123-456-654",
         "18-06-2024",
         "Ali Christ",
         "Pebbas",
         "North",
         "9",
         "Southern Investors",
         "Texas",
         "Atlanta",
         "10",
         250.0,
         100.0,
         "ES",
         50.0,
         200.0,
         400.0,
         "18-05-2024",
         "31-05-2024",
         450.0,
         "dbfs:/FileStore/tables/invoices/invoice_data_2024061802440011.csv"
        ],
        [
         "123462834-SS",
         "123-456-653",
         "18-06-2024",
         "Ali Christ",
         "Pebbas",
         "North",
         "9",
         "Southern Investors",
         "Texas",
         "Atlanta",
         "10",
         300.0,
         150.0,
         "ES",
         50.0,
         200.0,
         400.0,
         "19-05-2024",
         "01-06-2024",
         450.0,
         "dbfs:/FileStore/tables/invoices/invoice_data_2024061802440011.csv"
        ]
       ],
       "datasetInfos": [],
       "dbfsResultPath": null,
       "isJsonSchema": true,
       "metadata": {
        "isDbfsCommandResult": false
       },
       "overflow": false,
       "plotOptions": {
        "customPlotOptions": {},
        "displayType": "table",
        "pivotAggregation": null,
        "pivotColumns": null,
        "xColumns": null,
        "yColumns": null
       },
       "removedWidgets": [],
       "schema": [
        {
         "metadata": "{}",
         "name": "invoice_number",
         "type": "\"string\""
        },
        {
         "metadata": "{}",
         "name": "account_number",
         "type": "\"string\""
        },
        {
         "metadata": "{}",
         "name": "invoice_date",
         "type": "\"string\""
        },
        {
         "metadata": "{}",
         "name": "customer_name",
         "type": "\"string\""
        },
        {
         "metadata": "{}",
         "name": "customer_state",
         "type": "\"string\""
        },
        {
         "metadata": "{}",
         "name": "customer_city",
         "type": "\"string\""
        },
        {
         "metadata": "{}",
         "name": "customer_pincode",
         "type": "\"string\""
        },
        {
         "metadata": "{}",
         "name": "company_name",
         "type": "\"string\""
        },
        {
         "metadata": "{}",
         "name": "company_state",
         "type": "\"string\""
        },
        {
         "metadata": "{}",
         "name": "company_city",
         "type": "\"string\""
        },
        {
         "metadata": "{}",
         "name": "company_pincode",
         "type": "\"string\""
        },
        {
         "metadata": "{}",
         "name": "vat_amount",
         "type": "\"double\""
        },
        {
         "metadata": "{}",
         "name": "vat_breakdown_amount",
         "type": "\"double\""
        },
        {
         "metadata": "{}",
         "name": "tax_exemption_code",
         "type": "\"string\""
        },
        {
         "metadata": "{}",
         "name": "tax_exemption_amount",
         "type": "\"double\""
        },
        {
         "metadata": "{}",
         "name": "invoice_line_amount",
         "type": "\"double\""
        },
        {
         "metadata": "{}",
         "name": "price",
         "type": "\"double\""
        },
        {
         "metadata": "{}",
         "name": "invoice_start_date",
         "type": "\"string\""
        },
        {
         "metadata": "{}",
         "name": "invoice_end_date",
         "type": "\"string\""
        },
        {
         "metadata": "{}",
         "name": "invoice_total_amount",
         "type": "\"double\""
        },
        {
         "metadata": "{}",
         "name": "input_file_name",
         "type": "\"string\""
        }
       ],
       "type": "table"
      }
     },
     "output_type": "display_data"
    }
   ],
   "source": [
    "invoices.display()"
   ]
  },
  {
   "cell_type": "code",
   "execution_count": 0,
   "metadata": {
    "application/vnd.databricks.v1+cell": {
     "cellMetadata": {
      "byteLimit": 2048000,
      "rowLimit": 10000
     },
     "inputWidgets": {},
     "nuid": "3d47ac63-9bcc-4360-8dbe-c33ee49fa2ce",
     "showTitle": false,
     "title": ""
    }
   },
   "outputs": [],
   "source": [
    "\n",
    "# Generate unique identifiers and hash\n",
    "invoices_with_ids = invoices.withColumn(\"unique_invoice_identifier\", lit(str(uuid.uuid4()))) \\\n",
    "    .withColumn(\"invoice_hash\", concat(\"invoice_number\", lit(\"_\"), \"unique_invoice_identifier\"))"
   ]
  },
  {
   "cell_type": "code",
   "execution_count": 0,
   "metadata": {
    "application/vnd.databricks.v1+cell": {
     "cellMetadata": {
      "byteLimit": 2048000,
      "rowLimit": 10000
     },
     "inputWidgets": {},
     "nuid": "c8939090-cb1a-4fe8-a424-ff97567f6f06",
     "showTitle": false,
     "title": ""
    }
   },
   "outputs": [],
   "source": [
    "\n",
    "def save_as_xml(df, epoch_id):\n",
    "    try:\n",
    "        # Collect data as list of rows\n",
    "        grouped_df = df.groupBy(\"account_number\", \"invoice_number\", \"unique_invoice_identifier\",\"invoice_hash\").agg(\n",
    "            collect_list(struct(\"*\")).alias(\"rows\")\n",
    "        ).collect()\n",
    "        processed_files = set()\n",
    "        \n",
    "        # Iterate through the grouped rows and create XML files\n",
    "        for row in grouped_df:\n",
    "            account_number = row[\"account_number\"]\n",
    "            unique_invoice_identifier = row[\"unique_invoice_identifier\"]\n",
    "            invoice_hash = base64.b64encode(row[\"invoice_hash\"].encode()).decode()\n",
    "            rows = row[\"rows\"]\n",
    "\n",
    "            root = etree.Element(\"invoice\")\n",
    "            \n",
    "            etree.SubElement(root, \"invoice_number\").text = rows[0][\"invoice_number\"]\n",
    "            etree.SubElement(root, \"unique_invoice_identifier\").text = unique_invoice_identifier\n",
    "            etree.SubElement(root, \"account_number\").text = account_number\n",
    "            etree.SubElement(root, \"invoice_hash\").text = invoice_hash\n",
    "            etree.SubElement(root, \"invoice_date\").text = str(rows[0][\"invoice_start_date\"])\n",
    "\n",
    "            customer_address = etree.SubElement(root, \"customer_address\")\n",
    "            etree.SubElement(customer_address, \"customer_name\").text = rows[0][\"customer_name\"]\n",
    "            etree.SubElement(customer_address, \"customer_state\").text = rows[0][\"customer_state\"]\n",
    "            etree.SubElement(customer_address, \"customer_city\").text = rows[0][\"customer_city\"]\n",
    "\n",
    "            company_address = etree.SubElement(root, \"company_address\")\n",
    "            etree.SubElement(company_address, \"company_name\").text = rows[0][\"company_name\"]\n",
    "            etree.SubElement(company_address, \"company_state\").text = rows[0][\"company_state\"]\n",
    "            etree.SubElement(company_address, \"company_city\").text = rows[0][\"company_city\"]\n",
    "\n",
    "            tax_amount = etree.SubElement(root, \"tax_amount\")\n",
    "            etree.SubElement(tax_amount, \"vat_amount\").text = str(rows[0][\"vat_amount\"])\n",
    "            etree.SubElement(tax_amount, \"vat_breakdown_amount\").text = str(rows[0][\"vat_breakdown_amount\"])\n",
    "            etree.SubElement(tax_amount, \"tax_exemption_code\").text = rows[0][\"tax_exemption_code\"]\n",
    "            etree.SubElement(tax_amount, \"tax_exemption_amount\").text = str(rows[0][\"tax_exemption_amount\"])\n",
    "\n",
    "            for idx, row in enumerate(rows):\n",
    "                invoice_line = etree.SubElement(root, \"invoice_line\")\n",
    "                etree.SubElement(invoice_line, \"invoice_line_identifier\").text = str(idx + 1)\n",
    "                etree.SubElement(invoice_line, \"invoice_line_amount\").text = str(row[\"invoice_line_amount\"])\n",
    "                etree.SubElement(invoice_line, \"price\").text = str(row[\"invoice_line_amount\"])\n",
    "                etree.SubElement(invoice_line, \"invoice_start_date\").text = str(row[\"invoice_start_date\"])\n",
    "                etree.SubElement(invoice_line, \"invoice_end_date\").text = str(row[\"invoice_end_date\"])\n",
    "                etree.SubElement(invoice_line, \"invoice_total_amount\").text = str(row[\"invoice_total_amount\"])\n",
    "\n",
    "            tree = etree.ElementTree(root)\n",
    "            current_timestamp = datetime.datetime.now().strftime(\"%Y%m%d%H%M%S\")\n",
    "            account_number_without_hyphen = account_number.replace(\"-\", \"\")\n",
    "            file_name = f\"{account_number_without_hyphen}_{str(uuid.uuid4())}_{current_timestamp}.xml\"\n",
    "            output_path = f\"/dbfs/FileStore/tables/invoices/staging/{file_name}\"  # Use /dbfs prefix for DBFS paths\n",
    "            \n",
    "            # Debugging statement to ensure we're writing the file\n",
    "            print(f\"Writing XML to: {output_path}\")\n",
    "            \n",
    "            # Ensure the directory exists before writing\n",
    "            os.makedirs(os.path.dirname(output_path), exist_ok=True)\n",
    "            \n",
    "            with open(output_path, \"wb\") as f:\n",
    "                tree.write(f, pretty_print=True, xml_declaration=True, encoding=\"UTF-8\")\n",
    "\n",
    "        # Track processed files\n",
    "        for file_path in df.select(\"input_file_name\").distinct().collect():\n",
    "            processed_files.add(file_path[\"input_file_name\"])\n",
    "        \n",
    "        # Move processed files to the processed directory\n",
    "        for file_path in processed_files:\n",
    "            file_name = os.path.basename(file_path)\n",
    "            src_path = file_path.replace(\"dbfs:\", \"\")\n",
    "            dest_path = processed_directory\n",
    "            dbutils.fs.mv(src_path, dest_path)\n",
    "            print(f\"Moved file {file_name} from {src_path} to {dest_path}\")\n",
    "                \n",
    "        print(f\"Batch {epoch_id} processed successfully.\")\n",
    "        \n",
    "    except Exception as e:\n",
    "        print(f\"Error in save_as_xml for batch {epoch_id}: {str(e)}\")"
   ]
  },
  {
   "cell_type": "code",
   "execution_count": 0,
   "metadata": {
    "application/vnd.databricks.v1+cell": {
     "cellMetadata": {
      "byteLimit": 2048000,
      "rowLimit": 10000
     },
     "inputWidgets": {},
     "nuid": "735d3f83-09a3-49c7-b714-b6b9e829f49a",
     "showTitle": false,
     "title": ""
    }
   },
   "outputs": [
    {
     "output_type": "stream",
     "name": "stdout",
     "output_type": "stream",
     "text": [
      "Writing XML to: /dbfs/FileStore/tables/invoices/staging/123456658_6ff05610-bdb6-4c2e-80f2-e9ff9d57d8d3_20240618095446.xml\nWriting XML to: /dbfs/FileStore/tables/invoices/staging/123456657_3d45aee6-30e9-4036-b7b3-a1493a121fc0_20240618095446.xml\nMoved file invoice_data_2024061802400001.csv from /FileStore/tables/invoices/invoice_data_2024061802400001.csv to /FileStore/tables/invoices/processed\nBatch 0 processed successfully.\nWriting XML to: /dbfs/FileStore/tables/invoices/staging/123456653_116bb1c6-08ba-4582-8ed0-7f7a000acbf0_20240618095537.xml\nWriting XML to: /dbfs/FileStore/tables/invoices/staging/123456654_f2de3322-63d3-455b-a7ec-bcade9d7c3ed_20240618095537.xml\nWriting XML to: /dbfs/FileStore/tables/invoices/staging/123456656_135cf522-84f1-406a-b6eb-53cb555b6d24_20240618095537.xml\nMoved file invoice_data_2024061802440011.csv from /FileStore/tables/invoices/invoice_data_2024061802440011.csv to /FileStore/tables/invoices/processed\nBatch 1 processed successfully.\n"
     ]
    }
   ],
   "source": [
    "# Write the streaming DataFrame to the staging directory as XML files\n",
    "query = invoices_with_ids.writeStream \\\n",
    "    .foreachBatch(save_as_xml) \\\n",
    "    .option(\"checkpointLocation\", checkpoint_dir) \\\n",
    "    .start()\n",
    "\n",
    "# Wait for the query to process data\n",
    "query.awaitTermination()"
   ]
  },
  {
   "cell_type": "code",
   "execution_count": 0,
   "metadata": {
    "application/vnd.databricks.v1+cell": {
     "cellMetadata": {
      "byteLimit": 2048000,
      "rowLimit": 10000
     },
     "inputWidgets": {},
     "nuid": "993ddf03-2a81-441f-ad46-62a8ef4fd48a",
     "showTitle": false,
     "title": ""
    }
   },
   "outputs": [],
   "source": [
    "query.stop()"
   ]
  }
 ],
 "metadata": {
  "application/vnd.databricks.v1+notebook": {
   "dashboards": [],
   "environmentMetadata": null,
   "language": "python",
   "notebookMetadata": {
    "mostRecentlyExecutedCommandWithImplicitDF": {
     "commandId": -1,
     "dataframes": [
      "_sqldf"
     ]
    },
    "pythonIndentUnit": 4
   },
   "notebookName": "write_xml_files_continuous",
   "widgets": {}
  }
 },
 "nbformat": 4,
 "nbformat_minor": 0
}
