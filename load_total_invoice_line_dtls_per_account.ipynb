{
 "cells": [
  {
   "cell_type": "code",
   "execution_count": 0,
   "metadata": {
    "application/vnd.databricks.v1+cell": {
     "cellMetadata": {
      "byteLimit": 2048000,
      "rowLimit": 10000
     },
     "inputWidgets": {},
     "nuid": "977c25b1-b24b-4f04-8fc0-2069093d6267",
     "showTitle": false,
     "title": ""
    }
   },
   "outputs": [],
   "source": [
    "from pyspark.sql.functions import *\n",
    "from pyspark.sql.types import *"
   ]
  },
  {
   "cell_type": "code",
   "execution_count": 0,
   "metadata": {
    "application/vnd.databricks.v1+cell": {
     "cellMetadata": {
      "byteLimit": 2048000,
      "rowLimit": 10000
     },
     "inputWidgets": {},
     "nuid": "0a0cfd04-8850-4320-a871-35fc99800dfc",
     "showTitle": false,
     "title": ""
    }
   },
   "outputs": [],
   "source": [
    "stream_inv_line_df = spark.readStream.table(\"invoice_db.invoice_line_data_stg\")"
   ]
  },
  {
   "cell_type": "code",
   "execution_count": 0,
   "metadata": {
    "application/vnd.databricks.v1+cell": {
     "cellMetadata": {
      "byteLimit": 2048000,
      "rowLimit": 10000
     },
     "inputWidgets": {},
     "nuid": "9acb9d49-8159-4a0e-b478-f91b183c8b48",
     "showTitle": false,
     "title": ""
    }
   },
   "outputs": [
    {
     "output_type": "display_data",
     "data": {
      "text/html": [
       "<style scoped>\n",
       "  .table-result-container {\n",
       "    max-height: 300px;\n",
       "    overflow: auto;\n",
       "  }\n",
       "  table, th, td {\n",
       "    border: 1px solid black;\n",
       "    border-collapse: collapse;\n",
       "  }\n",
       "  th, td {\n",
       "    padding: 5px;\n",
       "  }\n",
       "  th {\n",
       "    text-align: left;\n",
       "  }\n",
       "</style><div class='table-result-container'><table class='table-result'><thead style='background-color: white'><tr><th>invoice_number</th><th>unique_invoice_identifier</th><th>account_number</th><th>customer_name</th><th>invoice_line_identifier</th><th>invoice_line_amount</th><th>price</th><th>invoice_start_date</th><th>invoice_end_date</th><th>invoice_total_amount</th><th>invoice_status</th><th>target_committime</th><th>load_month</th><th>load_date</th><th>batch_id</th></tr></thead><tbody><tr><td>123462837-SS</td><td>f237165c-6dc2-4695-9635-6245f8913c54</td><td>123-456-658</td><td>Joseph Christ</td><td>1</td><td>200.00</td><td>200.00</td><td>2024-05-18</td><td>2024-05-31</td><td>450.00</td><td>ADD</td><td>2024-07-21T07:58:04.651+0000</td><td>2024-07-01</td><td>2024-07-21</td><td>BATCH-2024-07-21-07_58_04</td></tr><tr><td>123462837-SS</td><td>f237165c-6dc2-4695-9635-6245f8913c54</td><td>123-456-658</td><td>Joseph Christ</td><td>2</td><td>200.00</td><td>200.00</td><td>2024-05-19</td><td>2024-06-01</td><td>450.00</td><td>ADD</td><td>2024-07-21T07:58:04.651+0000</td><td>2024-07-01</td><td>2024-07-21</td><td>BATCH-2024-07-21-07_58_04</td></tr><tr><td>123462835-SS</td><td>f237165c-6dc2-4695-9635-6245f8913c65</td><td>123-456-680</td><td>Alpha</td><td>1</td><td>600.00</td><td>200.00</td><td>2024-05-20</td><td>2024-05-31</td><td>750.00</td><td>ADD</td><td>2024-07-21T08:30:27.614+0000</td><td>2024-07-01</td><td>2024-07-21</td><td>BATCH-2024-07-21-08_30_27</td></tr><tr><td>123462869-SS</td><td>l237165c-6dc2-4695-9635-6245f8913g57</td><td>123-456-659</td><td>Jane Christ</td><td>2</td><td>200.00</td><td>250.00</td><td>2024-05-20</td><td>2024-06-04</td><td>850.00</td><td>EDIT</td><td>2024-07-21T08:30:27.614+0000</td><td>2024-07-01</td><td>2024-07-21</td><td>BATCH-2024-07-21-08_30_27</td></tr><tr><td>123462869-SS</td><td>l237165c-6dc2-4695-9635-6245f8913g57</td><td>123-456-659</td><td>Jane Christ</td><td>1</td><td>300.00</td><td>200.00</td><td>2024-05-20</td><td>2024-05-31</td><td>750.00</td><td>EDIT</td><td>2024-07-21T08:30:27.614+0000</td><td>2024-07-01</td><td>2024-07-21</td><td>BATCH-2024-07-21-08_30_27</td></tr><tr><td>123462838-SS</td><td>f237165c-6dc2-4695-9635-6245f8913c54</td><td>123-456-659</td><td>Jane Christ</td><td>2</td><td>200.00</td><td>250.00</td><td>2024-05-20</td><td>2024-06-04</td><td>850.00</td><td>ADD</td><td>2024-07-21T08:19:21.900+0000</td><td>2024-07-01</td><td>2024-07-21</td><td>BATCH-2024-07-21-08_19_21</td></tr><tr><td>123462838-SS</td><td>f237165c-6dc2-4695-9635-6245f8913c54</td><td>123-456-659</td><td>Jane Christ</td><td>1</td><td>300.00</td><td>200.00</td><td>2024-05-20</td><td>2024-05-31</td><td>750.00</td><td>ADD</td><td>2024-07-21T08:19:21.900+0000</td><td>2024-07-01</td><td>2024-07-21</td><td>BATCH-2024-07-21-08_19_21</td></tr></tbody></table></div>"
      ]
     },
     "metadata": {
      "application/vnd.databricks.v1+output": {
       "addedWidgets": {},
       "aggData": [],
       "aggError": "",
       "aggOverflow": false,
       "aggSchema": [],
       "aggSeriesLimitReached": false,
       "aggType": "",
       "arguments": {},
       "columnCustomDisplayInfos": {},
       "data": [
        [
         "123462837-SS",
         "f237165c-6dc2-4695-9635-6245f8913c54",
         "123-456-658",
         "Joseph Christ",
         1,
         "200.00",
         "200.00",
         "2024-05-18",
         "2024-05-31",
         "450.00",
         "ADD",
         "2024-07-21T07:58:04.651+0000",
         "2024-07-01",
         "2024-07-21",
         "BATCH-2024-07-21-07_58_04"
        ],
        [
         "123462837-SS",
         "f237165c-6dc2-4695-9635-6245f8913c54",
         "123-456-658",
         "Joseph Christ",
         2,
         "200.00",
         "200.00",
         "2024-05-19",
         "2024-06-01",
         "450.00",
         "ADD",
         "2024-07-21T07:58:04.651+0000",
         "2024-07-01",
         "2024-07-21",
         "BATCH-2024-07-21-07_58_04"
        ],
        [
         "123462835-SS",
         "f237165c-6dc2-4695-9635-6245f8913c65",
         "123-456-680",
         "Alpha",
         1,
         "600.00",
         "200.00",
         "2024-05-20",
         "2024-05-31",
         "750.00",
         "ADD",
         "2024-07-21T08:30:27.614+0000",
         "2024-07-01",
         "2024-07-21",
         "BATCH-2024-07-21-08_30_27"
        ],
        [
         "123462869-SS",
         "l237165c-6dc2-4695-9635-6245f8913g57",
         "123-456-659",
         "Jane Christ",
         2,
         "200.00",
         "250.00",
         "2024-05-20",
         "2024-06-04",
         "850.00",
         "EDIT",
         "2024-07-21T08:30:27.614+0000",
         "2024-07-01",
         "2024-07-21",
         "BATCH-2024-07-21-08_30_27"
        ],
        [
         "123462869-SS",
         "l237165c-6dc2-4695-9635-6245f8913g57",
         "123-456-659",
         "Jane Christ",
         1,
         "300.00",
         "200.00",
         "2024-05-20",
         "2024-05-31",
         "750.00",
         "EDIT",
         "2024-07-21T08:30:27.614+0000",
         "2024-07-01",
         "2024-07-21",
         "BATCH-2024-07-21-08_30_27"
        ],
        [
         "123462838-SS",
         "f237165c-6dc2-4695-9635-6245f8913c54",
         "123-456-659",
         "Jane Christ",
         2,
         "200.00",
         "250.00",
         "2024-05-20",
         "2024-06-04",
         "850.00",
         "ADD",
         "2024-07-21T08:19:21.900+0000",
         "2024-07-01",
         "2024-07-21",
         "BATCH-2024-07-21-08_19_21"
        ],
        [
         "123462838-SS",
         "f237165c-6dc2-4695-9635-6245f8913c54",
         "123-456-659",
         "Jane Christ",
         1,
         "300.00",
         "200.00",
         "2024-05-20",
         "2024-05-31",
         "750.00",
         "ADD",
         "2024-07-21T08:19:21.900+0000",
         "2024-07-01",
         "2024-07-21",
         "BATCH-2024-07-21-08_19_21"
        ]
       ],
       "datasetInfos": [],
       "dbfsResultPath": null,
       "isJsonSchema": true,
       "metadata": {
        "isDbfsCommandResult": false
       },
       "overflow": false,
       "plotOptions": {
        "customPlotOptions": {},
        "displayType": "table",
        "pivotAggregation": null,
        "pivotColumns": null,
        "xColumns": null,
        "yColumns": null
       },
       "removedWidgets": [],
       "schema": [
        {
         "metadata": "{}",
         "name": "invoice_number",
         "type": "\"string\""
        },
        {
         "metadata": "{}",
         "name": "unique_invoice_identifier",
         "type": "\"string\""
        },
        {
         "metadata": "{}",
         "name": "account_number",
         "type": "\"string\""
        },
        {
         "metadata": "{}",
         "name": "customer_name",
         "type": "\"string\""
        },
        {
         "metadata": "{}",
         "name": "invoice_line_identifier",
         "type": "\"integer\""
        },
        {
         "metadata": "{}",
         "name": "invoice_line_amount",
         "type": "\"decimal(10,2)\""
        },
        {
         "metadata": "{}",
         "name": "price",
         "type": "\"decimal(10,2)\""
        },
        {
         "metadata": "{}",
         "name": "invoice_start_date",
         "type": "\"date\""
        },
        {
         "metadata": "{}",
         "name": "invoice_end_date",
         "type": "\"date\""
        },
        {
         "metadata": "{}",
         "name": "invoice_total_amount",
         "type": "\"decimal(10,2)\""
        },
        {
         "metadata": "{}",
         "name": "invoice_status",
         "type": "\"string\""
        },
        {
         "metadata": "{}",
         "name": "target_committime",
         "type": "\"timestamp\""
        },
        {
         "metadata": "{}",
         "name": "load_month",
         "type": "\"date\""
        },
        {
         "metadata": "{}",
         "name": "load_date",
         "type": "\"date\""
        },
        {
         "metadata": "{}",
         "name": "batch_id",
         "type": "\"string\""
        }
       ],
       "type": "table"
      }
     },
     "output_type": "display_data"
    }
   ],
   "source": [
    "stream_inv_line_df.display()"
   ]
  },
  {
   "cell_type": "code",
   "execution_count": 0,
   "metadata": {
    "application/vnd.databricks.v1+cell": {
     "cellMetadata": {
      "byteLimit": 2048000,
      "rowLimit": 10000
     },
     "inputWidgets": {},
     "nuid": "2090d269-11f0-48f8-ac24-853a8f6f0947",
     "showTitle": false,
     "title": ""
    }
   },
   "outputs": [],
   "source": [
    "aggregated_df = stream_inv_line_df \\\n",
    "    .groupBy(\"account_number\", \"customer_name\",\"invoice_line_identifier\") \\\n",
    "    .agg(\n",
    "        expr(\"sum(invoice_line_amount) as total_line_amt\"),\n",
    "        expr(\"sum(price) as total_price\"),\n",
    "        expr(\"sum(invoice_total_amount) as total_invoice_amt\")\n",
    "    ) \\\n",
    "    .withColumn(\"target_committime\", current_timestamp())"
   ]
  },
  {
   "cell_type": "code",
   "execution_count": 0,
   "metadata": {
    "application/vnd.databricks.v1+cell": {
     "cellMetadata": {
      "byteLimit": 2048000,
      "rowLimit": 10000
     },
     "inputWidgets": {},
     "nuid": "9ed4583c-31a5-4743-9226-41b0b1f55214",
     "showTitle": false,
     "title": ""
    }
   },
   "outputs": [
    {
     "output_type": "display_data",
     "data": {
      "text/html": [
       "<style scoped>\n",
       "  .table-result-container {\n",
       "    max-height: 300px;\n",
       "    overflow: auto;\n",
       "  }\n",
       "  table, th, td {\n",
       "    border: 1px solid black;\n",
       "    border-collapse: collapse;\n",
       "  }\n",
       "  th, td {\n",
       "    padding: 5px;\n",
       "  }\n",
       "  th {\n",
       "    text-align: left;\n",
       "  }\n",
       "</style><div class='table-result-container'><table class='table-result'><thead style='background-color: white'><tr><th>account_number</th><th>customer_name</th><th>invoice_line_identifier</th><th>total_line_amt</th><th>total_price</th><th>total_invoice_amt</th><th>target_committime</th></tr></thead><tbody><tr><td>123-456-658</td><td>Joseph Christ</td><td>2</td><td>200.00</td><td>200.00</td><td>450.00</td><td>2024-07-21T11:25:51.202+0000</td></tr><tr><td>123-456-659</td><td>Jane Christ</td><td>2</td><td>400.00</td><td>500.00</td><td>1700.00</td><td>2024-07-21T11:25:51.202+0000</td></tr><tr><td>123-456-658</td><td>Joseph Christ</td><td>1</td><td>200.00</td><td>200.00</td><td>450.00</td><td>2024-07-21T11:25:51.202+0000</td></tr><tr><td>123-456-680</td><td>Alpha</td><td>1</td><td>600.00</td><td>200.00</td><td>750.00</td><td>2024-07-21T11:25:51.202+0000</td></tr><tr><td>123-456-659</td><td>Jane Christ</td><td>1</td><td>600.00</td><td>400.00</td><td>1500.00</td><td>2024-07-21T11:25:51.202+0000</td></tr></tbody></table></div>"
      ]
     },
     "metadata": {
      "application/vnd.databricks.v1+output": {
       "addedWidgets": {},
       "aggData": [],
       "aggError": "",
       "aggOverflow": false,
       "aggSchema": [],
       "aggSeriesLimitReached": false,
       "aggType": "",
       "arguments": {},
       "columnCustomDisplayInfos": {},
       "data": [
        [
         "123-456-658",
         "Joseph Christ",
         2,
         "200.00",
         "200.00",
         "450.00",
         "2024-07-21T11:25:51.202+0000"
        ],
        [
         "123-456-659",
         "Jane Christ",
         2,
         "400.00",
         "500.00",
         "1700.00",
         "2024-07-21T11:25:51.202+0000"
        ],
        [
         "123-456-658",
         "Joseph Christ",
         1,
         "200.00",
         "200.00",
         "450.00",
         "2024-07-21T11:25:51.202+0000"
        ],
        [
         "123-456-680",
         "Alpha",
         1,
         "600.00",
         "200.00",
         "750.00",
         "2024-07-21T11:25:51.202+0000"
        ],
        [
         "123-456-659",
         "Jane Christ",
         1,
         "600.00",
         "400.00",
         "1500.00",
         "2024-07-21T11:25:51.202+0000"
        ]
       ],
       "datasetInfos": [],
       "dbfsResultPath": null,
       "isJsonSchema": true,
       "metadata": {
        "isDbfsCommandResult": false
       },
       "overflow": false,
       "plotOptions": {
        "customPlotOptions": {},
        "displayType": "table",
        "pivotAggregation": null,
        "pivotColumns": null,
        "xColumns": null,
        "yColumns": null
       },
       "removedWidgets": [],
       "schema": [
        {
         "metadata": "{}",
         "name": "account_number",
         "type": "\"string\""
        },
        {
         "metadata": "{}",
         "name": "customer_name",
         "type": "\"string\""
        },
        {
         "metadata": "{}",
         "name": "invoice_line_identifier",
         "type": "\"integer\""
        },
        {
         "metadata": "{}",
         "name": "total_line_amt",
         "type": "\"decimal(20,2)\""
        },
        {
         "metadata": "{}",
         "name": "total_price",
         "type": "\"decimal(20,2)\""
        },
        {
         "metadata": "{}",
         "name": "total_invoice_amt",
         "type": "\"decimal(20,2)\""
        },
        {
         "metadata": "{}",
         "name": "target_committime",
         "type": "\"timestamp\""
        }
       ],
       "type": "table"
      }
     },
     "output_type": "display_data"
    }
   ],
   "source": [
    "aggregated_df.display()"
   ]
  },
  {
   "cell_type": "code",
   "execution_count": 0,
   "metadata": {
    "application/vnd.databricks.v1+cell": {
     "cellMetadata": {
      "byteLimit": 2048000,
      "rowLimit": 10000
     },
     "inputWidgets": {},
     "nuid": "b93a0bfd-35de-4948-a39e-7de8c7443517",
     "showTitle": false,
     "title": ""
    }
   },
   "outputs": [],
   "source": [
    "def update_table(line_total_df,batch_id):\n",
    "    line_total_df.createOrReplaceTempView(\"line_total_temp\")\n",
    "    merge_statement = \"\"\"merge into invoice_db.invoice_total_line_data_stg t using line_total_temp s\n",
    "    on t.account_number == s.account_number and t.customer_name == s.customer_name and t.invoice_line_identifier == s.invoice_line_identifier\n",
    "    when matched then\n",
    "    update set\n",
    "    t.total_line_amt = t.total_line_amt + s.total_line_amt, \n",
    "    t.total_price = t.total_price + s.total_price, \n",
    "    t.total_invoice_amt = t.total_invoice_amt + s.total_invoice_amt,\n",
    "    t.target_committime = s.target_committime\n",
    "    when not matched then\n",
    "    insert *\n",
    "    \"\"\"\n",
    "    line_total_df._jdf.sparkSession().sql(merge_statement)"
   ]
  },
  {
   "cell_type": "code",
   "execution_count": 0,
   "metadata": {
    "application/vnd.databricks.v1+cell": {
     "cellMetadata": {
      "byteLimit": 2048000,
      "rowLimit": 10000
     },
     "inputWidgets": {},
     "nuid": "01c7b919-0151-4d70-be4f-708348b18da3",
     "showTitle": false,
     "title": ""
    }
   },
   "outputs": [
    {
     "output_type": "display_data",
     "data": {
      "text/html": [
       "<style scoped>\n",
       "  .ansiout {\n",
       "    display: block;\n",
       "    unicode-bidi: embed;\n",
       "    white-space: pre-wrap;\n",
       "    word-wrap: break-word;\n",
       "    word-break: break-all;\n",
       "    font-family: \"Menlo\", \"Monaco\", \"Consolas\", \"Ubuntu Mono\", \"Source Code Pro\", monospace;\n",
       "    font-size: 13px;\n",
       "    color: #555;\n",
       "    margin-left: 4px;\n",
       "    line-height: 19px;\n",
       "  }\n",
       "</style>"
      ]
     },
     "metadata": {
      "application/vnd.databricks.v1+output": {
       "arguments": {},
       "data": "",
       "errorSummary": "Cancelled",
       "errorTraceType": "html",
       "metadata": {},
       "type": "ipynbError"
      }
     },
     "output_type": "display_data"
    }
   ],
   "source": [
    "query = aggregated_df.writeStream \\\n",
    "    .foreachBatch(update_table) \\\n",
    "    .outputMode(\"update\") \\\n",
    "    .option(\"checkpointLocation\", \"/FileStore/tables/invoices/invoice_total_line_data_chkpt\") \\\n",
    "    .start()\n",
    "\n",
    "query.awaitTermination()"
   ]
  }
 ],
 "metadata": {
  "application/vnd.databricks.v1+notebook": {
   "dashboards": [],
   "environmentMetadata": null,
   "language": "python",
   "notebookMetadata": {
    "pythonIndentUnit": 4
   },
   "notebookName": "load_total_invoice_line_dtls_per_account",
   "widgets": {}
  }
 },
 "nbformat": 4,
 "nbformat_minor": 0
}
