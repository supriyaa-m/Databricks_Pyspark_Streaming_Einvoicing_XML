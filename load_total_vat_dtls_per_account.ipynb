{
 "cells": [
  {
   "cell_type": "code",
   "execution_count": 0,
   "metadata": {
    "application/vnd.databricks.v1+cell": {
     "cellMetadata": {
      "byteLimit": 2048000,
      "rowLimit": 10000
     },
     "inputWidgets": {},
     "nuid": "d9c166d3-73f7-4c00-9a1b-b15303944639",
     "showTitle": false,
     "title": ""
    }
   },
   "outputs": [],
   "source": [
    "from pyspark.sql.functions import *\n",
    "from pyspark.sql.types import *"
   ]
  },
  {
   "cell_type": "code",
   "execution_count": 0,
   "metadata": {
    "application/vnd.databricks.v1+cell": {
     "cellMetadata": {
      "byteLimit": 2048000,
      "rowLimit": 10000
     },
     "inputWidgets": {},
     "nuid": "b18ee405-1d1f-42fb-ba5b-68584f2045fb",
     "showTitle": false,
     "title": ""
    }
   },
   "outputs": [],
   "source": [
    "stream_vat_df = spark.readStream.table(\"invoice_db.invoice_vat_data_stg\")"
   ]
  },
  {
   "cell_type": "code",
   "execution_count": 0,
   "metadata": {
    "application/vnd.databricks.v1+cell": {
     "cellMetadata": {
      "byteLimit": 2048000,
      "rowLimit": 10000
     },
     "inputWidgets": {},
     "nuid": "5b720314-5de1-4180-938d-e7400aa0b425",
     "showTitle": false,
     "title": ""
    }
   },
   "outputs": [
    {
     "output_type": "display_data",
     "data": {
      "text/html": [
       "<style scoped>\n",
       "  .table-result-container {\n",
       "    max-height: 300px;\n",
       "    overflow: auto;\n",
       "  }\n",
       "  table, th, td {\n",
       "    border: 1px solid black;\n",
       "    border-collapse: collapse;\n",
       "  }\n",
       "  th, td {\n",
       "    padding: 5px;\n",
       "  }\n",
       "  th {\n",
       "    text-align: left;\n",
       "  }\n",
       "</style><div class='table-result-container'><table class='table-result'><thead style='background-color: white'><tr><th>invoice_number</th><th>unique_invoice_identifier</th><th>account_number</th><th>customer_name</th><th>vat_amount</th><th>vat_breakdown_amount</th><th>tax_exemption_code</th><th>tax_exemption_amount</th><th>invoice_status</th><th>target_committime</th><th>load_month</th><th>load_date</th><th>batch_id</th></tr></thead><tbody><tr><td>123462837-SS</td><td>f237165c-6dc2-4695-9635-6245f8913c54</td><td>123-456-658</td><td>Joseph Christ</td><td>250.00</td><td>100.00</td><td>ES</td><td>50.00</td><td>ADD</td><td>2024-07-21T07:58:04.651+0000</td><td>2024-07-01</td><td>2024-07-21</td><td>BATCH-2024-07-21-07_58_04</td></tr><tr><td>123462838-SS</td><td>f237165c-6dc2-4695-9635-6245f8913c54</td><td>123-456-659</td><td>Jane Christ</td><td>251.00</td><td>400.00</td><td>ES</td><td>55.00</td><td>ADD</td><td>2024-07-21T08:19:21.900+0000</td><td>2024-07-01</td><td>2024-07-21</td><td>BATCH-2024-07-21-08_19_21</td></tr><tr><td>123462835-SS</td><td>f237165c-6dc2-4695-9635-6245f8913c65</td><td>123-456-680</td><td>Alpha</td><td>351.00</td><td>400.00</td><td>ES</td><td>55.00</td><td>ADD</td><td>2024-07-21T08:30:27.614+0000</td><td>2024-07-01</td><td>2024-07-21</td><td>BATCH-2024-07-21-08_30_27</td></tr><tr><td>123462869-SS</td><td>l237165c-6dc2-4695-9635-6245f8913g57</td><td>123-456-659</td><td>Jane Christ</td><td>251.00</td><td>450.00</td><td>ES</td><td>55.00</td><td>EDIT</td><td>2024-07-21T08:30:27.614+0000</td><td>2024-07-01</td><td>2024-07-21</td><td>BATCH-2024-07-21-08_30_27</td></tr></tbody></table></div>"
      ]
     },
     "metadata": {
      "application/vnd.databricks.v1+output": {
       "addedWidgets": {},
       "aggData": [],
       "aggError": "",
       "aggOverflow": false,
       "aggSchema": [],
       "aggSeriesLimitReached": false,
       "aggType": "",
       "arguments": {},
       "columnCustomDisplayInfos": {},
       "data": [
        [
         "123462837-SS",
         "f237165c-6dc2-4695-9635-6245f8913c54",
         "123-456-658",
         "Joseph Christ",
         "250.00",
         "100.00",
         "ES",
         "50.00",
         "ADD",
         "2024-07-21T07:58:04.651+0000",
         "2024-07-01",
         "2024-07-21",
         "BATCH-2024-07-21-07_58_04"
        ],
        [
         "123462838-SS",
         "f237165c-6dc2-4695-9635-6245f8913c54",
         "123-456-659",
         "Jane Christ",
         "251.00",
         "400.00",
         "ES",
         "55.00",
         "ADD",
         "2024-07-21T08:19:21.900+0000",
         "2024-07-01",
         "2024-07-21",
         "BATCH-2024-07-21-08_19_21"
        ],
        [
         "123462835-SS",
         "f237165c-6dc2-4695-9635-6245f8913c65",
         "123-456-680",
         "Alpha",
         "351.00",
         "400.00",
         "ES",
         "55.00",
         "ADD",
         "2024-07-21T08:30:27.614+0000",
         "2024-07-01",
         "2024-07-21",
         "BATCH-2024-07-21-08_30_27"
        ],
        [
         "123462869-SS",
         "l237165c-6dc2-4695-9635-6245f8913g57",
         "123-456-659",
         "Jane Christ",
         "251.00",
         "450.00",
         "ES",
         "55.00",
         "EDIT",
         "2024-07-21T08:30:27.614+0000",
         "2024-07-01",
         "2024-07-21",
         "BATCH-2024-07-21-08_30_27"
        ]
       ],
       "datasetInfos": [],
       "dbfsResultPath": null,
       "isJsonSchema": true,
       "metadata": {
        "isDbfsCommandResult": false
       },
       "overflow": false,
       "plotOptions": {
        "customPlotOptions": {},
        "displayType": "table",
        "pivotAggregation": null,
        "pivotColumns": null,
        "xColumns": null,
        "yColumns": null
       },
       "removedWidgets": [],
       "schema": [
        {
         "metadata": "{}",
         "name": "invoice_number",
         "type": "\"string\""
        },
        {
         "metadata": "{}",
         "name": "unique_invoice_identifier",
         "type": "\"string\""
        },
        {
         "metadata": "{}",
         "name": "account_number",
         "type": "\"string\""
        },
        {
         "metadata": "{}",
         "name": "customer_name",
         "type": "\"string\""
        },
        {
         "metadata": "{}",
         "name": "vat_amount",
         "type": "\"decimal(10,2)\""
        },
        {
         "metadata": "{}",
         "name": "vat_breakdown_amount",
         "type": "\"decimal(10,2)\""
        },
        {
         "metadata": "{}",
         "name": "tax_exemption_code",
         "type": "\"string\""
        },
        {
         "metadata": "{}",
         "name": "tax_exemption_amount",
         "type": "\"decimal(10,2)\""
        },
        {
         "metadata": "{}",
         "name": "invoice_status",
         "type": "\"string\""
        },
        {
         "metadata": "{}",
         "name": "target_committime",
         "type": "\"timestamp\""
        },
        {
         "metadata": "{}",
         "name": "load_month",
         "type": "\"date\""
        },
        {
         "metadata": "{}",
         "name": "load_date",
         "type": "\"date\""
        },
        {
         "metadata": "{}",
         "name": "batch_id",
         "type": "\"string\""
        }
       ],
       "type": "table"
      }
     },
     "output_type": "display_data"
    }
   ],
   "source": [
    "stream_vat_df.display()"
   ]
  },
  {
   "cell_type": "code",
   "execution_count": 0,
   "metadata": {
    "application/vnd.databricks.v1+cell": {
     "cellMetadata": {
      "byteLimit": 2048000,
      "rowLimit": 10000
     },
     "inputWidgets": {},
     "nuid": "878fa3f3-3034-45ea-87af-eab988544c6a",
     "showTitle": false,
     "title": ""
    }
   },
   "outputs": [],
   "source": [
    "aggregated_df = stream_vat_df \\\n",
    "    .groupBy(\"account_number\", \"customer_name\") \\\n",
    "    .agg(\n",
    "        expr(\"sum(vat_amount) as total_vat_amount\"),\n",
    "        expr(\"sum(vat_breakdown_amount) as total_vat_brkdown_amt\"),\n",
    "        expr(\"sum(tax_exemption_amount) as total_tax_exmpt_amt\")\n",
    "    ) \\\n",
    "    .withColumn(\"target_committime\", current_timestamp())"
   ]
  },
  {
   "cell_type": "code",
   "execution_count": 0,
   "metadata": {
    "application/vnd.databricks.v1+cell": {
     "cellMetadata": {
      "byteLimit": 2048000,
      "rowLimit": 10000
     },
     "inputWidgets": {},
     "nuid": "1948b0f1-0672-46e0-b708-9bf7b89a423c",
     "showTitle": false,
     "title": ""
    }
   },
   "outputs": [
    {
     "output_type": "display_data",
     "data": {
      "text/html": [
       "<style scoped>\n",
       "  .table-result-container {\n",
       "    max-height: 300px;\n",
       "    overflow: auto;\n",
       "  }\n",
       "  table, th, td {\n",
       "    border: 1px solid black;\n",
       "    border-collapse: collapse;\n",
       "  }\n",
       "  th, td {\n",
       "    padding: 5px;\n",
       "  }\n",
       "  th {\n",
       "    text-align: left;\n",
       "  }\n",
       "</style><div class='table-result-container'><table class='table-result'><thead style='background-color: white'><tr><th>account_number</th><th>customer_name</th><th>total_vat_amount</th><th>total_vat_brkdown_amt</th><th>total_tax_exmpt_amt</th><th>target_committime</th></tr></thead><tbody><tr><td>123-456-680</td><td>Alpha</td><td>351.00</td><td>400.00</td><td>55.00</td><td>2024-07-21T10:59:34.628+0000</td></tr><tr><td>123-456-658</td><td>Joseph Christ</td><td>250.00</td><td>100.00</td><td>50.00</td><td>2024-07-21T10:59:34.628+0000</td></tr><tr><td>123-456-659</td><td>Jane Christ</td><td>502.00</td><td>850.00</td><td>110.00</td><td>2024-07-21T10:59:34.628+0000</td></tr></tbody></table></div>"
      ]
     },
     "metadata": {
      "application/vnd.databricks.v1+output": {
       "addedWidgets": {},
       "aggData": [],
       "aggError": "",
       "aggOverflow": false,
       "aggSchema": [],
       "aggSeriesLimitReached": false,
       "aggType": "",
       "arguments": {},
       "columnCustomDisplayInfos": {},
       "data": [
        [
         "123-456-680",
         "Alpha",
         "351.00",
         "400.00",
         "55.00",
         "2024-07-21T10:59:34.628+0000"
        ],
        [
         "123-456-658",
         "Joseph Christ",
         "250.00",
         "100.00",
         "50.00",
         "2024-07-21T10:59:34.628+0000"
        ],
        [
         "123-456-659",
         "Jane Christ",
         "502.00",
         "850.00",
         "110.00",
         "2024-07-21T10:59:34.628+0000"
        ]
       ],
       "datasetInfos": [],
       "dbfsResultPath": null,
       "isJsonSchema": true,
       "metadata": {
        "isDbfsCommandResult": false
       },
       "overflow": false,
       "plotOptions": {
        "customPlotOptions": {},
        "displayType": "table",
        "pivotAggregation": null,
        "pivotColumns": null,
        "xColumns": null,
        "yColumns": null
       },
       "removedWidgets": [],
       "schema": [
        {
         "metadata": "{}",
         "name": "account_number",
         "type": "\"string\""
        },
        {
         "metadata": "{}",
         "name": "customer_name",
         "type": "\"string\""
        },
        {
         "metadata": "{}",
         "name": "total_vat_amount",
         "type": "\"decimal(20,2)\""
        },
        {
         "metadata": "{}",
         "name": "total_vat_brkdown_amt",
         "type": "\"decimal(20,2)\""
        },
        {
         "metadata": "{}",
         "name": "total_tax_exmpt_amt",
         "type": "\"decimal(20,2)\""
        },
        {
         "metadata": "{}",
         "name": "target_committime",
         "type": "\"timestamp\""
        }
       ],
       "type": "table"
      }
     },
     "output_type": "display_data"
    }
   ],
   "source": [
    "aggregated_df.display()"
   ]
  },
  {
   "cell_type": "code",
   "execution_count": 0,
   "metadata": {
    "application/vnd.databricks.v1+cell": {
     "cellMetadata": {
      "byteLimit": 2048000,
      "rowLimit": 10000
     },
     "inputWidgets": {},
     "nuid": "7ae355db-c163-47cf-a2a3-3117d7edef84",
     "showTitle": false,
     "title": ""
    }
   },
   "outputs": [],
   "source": [
    "def update_table(vat_total_df,batch_id):\n",
    "    vat_total_df.createOrReplaceTempView(\"vat_total_temp\")\n",
    "    merge_statement = \"\"\"merge into invoice_db.invoice_total_vat_data_stg t using vat_total_temp s\n",
    "    on t.account_number == s.account_number and t.customer_name == s.customer_name \n",
    "    when matched then\n",
    "    update set\n",
    "    t.total_vat_amount = t.total_vat_amount + s.total_vat_amount, \n",
    "    t.total_vat_brkdown_amt = t.total_vat_brkdown_amt + s.total_vat_brkdown_amt, \n",
    "    t.total_tax_exmpt_amt = t.total_tax_exmpt_amt + s.total_tax_exmpt_amt,\n",
    "    t.target_committime = s.target_committime\n",
    "    when not matched then\n",
    "    insert *\n",
    "    \"\"\"\n",
    "    vat_total_df._jdf.sparkSession().sql(merge_statement)"
   ]
  },
  {
   "cell_type": "code",
   "execution_count": 0,
   "metadata": {
    "application/vnd.databricks.v1+cell": {
     "cellMetadata": {
      "byteLimit": 2048000,
      "rowLimit": 10000
     },
     "inputWidgets": {},
     "nuid": "ae8b2a1c-ffef-4762-a6b9-8834301e448c",
     "showTitle": false,
     "title": ""
    }
   },
   "outputs": [
    {
     "output_type": "display_data",
     "data": {
      "text/html": [
       "<style scoped>\n",
       "  .ansiout {\n",
       "    display: block;\n",
       "    unicode-bidi: embed;\n",
       "    white-space: pre-wrap;\n",
       "    word-wrap: break-word;\n",
       "    word-break: break-all;\n",
       "    font-family: \"Menlo\", \"Monaco\", \"Consolas\", \"Ubuntu Mono\", \"Source Code Pro\", monospace;\n",
       "    font-size: 13px;\n",
       "    color: #555;\n",
       "    margin-left: 4px;\n",
       "    line-height: 19px;\n",
       "  }\n",
       "</style>"
      ]
     },
     "metadata": {
      "application/vnd.databricks.v1+output": {
       "arguments": {},
       "data": "",
       "errorSummary": "Cancelled",
       "errorTraceType": "html",
       "metadata": {},
       "type": "ipynbError"
      }
     },
     "output_type": "display_data"
    }
   ],
   "source": [
    "query = aggregated_df.writeStream \\\n",
    "    .foreachBatch(update_table) \\\n",
    "    .outputMode(\"update\") \\\n",
    "    .option(\"checkpointLocation\", \"/FileStore/tables/invoices/invoice_total_vat_data_chkpt\") \\\n",
    "    .start()\n",
    "\n",
    "query.awaitTermination()"
   ]
  }
 ],
 "metadata": {
  "application/vnd.databricks.v1+notebook": {
   "dashboards": [],
   "environmentMetadata": null,
   "language": "python",
   "notebookMetadata": {
    "pythonIndentUnit": 4
   },
   "notebookName": "load_total_vat_dtls_per_account",
   "widgets": {}
  }
 },
 "nbformat": 4,
 "nbformat_minor": 0
}
