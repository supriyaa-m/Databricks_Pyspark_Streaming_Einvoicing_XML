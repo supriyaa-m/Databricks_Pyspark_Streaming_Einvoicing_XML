{
 "cells": [
  {
   "cell_type": "code",
   "execution_count": 0,
   "metadata": {
    "application/vnd.databricks.v1+cell": {
     "cellMetadata": {
      "byteLimit": 2048000,
      "implicitDf": true,
      "rowLimit": 10000
     },
     "inputWidgets": {},
     "nuid": "038dcfd1-a970-4d5f-a244-5a846c47a277",
     "showTitle": false,
     "title": ""
    }
   },
   "outputs": [
    {
     "output_type": "display_data",
     "data": {
      "text/html": [
       "<style scoped>\n",
       "  .table-result-container {\n",
       "    max-height: 300px;\n",
       "    overflow: auto;\n",
       "  }\n",
       "  table, th, td {\n",
       "    border: 1px solid black;\n",
       "    border-collapse: collapse;\n",
       "  }\n",
       "  th, td {\n",
       "    padding: 5px;\n",
       "  }\n",
       "  th {\n",
       "    text-align: left;\n",
       "  }\n",
       "</style><div class='table-result-container'><table class='table-result'><thead style='background-color: white'><tr></tr></thead><tbody></tbody></table></div>"
      ]
     },
     "metadata": {
      "application/vnd.databricks.v1+output": {
       "addedWidgets": {},
       "aggData": [],
       "aggError": "",
       "aggOverflow": false,
       "aggSchema": [],
       "aggSeriesLimitReached": false,
       "aggType": "",
       "arguments": {},
       "columnCustomDisplayInfos": {},
       "data": [],
       "datasetInfos": [],
       "dbfsResultPath": null,
       "isJsonSchema": true,
       "metadata": {},
       "overflow": false,
       "plotOptions": {
        "customPlotOptions": {},
        "displayType": "table",
        "pivotAggregation": null,
        "pivotColumns": null,
        "xColumns": null,
        "yColumns": null
       },
       "removedWidgets": [],
       "schema": [],
       "type": "table"
      }
     },
     "output_type": "display_data"
    }
   ],
   "source": [
    "%sql\n",
    "CREATE DATABASE IF NOT EXISTS invoice_db;\n"
   ]
  },
  {
   "cell_type": "code",
   "execution_count": 0,
   "metadata": {
    "application/vnd.databricks.v1+cell": {
     "cellMetadata": {},
     "inputWidgets": {},
     "nuid": "a8b51170-0bc7-4340-9ab7-89114b28bb32",
     "showTitle": false,
     "title": ""
    }
   },
   "outputs": [],
   "source": [
    "%sql\n",
    "CREATE OR REPLACE TABLE invoice_db.xml_reject_audit_table\n",
    "(\n",
    "    filename STRING,\n",
    "    error_message STRING,\n",
    "    reject_date TIMESTAMP\n",
    ")\n",
    "USING DELTA\n",
    "LOCATION '/FileStore/tables/invoice_tables/xml_reject_audit_table';"
   ]
  },
  {
   "cell_type": "code",
   "execution_count": 0,
   "metadata": {
    "application/vnd.databricks.v1+cell": {
     "cellMetadata": {
      "byteLimit": 2048000,
      "implicitDf": true,
      "rowLimit": 10000
     },
     "inputWidgets": {},
     "nuid": "53f1e835-40b8-4698-8d37-cf0154786241",
     "showTitle": false,
     "title": ""
    }
   },
   "outputs": [
    {
     "output_type": "display_data",
     "data": {
      "text/html": [
       "<style scoped>\n",
       "  .table-result-container {\n",
       "    max-height: 300px;\n",
       "    overflow: auto;\n",
       "  }\n",
       "  table, th, td {\n",
       "    border: 1px solid black;\n",
       "    border-collapse: collapse;\n",
       "  }\n",
       "  th, td {\n",
       "    padding: 5px;\n",
       "  }\n",
       "  th {\n",
       "    text-align: left;\n",
       "  }\n",
       "</style><div class='table-result-container'><table class='table-result'><thead style='background-color: white'><tr></tr></thead><tbody></tbody></table></div>"
      ]
     },
     "metadata": {
      "application/vnd.databricks.v1+output": {
       "addedWidgets": {},
       "aggData": [],
       "aggError": "",
       "aggOverflow": false,
       "aggSchema": [],
       "aggSeriesLimitReached": false,
       "aggType": "",
       "arguments": {},
       "columnCustomDisplayInfos": {},
       "data": [],
       "datasetInfos": [],
       "dbfsResultPath": null,
       "isJsonSchema": true,
       "metadata": {},
       "overflow": false,
       "plotOptions": {
        "customPlotOptions": {},
        "displayType": "table",
        "pivotAggregation": null,
        "pivotColumns": null,
        "xColumns": null,
        "yColumns": null
       },
       "removedWidgets": [],
       "schema": [],
       "type": "table"
      }
     },
     "output_type": "display_data"
    }
   ],
   "source": [
    "%sql\n",
    "CREATE TABLE IF NOT EXISTS invoice_db.invoice_cust_data_stg (\n",
    "    xml_content STRING,\n",
    "    invoice_number STRING,\n",
    "    unique_invoice_identifier STRING,\n",
    "    account_number STRING,\n",
    "    invoice_hash STRING,\n",
    "    invoice_date DATE,\n",
    "    customer_name STRING,\n",
    "    customer_state STRING,\n",
    "    customer_city STRING,\n",
    "    company_name STRING,\n",
    "    company_state STRING,\n",
    "    company_city STRING,\n",
    "    invoice_status STRING,\n",
    "    file_name STRING,\n",
    "    target_committime TIMESTAMP,\n",
    "    load_month DATE,\n",
    "    load_date DATE,\n",
    "    batch_id STRING\n",
    ")\n",
    "USING DELTA\n",
    "LOCATION '/FileStore/tables/invoice_tables/invoice_cust_data_stg'\n",
    "PARTITIONED BY (load_month);"
   ]
  },
  {
   "cell_type": "code",
   "execution_count": 0,
   "metadata": {
    "application/vnd.databricks.v1+cell": {
     "cellMetadata": {
      "byteLimit": 2048000,
      "implicitDf": true,
      "rowLimit": 10000
     },
     "inputWidgets": {},
     "nuid": "a8ab3ece-6356-493b-b47c-20b2938b3f15",
     "showTitle": false,
     "title": ""
    }
   },
   "outputs": [
    {
     "output_type": "display_data",
     "data": {
      "text/html": [
       "<style scoped>\n",
       "  .table-result-container {\n",
       "    max-height: 300px;\n",
       "    overflow: auto;\n",
       "  }\n",
       "  table, th, td {\n",
       "    border: 1px solid black;\n",
       "    border-collapse: collapse;\n",
       "  }\n",
       "  th, td {\n",
       "    padding: 5px;\n",
       "  }\n",
       "  th {\n",
       "    text-align: left;\n",
       "  }\n",
       "</style><div class='table-result-container'><table class='table-result'><thead style='background-color: white'><tr><th>path</th><th>metrics</th></tr></thead><tbody><tr><td>dbfs:/FileStore/tables/invoice_tables/invoice_cust_data_stg</td><td>List(0, 0, List(null, null, 0.0, 0, 0), List(null, null, 0.0, 0, 0), 0, List(minCubeSize(107374182400), List(0, 0), List(0, 0), 0, List(0, 0), 0, null), 0, 0, 0, false, 0, 0, 1720949583527, 1720949585711, 8, 0, null, List(0, 0), 19, 19, 0)</td></tr></tbody></table></div>"
      ]
     },
     "metadata": {
      "application/vnd.databricks.v1+output": {
       "addedWidgets": {},
       "aggData": [],
       "aggError": "",
       "aggOverflow": false,
       "aggSchema": [],
       "aggSeriesLimitReached": false,
       "aggType": "",
       "arguments": {},
       "columnCustomDisplayInfos": {},
       "data": [
        [
         "dbfs:/FileStore/tables/invoice_tables/invoice_cust_data_stg",
         [
          0,
          0,
          [
           null,
           null,
           0.0,
           0,
           0
          ],
          [
           null,
           null,
           0.0,
           0,
           0
          ],
          0,
          [
           "minCubeSize(107374182400)",
           [
            0,
            0
           ],
           [
            0,
            0
           ],
           0,
           [
            0,
            0
           ],
           0,
           null
          ],
          0,
          0,
          0,
          false,
          0,
          0,
          1720949583527,
          1720949585711,
          8,
          0,
          null,
          [
           0,
           0
          ],
          19,
          19,
          0
         ]
        ]
       ],
       "datasetInfos": [],
       "dbfsResultPath": null,
       "isJsonSchema": true,
       "metadata": {},
       "overflow": false,
       "plotOptions": {
        "customPlotOptions": {},
        "displayType": "table",
        "pivotAggregation": null,
        "pivotColumns": null,
        "xColumns": null,
        "yColumns": null
       },
       "removedWidgets": [],
       "schema": [
        {
         "metadata": "{}",
         "name": "path",
         "type": "\"string\""
        },
        {
         "metadata": "{}",
         "name": "metrics",
         "type": "{\"type\":\"struct\",\"fields\":[{\"name\":\"numFilesAdded\",\"type\":\"long\",\"nullable\":false,\"metadata\":{}},{\"name\":\"numFilesRemoved\",\"type\":\"long\",\"nullable\":false,\"metadata\":{}},{\"name\":\"filesAdded\",\"type\":{\"type\":\"struct\",\"fields\":[{\"name\":\"min\",\"type\":\"long\",\"nullable\":true,\"metadata\":{}},{\"name\":\"max\",\"type\":\"long\",\"nullable\":true,\"metadata\":{}},{\"name\":\"avg\",\"type\":\"double\",\"nullable\":false,\"metadata\":{}},{\"name\":\"totalFiles\",\"type\":\"long\",\"nullable\":false,\"metadata\":{}},{\"name\":\"totalSize\",\"type\":\"long\",\"nullable\":false,\"metadata\":{}}]},\"nullable\":true,\"metadata\":{}},{\"name\":\"filesRemoved\",\"type\":{\"type\":\"struct\",\"fields\":[{\"name\":\"min\",\"type\":\"long\",\"nullable\":true,\"metadata\":{}},{\"name\":\"max\",\"type\":\"long\",\"nullable\":true,\"metadata\":{}},{\"name\":\"avg\",\"type\":\"double\",\"nullable\":false,\"metadata\":{}},{\"name\":\"totalFiles\",\"type\":\"long\",\"nullable\":false,\"metadata\":{}},{\"name\":\"totalSize\",\"type\":\"long\",\"nullable\":false,\"metadata\":{}}]},\"nullable\":true,\"metadata\":{}},{\"name\":\"partitionsOptimized\",\"type\":\"long\",\"nullable\":false,\"metadata\":{}},{\"name\":\"zOrderStats\",\"type\":{\"type\":\"struct\",\"fields\":[{\"name\":\"strategyName\",\"type\":\"string\",\"nullable\":true,\"metadata\":{}},{\"name\":\"inputCubeFiles\",\"type\":{\"type\":\"struct\",\"fields\":[{\"name\":\"num\",\"type\":\"long\",\"nullable\":false,\"metadata\":{}},{\"name\":\"size\",\"type\":\"long\",\"nullable\":false,\"metadata\":{}}]},\"nullable\":true,\"metadata\":{}},{\"name\":\"inputOtherFiles\",\"type\":{\"type\":\"struct\",\"fields\":[{\"name\":\"num\",\"type\":\"long\",\"nullable\":false,\"metadata\":{}},{\"name\":\"size\",\"type\":\"long\",\"nullable\":false,\"metadata\":{}}]},\"nullable\":true,\"metadata\":{}},{\"name\":\"inputNumCubes\",\"type\":\"long\",\"nullable\":false,\"metadata\":{}},{\"name\":\"mergedFiles\",\"type\":{\"type\":\"struct\",\"fields\":[{\"name\":\"num\",\"type\":\"long\",\"nullable\":false,\"metadata\":{}},{\"name\":\"size\",\"type\":\"long\",\"nullable\":false,\"metadata\":{}}]},\"nullable\":true,\"metadata\":{}},{\"name\":\"numOutputCubes\",\"type\":\"long\",\"nullable\":false,\"metadata\":{}},{\"name\":\"mergedNumCubes\",\"type\":\"long\",\"nullable\":true,\"metadata\":{}}]},\"nullable\":true,\"metadata\":{}},{\"name\":\"numBatches\",\"type\":\"long\",\"nullable\":false,\"metadata\":{}},{\"name\":\"totalConsideredFiles\",\"type\":\"long\",\"nullable\":false,\"metadata\":{}},{\"name\":\"totalFilesSkipped\",\"type\":\"long\",\"nullable\":false,\"metadata\":{}},{\"name\":\"preserveInsertionOrder\",\"type\":\"boolean\",\"nullable\":false,\"metadata\":{}},{\"name\":\"numFilesSkippedToReduceWriteAmplification\",\"type\":\"long\",\"nullable\":false,\"metadata\":{}},{\"name\":\"numBytesSkippedToReduceWriteAmplification\",\"type\":\"long\",\"nullable\":false,\"metadata\":{}},{\"name\":\"startTimeMs\",\"type\":\"long\",\"nullable\":false,\"metadata\":{}},{\"name\":\"endTimeMs\",\"type\":\"long\",\"nullable\":false,\"metadata\":{}},{\"name\":\"totalClusterParallelism\",\"type\":\"long\",\"nullable\":false,\"metadata\":{}},{\"name\":\"totalScheduledTasks\",\"type\":\"long\",\"nullable\":false,\"metadata\":{}},{\"name\":\"autoCompactParallelismStats\",\"type\":{\"type\":\"struct\",\"fields\":[{\"name\":\"maxClusterActiveParallelism\",\"type\":\"long\",\"nullable\":true,\"metadata\":{}},{\"name\":\"minClusterActiveParallelism\",\"type\":\"long\",\"nullable\":true,\"metadata\":{}},{\"name\":\"maxSessionActiveParallelism\",\"type\":\"long\",\"nullable\":true,\"metadata\":{}},{\"name\":\"minSessionActiveParallelism\",\"type\":\"long\",\"nullable\":true,\"metadata\":{}}]},\"nullable\":true,\"metadata\":{}},{\"name\":\"deletionVectorStats\",\"type\":{\"type\":\"struct\",\"fields\":[{\"name\":\"numDeletionVectorsRemoved\",\"type\":\"long\",\"nullable\":false,\"metadata\":{}},{\"name\":\"numDeletionVectorRowsRemoved\",\"type\":\"long\",\"nullable\":false,\"metadata\":{}}]},\"nullable\":true,\"metadata\":{}},{\"name\":\"numTableColumns\",\"type\":\"long\",\"nullable\":false,\"metadata\":{}},{\"name\":\"numTableColumnsWithStats\",\"type\":\"long\",\"nullable\":false,\"metadata\":{}},{\"name\":\"totalTaskExecutionTimeMs\",\"type\":\"long\",\"nullable\":false,\"metadata\":{}}]}"
        }
       ],
       "type": "table"
      }
     },
     "output_type": "display_data"
    }
   ],
   "source": [
    "%sql\n",
    "optimize invoice_db.invoice_cust_data_stg  zorder by (load_date,account_number,invoice_number) --this code in sep notebook which shud run periodically like daily scheduling"
   ]
  },
  {
   "cell_type": "code",
   "execution_count": 0,
   "metadata": {
    "application/vnd.databricks.v1+cell": {
     "cellMetadata": {
      "byteLimit": 2048000,
      "implicitDf": true,
      "rowLimit": 10000
     },
     "inputWidgets": {},
     "nuid": "db8668aa-722b-408f-95d4-1973bb26ff42",
     "showTitle": false,
     "title": ""
    }
   },
   "outputs": [
    {
     "output_type": "display_data",
     "data": {
      "text/html": [
       "<style scoped>\n",
       "  .table-result-container {\n",
       "    max-height: 300px;\n",
       "    overflow: auto;\n",
       "  }\n",
       "  table, th, td {\n",
       "    border: 1px solid black;\n",
       "    border-collapse: collapse;\n",
       "  }\n",
       "  th, td {\n",
       "    padding: 5px;\n",
       "  }\n",
       "  th {\n",
       "    text-align: left;\n",
       "  }\n",
       "</style><div class='table-result-container'><table class='table-result'><thead style='background-color: white'><tr></tr></thead><tbody></tbody></table></div>"
      ]
     },
     "metadata": {
      "application/vnd.databricks.v1+output": {
       "addedWidgets": {},
       "aggData": [],
       "aggError": "",
       "aggOverflow": false,
       "aggSchema": [],
       "aggSeriesLimitReached": false,
       "aggType": "",
       "arguments": {},
       "columnCustomDisplayInfos": {},
       "data": [],
       "datasetInfos": [],
       "dbfsResultPath": null,
       "isJsonSchema": true,
       "metadata": {},
       "overflow": false,
       "plotOptions": {
        "customPlotOptions": {},
        "displayType": "table",
        "pivotAggregation": null,
        "pivotColumns": null,
        "xColumns": null,
        "yColumns": null
       },
       "removedWidgets": [],
       "schema": [],
       "type": "table"
      }
     },
     "output_type": "display_data"
    }
   ],
   "source": [
    "%sql\n",
    "CREATE TABLE IF NOT EXISTS invoice_db.invoice_vat_data_stg (\n",
    "    invoice_number STRING,\n",
    "    unique_invoice_identifier STRING,\n",
    "    account_number STRING,\n",
    "    customer_name STRING,\n",
    "    vat_amount DECIMAL(10, 2),\n",
    "    vat_breakdown_amount DECIMAL(10, 2),\n",
    "    tax_exemption_code STRING,\n",
    "    tax_exemption_amount DECIMAL(10, 2),\n",
    "    invoice_status STRING,\n",
    "    target_committime TIMESTAMP,\n",
    "    load_month DATE,\n",
    "    load_date DATE,\n",
    "    batch_id STRING\n",
    ")\n",
    "USING DELTA\n",
    "LOCATION '/FileStore/tables/invoice_tables/invoice_vat_data_stg'\n",
    "PARTITIONED BY (load_month);"
   ]
  },
  {
   "cell_type": "code",
   "execution_count": 0,
   "metadata": {
    "application/vnd.databricks.v1+cell": {
     "cellMetadata": {
      "byteLimit": 2048000,
      "implicitDf": true,
      "rowLimit": 10000
     },
     "inputWidgets": {},
     "nuid": "0f699bc2-7228-4f78-93a8-c6d6625c0834",
     "showTitle": false,
     "title": ""
    }
   },
   "outputs": [
    {
     "output_type": "display_data",
     "data": {
      "text/html": [
       "<style scoped>\n",
       "  .table-result-container {\n",
       "    max-height: 300px;\n",
       "    overflow: auto;\n",
       "  }\n",
       "  table, th, td {\n",
       "    border: 1px solid black;\n",
       "    border-collapse: collapse;\n",
       "  }\n",
       "  th, td {\n",
       "    padding: 5px;\n",
       "  }\n",
       "  th {\n",
       "    text-align: left;\n",
       "  }\n",
       "</style><div class='table-result-container'><table class='table-result'><thead style='background-color: white'><tr><th>path</th><th>metrics</th></tr></thead><tbody><tr><td>dbfs:/FileStore/tables/invoice_tables/invoice_vat_data_stg</td><td>List(0, 0, List(null, null, 0.0, 0, 0), List(null, null, 0.0, 0, 0), 0, List(minCubeSize(107374182400), List(0, 0), List(0, 0), 0, List(0, 0), 0, null), 0, 0, 0, false, 0, 0, 1720949591857, 1720949594061, 8, 0, null, List(0, 0), 13, 13, 0)</td></tr></tbody></table></div>"
      ]
     },
     "metadata": {
      "application/vnd.databricks.v1+output": {
       "addedWidgets": {},
       "aggData": [],
       "aggError": "",
       "aggOverflow": false,
       "aggSchema": [],
       "aggSeriesLimitReached": false,
       "aggType": "",
       "arguments": {},
       "columnCustomDisplayInfos": {},
       "data": [
        [
         "dbfs:/FileStore/tables/invoice_tables/invoice_vat_data_stg",
         [
          0,
          0,
          [
           null,
           null,
           0.0,
           0,
           0
          ],
          [
           null,
           null,
           0.0,
           0,
           0
          ],
          0,
          [
           "minCubeSize(107374182400)",
           [
            0,
            0
           ],
           [
            0,
            0
           ],
           0,
           [
            0,
            0
           ],
           0,
           null
          ],
          0,
          0,
          0,
          false,
          0,
          0,
          1720949591857,
          1720949594061,
          8,
          0,
          null,
          [
           0,
           0
          ],
          13,
          13,
          0
         ]
        ]
       ],
       "datasetInfos": [],
       "dbfsResultPath": null,
       "isJsonSchema": true,
       "metadata": {},
       "overflow": false,
       "plotOptions": {
        "customPlotOptions": {},
        "displayType": "table",
        "pivotAggregation": null,
        "pivotColumns": null,
        "xColumns": null,
        "yColumns": null
       },
       "removedWidgets": [],
       "schema": [
        {
         "metadata": "{}",
         "name": "path",
         "type": "\"string\""
        },
        {
         "metadata": "{}",
         "name": "metrics",
         "type": "{\"type\":\"struct\",\"fields\":[{\"name\":\"numFilesAdded\",\"type\":\"long\",\"nullable\":false,\"metadata\":{}},{\"name\":\"numFilesRemoved\",\"type\":\"long\",\"nullable\":false,\"metadata\":{}},{\"name\":\"filesAdded\",\"type\":{\"type\":\"struct\",\"fields\":[{\"name\":\"min\",\"type\":\"long\",\"nullable\":true,\"metadata\":{}},{\"name\":\"max\",\"type\":\"long\",\"nullable\":true,\"metadata\":{}},{\"name\":\"avg\",\"type\":\"double\",\"nullable\":false,\"metadata\":{}},{\"name\":\"totalFiles\",\"type\":\"long\",\"nullable\":false,\"metadata\":{}},{\"name\":\"totalSize\",\"type\":\"long\",\"nullable\":false,\"metadata\":{}}]},\"nullable\":true,\"metadata\":{}},{\"name\":\"filesRemoved\",\"type\":{\"type\":\"struct\",\"fields\":[{\"name\":\"min\",\"type\":\"long\",\"nullable\":true,\"metadata\":{}},{\"name\":\"max\",\"type\":\"long\",\"nullable\":true,\"metadata\":{}},{\"name\":\"avg\",\"type\":\"double\",\"nullable\":false,\"metadata\":{}},{\"name\":\"totalFiles\",\"type\":\"long\",\"nullable\":false,\"metadata\":{}},{\"name\":\"totalSize\",\"type\":\"long\",\"nullable\":false,\"metadata\":{}}]},\"nullable\":true,\"metadata\":{}},{\"name\":\"partitionsOptimized\",\"type\":\"long\",\"nullable\":false,\"metadata\":{}},{\"name\":\"zOrderStats\",\"type\":{\"type\":\"struct\",\"fields\":[{\"name\":\"strategyName\",\"type\":\"string\",\"nullable\":true,\"metadata\":{}},{\"name\":\"inputCubeFiles\",\"type\":{\"type\":\"struct\",\"fields\":[{\"name\":\"num\",\"type\":\"long\",\"nullable\":false,\"metadata\":{}},{\"name\":\"size\",\"type\":\"long\",\"nullable\":false,\"metadata\":{}}]},\"nullable\":true,\"metadata\":{}},{\"name\":\"inputOtherFiles\",\"type\":{\"type\":\"struct\",\"fields\":[{\"name\":\"num\",\"type\":\"long\",\"nullable\":false,\"metadata\":{}},{\"name\":\"size\",\"type\":\"long\",\"nullable\":false,\"metadata\":{}}]},\"nullable\":true,\"metadata\":{}},{\"name\":\"inputNumCubes\",\"type\":\"long\",\"nullable\":false,\"metadata\":{}},{\"name\":\"mergedFiles\",\"type\":{\"type\":\"struct\",\"fields\":[{\"name\":\"num\",\"type\":\"long\",\"nullable\":false,\"metadata\":{}},{\"name\":\"size\",\"type\":\"long\",\"nullable\":false,\"metadata\":{}}]},\"nullable\":true,\"metadata\":{}},{\"name\":\"numOutputCubes\",\"type\":\"long\",\"nullable\":false,\"metadata\":{}},{\"name\":\"mergedNumCubes\",\"type\":\"long\",\"nullable\":true,\"metadata\":{}}]},\"nullable\":true,\"metadata\":{}},{\"name\":\"numBatches\",\"type\":\"long\",\"nullable\":false,\"metadata\":{}},{\"name\":\"totalConsideredFiles\",\"type\":\"long\",\"nullable\":false,\"metadata\":{}},{\"name\":\"totalFilesSkipped\",\"type\":\"long\",\"nullable\":false,\"metadata\":{}},{\"name\":\"preserveInsertionOrder\",\"type\":\"boolean\",\"nullable\":false,\"metadata\":{}},{\"name\":\"numFilesSkippedToReduceWriteAmplification\",\"type\":\"long\",\"nullable\":false,\"metadata\":{}},{\"name\":\"numBytesSkippedToReduceWriteAmplification\",\"type\":\"long\",\"nullable\":false,\"metadata\":{}},{\"name\":\"startTimeMs\",\"type\":\"long\",\"nullable\":false,\"metadata\":{}},{\"name\":\"endTimeMs\",\"type\":\"long\",\"nullable\":false,\"metadata\":{}},{\"name\":\"totalClusterParallelism\",\"type\":\"long\",\"nullable\":false,\"metadata\":{}},{\"name\":\"totalScheduledTasks\",\"type\":\"long\",\"nullable\":false,\"metadata\":{}},{\"name\":\"autoCompactParallelismStats\",\"type\":{\"type\":\"struct\",\"fields\":[{\"name\":\"maxClusterActiveParallelism\",\"type\":\"long\",\"nullable\":true,\"metadata\":{}},{\"name\":\"minClusterActiveParallelism\",\"type\":\"long\",\"nullable\":true,\"metadata\":{}},{\"name\":\"maxSessionActiveParallelism\",\"type\":\"long\",\"nullable\":true,\"metadata\":{}},{\"name\":\"minSessionActiveParallelism\",\"type\":\"long\",\"nullable\":true,\"metadata\":{}}]},\"nullable\":true,\"metadata\":{}},{\"name\":\"deletionVectorStats\",\"type\":{\"type\":\"struct\",\"fields\":[{\"name\":\"numDeletionVectorsRemoved\",\"type\":\"long\",\"nullable\":false,\"metadata\":{}},{\"name\":\"numDeletionVectorRowsRemoved\",\"type\":\"long\",\"nullable\":false,\"metadata\":{}}]},\"nullable\":true,\"metadata\":{}},{\"name\":\"numTableColumns\",\"type\":\"long\",\"nullable\":false,\"metadata\":{}},{\"name\":\"numTableColumnsWithStats\",\"type\":\"long\",\"nullable\":false,\"metadata\":{}},{\"name\":\"totalTaskExecutionTimeMs\",\"type\":\"long\",\"nullable\":false,\"metadata\":{}}]}"
        }
       ],
       "type": "table"
      }
     },
     "output_type": "display_data"
    }
   ],
   "source": [
    "%sql\n",
    "optimize invoice_db.invoice_vat_data_stg  zorder by (load_date,account_number,invoice_number) --this code in sep notebook which shud run periodically like daily scheduling"
   ]
  },
  {
   "cell_type": "code",
   "execution_count": 0,
   "metadata": {
    "application/vnd.databricks.v1+cell": {
     "cellMetadata": {
      "byteLimit": 2048000,
      "implicitDf": true,
      "rowLimit": 10000
     },
     "inputWidgets": {},
     "nuid": "b0ec6a5c-761b-4aa5-8ee1-029f4d233a44",
     "showTitle": false,
     "title": ""
    }
   },
   "outputs": [
    {
     "output_type": "display_data",
     "data": {
      "text/html": [
       "<style scoped>\n",
       "  .table-result-container {\n",
       "    max-height: 300px;\n",
       "    overflow: auto;\n",
       "  }\n",
       "  table, th, td {\n",
       "    border: 1px solid black;\n",
       "    border-collapse: collapse;\n",
       "  }\n",
       "  th, td {\n",
       "    padding: 5px;\n",
       "  }\n",
       "  th {\n",
       "    text-align: left;\n",
       "  }\n",
       "</style><div class='table-result-container'><table class='table-result'><thead style='background-color: white'><tr></tr></thead><tbody></tbody></table></div>"
      ]
     },
     "metadata": {
      "application/vnd.databricks.v1+output": {
       "addedWidgets": {},
       "aggData": [],
       "aggError": "",
       "aggOverflow": false,
       "aggSchema": [],
       "aggSeriesLimitReached": false,
       "aggType": "",
       "arguments": {},
       "columnCustomDisplayInfos": {},
       "data": [],
       "datasetInfos": [],
       "dbfsResultPath": null,
       "isJsonSchema": true,
       "metadata": {},
       "overflow": false,
       "plotOptions": {
        "customPlotOptions": {},
        "displayType": "table",
        "pivotAggregation": null,
        "pivotColumns": null,
        "xColumns": null,
        "yColumns": null
       },
       "removedWidgets": [],
       "schema": [],
       "type": "table"
      }
     },
     "output_type": "display_data"
    }
   ],
   "source": [
    "%sql\n",
    "CREATE TABLE IF NOT EXISTS invoice_db.invoice_line_data_stg (\n",
    "    invoice_number STRING,\n",
    "    unique_invoice_identifier STRING,\n",
    "    account_number STRING,\n",
    "    customer_name STRING,\n",
    "    invoice_line_identifier INT,\n",
    "    invoice_line_amount DECIMAL(10, 2),\n",
    "    price DECIMAL(10, 2),\n",
    "    invoice_start_date DATE,\n",
    "    invoice_end_date DATE,\n",
    "    invoice_total_amount DECIMAL(10, 2),\n",
    "    invoice_status STRING,\n",
    "    target_committime TIMESTAMP,\n",
    "    load_month DATE,\n",
    "    load_date DATE,\n",
    "    batch_id STRING\n",
    ")\n",
    "USING DELTA\n",
    "LOCATION '/FileStore/tables/invoice_tables/invoice_line_data_stg'\n",
    "PARTITIONED BY (load_month);"
   ]
  },
  {
   "cell_type": "code",
   "execution_count": 0,
   "metadata": {
    "application/vnd.databricks.v1+cell": {
     "cellMetadata": {
      "byteLimit": 2048000,
      "implicitDf": true,
      "rowLimit": 10000
     },
     "inputWidgets": {},
     "nuid": "21b60890-9192-4eae-acbf-67d202ce7cbe",
     "showTitle": false,
     "title": ""
    }
   },
   "outputs": [
    {
     "output_type": "display_data",
     "data": {
      "text/html": [
       "<style scoped>\n",
       "  .table-result-container {\n",
       "    max-height: 300px;\n",
       "    overflow: auto;\n",
       "  }\n",
       "  table, th, td {\n",
       "    border: 1px solid black;\n",
       "    border-collapse: collapse;\n",
       "  }\n",
       "  th, td {\n",
       "    padding: 5px;\n",
       "  }\n",
       "  th {\n",
       "    text-align: left;\n",
       "  }\n",
       "</style><div class='table-result-container'><table class='table-result'><thead style='background-color: white'><tr><th>path</th><th>metrics</th></tr></thead><tbody><tr><td>dbfs:/FileStore/tables/invoice_tables/invoice_line_data_stg</td><td>List(0, 0, List(null, null, 0.0, 0, 0), List(null, null, 0.0, 0, 0), 0, List(minCubeSize(107374182400), List(0, 0), List(0, 0), 0, List(0, 0), 0, null), 0, 0, 0, false, 0, 0, 1720949600867, 1720949602166, 8, 0, null, List(0, 0), 15, 15, 0)</td></tr></tbody></table></div>"
      ]
     },
     "metadata": {
      "application/vnd.databricks.v1+output": {
       "addedWidgets": {},
       "aggData": [],
       "aggError": "",
       "aggOverflow": false,
       "aggSchema": [],
       "aggSeriesLimitReached": false,
       "aggType": "",
       "arguments": {},
       "columnCustomDisplayInfos": {},
       "data": [
        [
         "dbfs:/FileStore/tables/invoice_tables/invoice_line_data_stg",
         [
          0,
          0,
          [
           null,
           null,
           0.0,
           0,
           0
          ],
          [
           null,
           null,
           0.0,
           0,
           0
          ],
          0,
          [
           "minCubeSize(107374182400)",
           [
            0,
            0
           ],
           [
            0,
            0
           ],
           0,
           [
            0,
            0
           ],
           0,
           null
          ],
          0,
          0,
          0,
          false,
          0,
          0,
          1720949600867,
          1720949602166,
          8,
          0,
          null,
          [
           0,
           0
          ],
          15,
          15,
          0
         ]
        ]
       ],
       "datasetInfos": [],
       "dbfsResultPath": null,
       "isJsonSchema": true,
       "metadata": {},
       "overflow": false,
       "plotOptions": {
        "customPlotOptions": {},
        "displayType": "table",
        "pivotAggregation": null,
        "pivotColumns": null,
        "xColumns": null,
        "yColumns": null
       },
       "removedWidgets": [],
       "schema": [
        {
         "metadata": "{}",
         "name": "path",
         "type": "\"string\""
        },
        {
         "metadata": "{}",
         "name": "metrics",
         "type": "{\"type\":\"struct\",\"fields\":[{\"name\":\"numFilesAdded\",\"type\":\"long\",\"nullable\":false,\"metadata\":{}},{\"name\":\"numFilesRemoved\",\"type\":\"long\",\"nullable\":false,\"metadata\":{}},{\"name\":\"filesAdded\",\"type\":{\"type\":\"struct\",\"fields\":[{\"name\":\"min\",\"type\":\"long\",\"nullable\":true,\"metadata\":{}},{\"name\":\"max\",\"type\":\"long\",\"nullable\":true,\"metadata\":{}},{\"name\":\"avg\",\"type\":\"double\",\"nullable\":false,\"metadata\":{}},{\"name\":\"totalFiles\",\"type\":\"long\",\"nullable\":false,\"metadata\":{}},{\"name\":\"totalSize\",\"type\":\"long\",\"nullable\":false,\"metadata\":{}}]},\"nullable\":true,\"metadata\":{}},{\"name\":\"filesRemoved\",\"type\":{\"type\":\"struct\",\"fields\":[{\"name\":\"min\",\"type\":\"long\",\"nullable\":true,\"metadata\":{}},{\"name\":\"max\",\"type\":\"long\",\"nullable\":true,\"metadata\":{}},{\"name\":\"avg\",\"type\":\"double\",\"nullable\":false,\"metadata\":{}},{\"name\":\"totalFiles\",\"type\":\"long\",\"nullable\":false,\"metadata\":{}},{\"name\":\"totalSize\",\"type\":\"long\",\"nullable\":false,\"metadata\":{}}]},\"nullable\":true,\"metadata\":{}},{\"name\":\"partitionsOptimized\",\"type\":\"long\",\"nullable\":false,\"metadata\":{}},{\"name\":\"zOrderStats\",\"type\":{\"type\":\"struct\",\"fields\":[{\"name\":\"strategyName\",\"type\":\"string\",\"nullable\":true,\"metadata\":{}},{\"name\":\"inputCubeFiles\",\"type\":{\"type\":\"struct\",\"fields\":[{\"name\":\"num\",\"type\":\"long\",\"nullable\":false,\"metadata\":{}},{\"name\":\"size\",\"type\":\"long\",\"nullable\":false,\"metadata\":{}}]},\"nullable\":true,\"metadata\":{}},{\"name\":\"inputOtherFiles\",\"type\":{\"type\":\"struct\",\"fields\":[{\"name\":\"num\",\"type\":\"long\",\"nullable\":false,\"metadata\":{}},{\"name\":\"size\",\"type\":\"long\",\"nullable\":false,\"metadata\":{}}]},\"nullable\":true,\"metadata\":{}},{\"name\":\"inputNumCubes\",\"type\":\"long\",\"nullable\":false,\"metadata\":{}},{\"name\":\"mergedFiles\",\"type\":{\"type\":\"struct\",\"fields\":[{\"name\":\"num\",\"type\":\"long\",\"nullable\":false,\"metadata\":{}},{\"name\":\"size\",\"type\":\"long\",\"nullable\":false,\"metadata\":{}}]},\"nullable\":true,\"metadata\":{}},{\"name\":\"numOutputCubes\",\"type\":\"long\",\"nullable\":false,\"metadata\":{}},{\"name\":\"mergedNumCubes\",\"type\":\"long\",\"nullable\":true,\"metadata\":{}}]},\"nullable\":true,\"metadata\":{}},{\"name\":\"numBatches\",\"type\":\"long\",\"nullable\":false,\"metadata\":{}},{\"name\":\"totalConsideredFiles\",\"type\":\"long\",\"nullable\":false,\"metadata\":{}},{\"name\":\"totalFilesSkipped\",\"type\":\"long\",\"nullable\":false,\"metadata\":{}},{\"name\":\"preserveInsertionOrder\",\"type\":\"boolean\",\"nullable\":false,\"metadata\":{}},{\"name\":\"numFilesSkippedToReduceWriteAmplification\",\"type\":\"long\",\"nullable\":false,\"metadata\":{}},{\"name\":\"numBytesSkippedToReduceWriteAmplification\",\"type\":\"long\",\"nullable\":false,\"metadata\":{}},{\"name\":\"startTimeMs\",\"type\":\"long\",\"nullable\":false,\"metadata\":{}},{\"name\":\"endTimeMs\",\"type\":\"long\",\"nullable\":false,\"metadata\":{}},{\"name\":\"totalClusterParallelism\",\"type\":\"long\",\"nullable\":false,\"metadata\":{}},{\"name\":\"totalScheduledTasks\",\"type\":\"long\",\"nullable\":false,\"metadata\":{}},{\"name\":\"autoCompactParallelismStats\",\"type\":{\"type\":\"struct\",\"fields\":[{\"name\":\"maxClusterActiveParallelism\",\"type\":\"long\",\"nullable\":true,\"metadata\":{}},{\"name\":\"minClusterActiveParallelism\",\"type\":\"long\",\"nullable\":true,\"metadata\":{}},{\"name\":\"maxSessionActiveParallelism\",\"type\":\"long\",\"nullable\":true,\"metadata\":{}},{\"name\":\"minSessionActiveParallelism\",\"type\":\"long\",\"nullable\":true,\"metadata\":{}}]},\"nullable\":true,\"metadata\":{}},{\"name\":\"deletionVectorStats\",\"type\":{\"type\":\"struct\",\"fields\":[{\"name\":\"numDeletionVectorsRemoved\",\"type\":\"long\",\"nullable\":false,\"metadata\":{}},{\"name\":\"numDeletionVectorRowsRemoved\",\"type\":\"long\",\"nullable\":false,\"metadata\":{}}]},\"nullable\":true,\"metadata\":{}},{\"name\":\"numTableColumns\",\"type\":\"long\",\"nullable\":false,\"metadata\":{}},{\"name\":\"numTableColumnsWithStats\",\"type\":\"long\",\"nullable\":false,\"metadata\":{}},{\"name\":\"totalTaskExecutionTimeMs\",\"type\":\"long\",\"nullable\":false,\"metadata\":{}}]}"
        }
       ],
       "type": "table"
      }
     },
     "output_type": "display_data"
    }
   ],
   "source": [
    "%sql\n",
    "optimize invoice_db.invoice_line_data_stg  zorder by (load_date,account_number,invoice_number) --this code in sep notebook which shud run periodically like daily scheduling"
   ]
  },
  {
   "cell_type": "code",
   "execution_count": 0,
   "metadata": {
    "application/vnd.databricks.v1+cell": {
     "cellMetadata": {
      "byteLimit": 2048000,
      "implicitDf": true,
      "rowLimit": 10000
     },
     "inputWidgets": {},
     "nuid": "c226241b-224a-456d-9d1d-6f05ecf74678",
     "showTitle": false,
     "title": ""
    }
   },
   "outputs": [
    {
     "output_type": "display_data",
     "data": {
      "text/html": [
       "<style scoped>\n",
       "  .table-result-container {\n",
       "    max-height: 300px;\n",
       "    overflow: auto;\n",
       "  }\n",
       "  table, th, td {\n",
       "    border: 1px solid black;\n",
       "    border-collapse: collapse;\n",
       "  }\n",
       "  th, td {\n",
       "    padding: 5px;\n",
       "  }\n",
       "  th {\n",
       "    text-align: left;\n",
       "  }\n",
       "</style><div class='table-result-container'><table class='table-result'><thead style='background-color: white'><tr><th>database</th><th>tableName</th><th>isTemporary</th></tr></thead><tbody><tr><td>invoice_db</td><td>invoice_cust_data_stg</td><td>false</td></tr><tr><td>invoice_db</td><td>invoice_line_data_stg</td><td>false</td></tr><tr><td>invoice_db</td><td>invoice_vat_data_stg</td><td>false</td></tr></tbody></table></div>"
      ]
     },
     "metadata": {
      "application/vnd.databricks.v1+output": {
       "addedWidgets": {},
       "aggData": [],
       "aggError": "",
       "aggOverflow": false,
       "aggSchema": [],
       "aggSeriesLimitReached": false,
       "aggType": "",
       "arguments": {},
       "columnCustomDisplayInfos": {},
       "data": [
        [
         "invoice_db",
         "invoice_cust_data_stg",
         false
        ],
        [
         "invoice_db",
         "invoice_line_data_stg",
         false
        ],
        [
         "invoice_db",
         "invoice_vat_data_stg",
         false
        ]
       ],
       "datasetInfos": [],
       "dbfsResultPath": null,
       "isJsonSchema": true,
       "metadata": {},
       "overflow": false,
       "plotOptions": {
        "customPlotOptions": {},
        "displayType": "table",
        "pivotAggregation": null,
        "pivotColumns": null,
        "xColumns": null,
        "yColumns": null
       },
       "removedWidgets": [],
       "schema": [
        {
         "metadata": "{}",
         "name": "database",
         "type": "\"string\""
        },
        {
         "metadata": "{}",
         "name": "tableName",
         "type": "\"string\""
        },
        {
         "metadata": "{}",
         "name": "isTemporary",
         "type": "\"boolean\""
        }
       ],
       "type": "table"
      }
     },
     "output_type": "display_data"
    }
   ],
   "source": [
    "%sql\n",
    "SHOW TABLES IN invoice_db;"
   ]
  },
  {
   "cell_type": "code",
   "execution_count": 0,
   "metadata": {
    "application/vnd.databricks.v1+cell": {
     "cellMetadata": {
      "byteLimit": 2048000,
      "implicitDf": true,
      "rowLimit": 10000
     },
     "inputWidgets": {},
     "nuid": "76602095-3554-4f21-94b6-063c792e2c77",
     "showTitle": false,
     "title": ""
    }
   },
   "outputs": [
    {
     "output_type": "display_data",
     "data": {
      "text/html": [
       "<style scoped>\n",
       "  .table-result-container {\n",
       "    max-height: 300px;\n",
       "    overflow: auto;\n",
       "  }\n",
       "  table, th, td {\n",
       "    border: 1px solid black;\n",
       "    border-collapse: collapse;\n",
       "  }\n",
       "  th, td {\n",
       "    padding: 5px;\n",
       "  }\n",
       "  th {\n",
       "    text-align: left;\n",
       "  }\n",
       "</style><div class='table-result-container'><table class='table-result'><thead style='background-color: white'><tr><th>col_name</th><th>data_type</th><th>comment</th></tr></thead><tbody><tr><td>xml_content</td><td>string</td><td>null</td></tr><tr><td>invoice_number</td><td>string</td><td>null</td></tr><tr><td>unique_invoice_identifier</td><td>string</td><td>null</td></tr><tr><td>account_number</td><td>string</td><td>null</td></tr><tr><td>invoice_hash</td><td>string</td><td>null</td></tr><tr><td>invoice_date</td><td>date</td><td>null</td></tr><tr><td>customer_name</td><td>string</td><td>null</td></tr><tr><td>customer_state</td><td>string</td><td>null</td></tr><tr><td>customer_city</td><td>string</td><td>null</td></tr><tr><td>company_name</td><td>string</td><td>null</td></tr><tr><td>company_state</td><td>string</td><td>null</td></tr><tr><td>company_city</td><td>string</td><td>null</td></tr><tr><td>invoice_status</td><td>string</td><td>null</td></tr><tr><td>invoice_line_identifier</td><td>int</td><td>null</td></tr><tr><td>file_name</td><td>string</td><td>null</td></tr><tr><td>target_committime</td><td>timestamp</td><td>null</td></tr><tr><td>load_month</td><td>date</td><td>null</td></tr><tr><td>load_date</td><td>date</td><td>null</td></tr><tr><td>batch_id</td><td>string</td><td>null</td></tr><tr><td># Partition Information</td><td></td><td></td></tr><tr><td># col_name</td><td>data_type</td><td>comment</td></tr><tr><td>load_month</td><td>date</td><td>null</td></tr></tbody></table></div>"
      ]
     },
     "metadata": {
      "application/vnd.databricks.v1+output": {
       "addedWidgets": {},
       "aggData": [],
       "aggError": "",
       "aggOverflow": false,
       "aggSchema": [],
       "aggSeriesLimitReached": false,
       "aggType": "",
       "arguments": {},
       "columnCustomDisplayInfos": {},
       "data": [
        [
         "xml_content",
         "string",
         null
        ],
        [
         "invoice_number",
         "string",
         null
        ],
        [
         "unique_invoice_identifier",
         "string",
         null
        ],
        [
         "account_number",
         "string",
         null
        ],
        [
         "invoice_hash",
         "string",
         null
        ],
        [
         "invoice_date",
         "date",
         null
        ],
        [
         "customer_name",
         "string",
         null
        ],
        [
         "customer_state",
         "string",
         null
        ],
        [
         "customer_city",
         "string",
         null
        ],
        [
         "company_name",
         "string",
         null
        ],
        [
         "company_state",
         "string",
         null
        ],
        [
         "company_city",
         "string",
         null
        ],
        [
         "invoice_status",
         "string",
         null
        ],
        [
         "invoice_line_identifier",
         "int",
         null
        ],
        [
         "file_name",
         "string",
         null
        ],
        [
         "target_committime",
         "timestamp",
         null
        ],
        [
         "load_month",
         "date",
         null
        ],
        [
         "load_date",
         "date",
         null
        ],
        [
         "batch_id",
         "string",
         null
        ],
        [
         "# Partition Information",
         "",
         ""
        ],
        [
         "# col_name",
         "data_type",
         "comment"
        ],
        [
         "load_month",
         "date",
         null
        ]
       ],
       "datasetInfos": [],
       "dbfsResultPath": null,
       "isJsonSchema": true,
       "metadata": {},
       "overflow": false,
       "plotOptions": {
        "customPlotOptions": {},
        "displayType": "table",
        "pivotAggregation": null,
        "pivotColumns": null,
        "xColumns": null,
        "yColumns": null
       },
       "removedWidgets": [],
       "schema": [
        {
         "metadata": "{\"comment\":\"name of the column\"}",
         "name": "col_name",
         "type": "\"string\""
        },
        {
         "metadata": "{\"comment\":\"data type of the column\"}",
         "name": "data_type",
         "type": "\"string\""
        },
        {
         "metadata": "{\"comment\":\"comment of the column\"}",
         "name": "comment",
         "type": "\"string\""
        }
       ],
       "type": "table"
      }
     },
     "output_type": "display_data"
    }
   ],
   "source": [
    "%sql\n",
    "DESCRIBE invoice_db.invoice_cust_data_stg;"
   ]
  },
  {
   "cell_type": "code",
   "execution_count": 0,
   "metadata": {
    "application/vnd.databricks.v1+cell": {
     "cellMetadata": {
      "byteLimit": 2048000,
      "implicitDf": true,
      "rowLimit": 10000
     },
     "inputWidgets": {},
     "nuid": "6092ba2e-7319-4b9f-8de5-9ee7ea28300b",
     "showTitle": false,
     "title": ""
    }
   },
   "outputs": [
    {
     "output_type": "display_data",
     "data": {
      "text/html": [
       "<style scoped>\n",
       "  .table-result-container {\n",
       "    max-height: 300px;\n",
       "    overflow: auto;\n",
       "  }\n",
       "  table, th, td {\n",
       "    border: 1px solid black;\n",
       "    border-collapse: collapse;\n",
       "  }\n",
       "  th, td {\n",
       "    padding: 5px;\n",
       "  }\n",
       "  th {\n",
       "    text-align: left;\n",
       "  }\n",
       "</style><div class='table-result-container'><table class='table-result'><thead style='background-color: white'><tr><th>xml_content</th><th>invoice_number</th><th>unique_invoice_identifier</th><th>account_number</th><th>invoice_hash</th><th>invoice_date</th><th>customer_name</th><th>customer_state</th><th>customer_city</th><th>company_name</th><th>company_state</th><th>company_city</th><th>invoice_status</th><th>invoice_line_identifier</th><th>file_name</th><th>target_committime</th><th>load_month</th><th>load_date</th><th>batch_id</th></tr></thead><tbody><tr><td><?xml version='1.0' encoding='UTF-8'?>\n",
       "<invoice>\n",
       "  <invoice_number>123462837-SS</invoice_number>\n",
       "  <unique_invoice_identifier>f237165c-6dc2-4695-9635-6245f8913c54</unique_invoice_identifier>\n",
       "  <account_number>123-456-658</account_number>\n",
       "  <invoice_hash>MTIzNDYyODM3LVNTX2YyMzcxNjVjLTZkYzItNDY5NS05NjM1LTYyNDVmODkxM2M1NA==</invoice_hash>\n",
       "  <invoice_date>18-05-2024</invoice_date>\n",
       "  <customer_address>\n",
       "    <customer_name>Joseph Christ</customer_name>\n",
       "    <customer_state>Pebbas</customer_state>\n",
       "    <customer_city>North</customer_city>\n",
       "  </customer_address>\n",
       "  <company_address>\n",
       "    <company_name>Southern Investors</company_name>\n",
       "    <company_state>Texas</company_state>\n",
       "    <company_city>Atlanta</company_city>\n",
       "  </company_address>\n",
       "  <tax_amount>\n",
       "    <vat_amount>250.0</vat_amount>\n",
       "    <vat_breakdown_amount>100.0</vat_breakdown_amount>\n",
       "    <tax_exemption_code>ES</tax_exemption_code>\n",
       "    <tax_exemption_amount>50.0</tax_exemption_amount>\n",
       "  </tax_amount>\n",
       "  <invoice_line>\n",
       "    <invoice_line_identifier>1</invoice_line_identifier>\n",
       "    <invoice_line_amount>200.0</invoice_line_amount>\n",
       "    <price>200.0</price>\n",
       "    <invoice_start_date>18-05-2024</invoice_start_date>\n",
       "    <invoice_end_date>31-05-2024</invoice_end_date>\n",
       "    <invoice_total_amount>450.0</invoice_total_amount>\n",
       "  </invoice_line>\n",
       "  <invoice_line>\n",
       "    <invoice_line_identifier>2</invoice_line_identifier>\n",
       "    <invoice_line_amount>200.0</invoice_line_amount>\n",
       "    <price>200.0</price>\n",
       "    <invoice_start_date>19-05-2024</invoice_start_date>\n",
       "    <invoice_end_date>01-06-2024</invoice_end_date>\n",
       "    <invoice_total_amount>450.0</invoice_total_amount>\n",
       "  </invoice_line>\n",
       "</invoice></td><td>123462837-SS</td><td>f237165c-6dc2-4695-9635-6245f8913c54</td><td>123-456-658</td><td>MTIzNDYyODM3LVNTX2YyMzcxNjVjLTZkYzItNDY5NS05NjM1LTYyNDVmODkxM2M1NA==</td><td>2024-05-18</td><td>Joseph Christ</td><td>Pebbas</td><td>North</td><td>Southern Investors</td><td>Texas</td><td>Atlanta</td><td>ADD</td><td>null</td><td>dbfs:/FileStore/tables/invoices/xml_landing/xml_file_01.xml</td><td>2024-07-14T09:37:51.442+0000</td><td>2024-07-01</td><td>2024-07-14</td><td>BATCH-2024-07-14-09_37_51</td></tr><tr><td><?xml version='1.0' encoding='UTF-8'?>\n",
       "<invoice>\n",
       "  <invoice_number>123462838-SS</invoice_number>\n",
       "  <unique_invoice_identifier>f237165c-6dc2-4695-9635-6245f8913c54</unique_invoice_identifier>\n",
       "  <account_number>123-456-659</account_number>\n",
       "  <invoice_hash>GHTzNDYyODM3LVNTX2YyMzcxNjVjLTZkYzItNDY5NS05NjM1LTYyNDVmODkxM2M1NA==</invoice_hash>\n",
       "  <invoice_date>20-05-2024</invoice_date>\n",
       "  <customer_address>\n",
       "    <customer_name>Jane Christ</customer_name>\n",
       "    <customer_state>Texas</customer_state>\n",
       "    <customer_city>North</customer_city>\n",
       "  </customer_address>\n",
       "  <company_address>\n",
       "    <company_name>Southern Investors</company_name>\n",
       "    <company_state>Texas</company_state>\n",
       "    <company_city>Atlanta</company_city>\n",
       "  </company_address>\n",
       "  <tax_amount>\n",
       "    <vat_amount>251.0</vat_amount>\n",
       "    <vat_breakdown_amount>400.0</vat_breakdown_amount>\n",
       "    <tax_exemption_code>ES</tax_exemption_code>\n",
       "    <tax_exemption_amount>55.0</tax_exemption_amount>\n",
       "  </tax_amount>\n",
       "  <invoice_line>\n",
       "    <invoice_line_identifier>1</invoice_line_identifier>\n",
       "    <invoice_line_amount>300.0</invoice_line_amount>\n",
       "    <price>200.0</price>\n",
       "    <invoice_start_date>20-05-2024</invoice_start_date>\n",
       "    <invoice_end_date>31-05-2024</invoice_end_date>\n",
       "    <invoice_total_amount>750.0</invoice_total_amount>\n",
       "  </invoice_line>\n",
       "  <invoice_line>\n",
       "    <invoice_line_identifier>2</invoice_line_identifier>\n",
       "    <invoice_line_amount>200.0</invoice_line_amount>\n",
       "    <price>250.0</price>\n",
       "    <invoice_start_date>20-05-2024</invoice_start_date>\n",
       "    <invoice_end_date>04-06-2024</invoice_end_date>\n",
       "    <invoice_total_amount>850.0</invoice_total_amount>\n",
       "  </invoice_line>\n",
       "</invoice></td><td>123462838-SS</td><td>f237165c-6dc2-4695-9635-6245f8913c54</td><td>123-456-659</td><td>GHTzNDYyODM3LVNTX2YyMzcxNjVjLTZkYzItNDY5NS05NjM1LTYyNDVmODkxM2M1NA==</td><td>2024-05-20</td><td>Jane Christ</td><td>Texas</td><td>North</td><td>Southern Investors</td><td>Texas</td><td>Atlanta</td><td>ADD</td><td>null</td><td>dbfs:/FileStore/tables/invoices/xml_landing/xml_file_02.xml</td><td>2024-07-14T09:51:41.884+0000</td><td>2024-07-01</td><td>2024-07-14</td><td>BATCH-2024-07-14-09_51_41</td></tr><tr><td><?xml version='1.0' encoding='UTF-8'?>\n",
       "<invoice>\n",
       "  <invoice_number>123462868-SS</invoice_number>\n",
       "  <unique_invoice_identifier>f237165c-6dc2-4695-9635-6245f8913c94</unique_invoice_identifier>\n",
       "  <account_number>123-456-659</account_number>\n",
       "  <invoice_hash>GHTzNDYyODM3LVNTX2YyMzcxNjVjLTZkYzItNDY5NS05NjM1LTYyNDVmODkxM2M1KA==</invoice_hash>\n",
       "  <invoice_date>21-05-2024</invoice_date>\n",
       "  <customer_address>\n",
       "    <customer_name>Jane Christ</customer_name>\n",
       "    <customer_state>Texas</customer_state>\n",
       "    <customer_city>North</customer_city>\n",
       "  </customer_address>\n",
       "  <company_address>\n",
       "    <company_name>Southern Investors</company_name>\n",
       "    <company_state>Texas</company_state>\n",
       "    <company_city>Atlanta</company_city>\n",
       "  </company_address>\n",
       "  <tax_amount>\n",
       "    <vat_amount>551.0</vat_amount>\n",
       "    <vat_breakdown_amount>200.0</vat_breakdown_amount>\n",
       "    <tax_exemption_code>ES</tax_exemption_code>\n",
       "    <tax_exemption_amount>65.0</tax_exemption_amount>\n",
       "  </tax_amount>\n",
       "  <invoice_line>\n",
       "    <invoice_line_identifier>1</invoice_line_identifier>\n",
       "    <invoice_line_amount>400.0</invoice_line_amount>\n",
       "    <price>250.0</price>\n",
       "    <invoice_start_date>21-05-2024</invoice_start_date>\n",
       "    <invoice_end_date>31-05-2024</invoice_end_date>\n",
       "    <invoice_total_amount>760.0</invoice_total_amount>\n",
       "  </invoice_line>\n",
       "  <invoice_line>\n",
       "    <invoice_line_identifier>2</invoice_line_identifier>\n",
       "    <invoice_line_amount>200.0</invoice_line_amount>\n",
       "    <price>280.0</price>\n",
       "    <invoice_start_date>21-05-2024</invoice_start_date>\n",
       "    <invoice_end_date>04-06-2024</invoice_end_date>\n",
       "    <invoice_total_amount>890.0</invoice_total_amount>\n",
       "  </invoice_line>\n",
       "</invoice></td><td>123462868-SS</td><td>f237165c-6dc2-4695-9635-6245f8913c94</td><td>123-456-659</td><td>GHTzNDYyODM3LVNTX2YyMzcxNjVjLTZkYzItNDY5NS05NjM1LTYyNDVmODkxM2M1KA==</td><td>2024-05-21</td><td>Jane Christ</td><td>Texas</td><td>North</td><td>Southern Investors</td><td>Texas</td><td>Atlanta</td><td>EDIT</td><td>null</td><td>dbfs:/FileStore/tables/invoices/xml_landing/xml_07.xml</td><td>2024-07-14T10:57:25.617+0000</td><td>2024-07-01</td><td>2024-07-14</td><td>BATCH-2024-07-14-10_57_25</td></tr><tr><td><?xml version='1.0' encoding='UTF-8'?>\n",
       "<invoice>\n",
       "  <invoice_number>123462869-SS</invoice_number>\n",
       "  <unique_invoice_identifier>l237165c-6dc2-4695-9635-6245f8913g57</unique_invoice_identifier>\n",
       "  <account_number>123-456-659</account_number>\n",
       "  <invoice_hash>KHTzNDYyODM3LVNTX2YyMzcxNjVjLTZkYzItNDY5NS05NtM1LTYyNDVmODkxM2M1MP==</invoice_hash>\n",
       "  <invoice_date>26-05-2024</invoice_date>\n",
       "  <customer_address>\n",
       "    <customer_name>Jane Christ</customer_name>\n",
       "    <customer_state>SA</customer_state>\n",
       "    <customer_city>North</customer_city>\n",
       "  </customer_address>\n",
       "  <company_address>\n",
       "    <company_name>Southern Investors</company_name>\n",
       "    <company_state>Texas</company_state>\n",
       "    <company_city>Atlanta</company_city>\n",
       "  </company_address>\n",
       "  <tax_amount>\n",
       "    <vat_amount>251.0</vat_amount>\n",
       "    <vat_breakdown_amount>450.0</vat_breakdown_amount>\n",
       "    <tax_exemption_code>ES</tax_exemption_code>\n",
       "    <tax_exemption_amount>55.0</tax_exemption_amount>\n",
       "  </tax_amount>\n",
       "  <invoice_line>\n",
       "    <invoice_line_identifier>1</invoice_line_identifier>\n",
       "    <invoice_line_amount>300.0</invoice_line_amount>\n",
       "    <price>200.0</price>\n",
       "    <invoice_start_date>20-05-2024</invoice_start_date>\n",
       "    <invoice_end_date>31-05-2024</invoice_end_date>\n",
       "    <invoice_total_amount>750.0</invoice_total_amount>\n",
       "  </invoice_line>\n",
       "  <invoice_line>\n",
       "    <invoice_line_identifier>2</invoice_line_identifier>\n",
       "    <invoice_line_amount>200.0</invoice_line_amount>\n",
       "    <price>250.0</price>\n",
       "    <invoice_start_date>20-05-2024</invoice_start_date>\n",
       "    <invoice_end_date>04-06-2024</invoice_end_date>\n",
       "    <invoice_total_amount>850.0</invoice_total_amount>\n",
       "  </invoice_line>\n",
       "</invoice></td><td>123462869-SS</td><td>l237165c-6dc2-4695-9635-6245f8913g57</td><td>123-456-659</td><td>KHTzNDYyODM3LVNTX2YyMzcxNjVjLTZkYzItNDY5NS05NtM1LTYyNDVmODkxM2M1MP==</td><td>2024-05-26</td><td>Jane Christ</td><td>SA</td><td>North</td><td>Southern Investors</td><td>Texas</td><td>Atlanta</td><td>EDIT</td><td>null</td><td>dbfs:/FileStore/tables/invoices/xml_landing/xml_04.xml</td><td>2024-07-14T10:18:10.145+0000</td><td>2024-07-01</td><td>2024-07-14</td><td>BATCH-2024-07-14-10_18_10</td></tr><tr><td><?xml version='1.0' encoding='UTF-8'?>\n",
       "<invoice>\n",
       "  <invoice_number>223462839-SS</invoice_number>\n",
       "  <unique_invoice_identifier>g237165c-6dc2-4695-9635-6245f8913c95</unique_invoice_identifier>\n",
       "  <account_number>123-456-680</account_number>\n",
       "  <invoice_hash>SPxzNDYyODM3LVNTX2YyMzcxNjVjLTZkYzItNDY5NS15NjM1LTYyNDPmODkxM2K1NA==</invoice_hash>\n",
       "  <invoice_date>29-05-2024</invoice_date>\n",
       "  <customer_address>\n",
       "    <customer_name>Alpha</customer_name>\n",
       "    <customer_state>Canes</customer_state>\n",
       "    <customer_city>North</customer_city>\n",
       "  </customer_address>\n",
       "  <company_address>\n",
       "    <company_name>Southern Investors</company_name>\n",
       "    <company_state>Texas</company_state>\n",
       "    <company_city>Atlanta</company_city>\n",
       "  </company_address>\n",
       "  <tax_amount>\n",
       "    <vat_amount>451.0</vat_amount>\n",
       "    <vat_breakdown_amount>600.0</vat_breakdown_amount>\n",
       "    <tax_exemption_code>ES</tax_exemption_code>\n",
       "    <tax_exemption_amount>75.0</tax_exemption_amount>\n",
       "  </tax_amount>\n",
       "  <invoice_line>\n",
       "    <invoice_line_identifier>1</invoice_line_identifier>\n",
       "    <invoice_line_amount>650.0</invoice_line_amount>\n",
       "    <price>240.0</price>\n",
       "    <invoice_start_date>29-05-2024</invoice_start_date>\n",
       "    <invoice_end_date>03-06-2024</invoice_end_date>\n",
       "    <invoice_total_amount>780.0</invoice_total_amount>\n",
       "  </invoice_line>\n",
       "</invoice></td><td>223462839-SS</td><td>g237165c-6dc2-4695-9635-6245f8913c95</td><td>123-456-680</td><td>SPxzNDYyODM3LVNTX2YyMzcxNjVjLTZkYzItNDY5NS15NjM1LTYyNDPmODkxM2K1NA==</td><td>2024-05-29</td><td>Alpha</td><td>Canes</td><td>North</td><td>Southern Investors</td><td>Texas</td><td>Atlanta</td><td>EDIT</td><td>null</td><td>dbfs:/FileStore/tables/invoices/xml_landing/xml_05.xml</td><td>2024-07-14T10:35:00.898+0000</td><td>2024-07-01</td><td>2024-07-14</td><td>BATCH-2024-07-14-10_35_00</td></tr><tr><td><?xml version='1.0' encoding='UTF-8'?>\n",
       "<invoice>\n",
       "  <invoice_number>233462839-SS</invoice_number>\n",
       "  <unique_invoice_identifier>k237165c-6dc2-4695-9635-6245f8913c99</unique_invoice_identifier>\n",
       "  <account_number>123-456-680</account_number>\n",
       "  <invoice_hash>SPcvNDYyODM3LVNTX2YyMzcxNjVjLTZkYzItNDY5NS15NjM1TTYhNDPmODkxM2K1FG==</invoice_hash>\n",
       "  <invoice_date>30-05-2024</invoice_date>\n",
       "  <customer_address>\n",
       "    <customer_name>Alpha</customer_name>\n",
       "    <customer_state>Canes</customer_state>\n",
       "    <customer_city>North</customer_city>\n",
       "  </customer_address>\n",
       "  <company_address>\n",
       "    <company_name>Southern Investors</company_name>\n",
       "    <company_state>Texas</company_state>\n",
       "    <company_city>Atlanta</company_city>\n",
       "  </company_address>\n",
       "  <tax_amount>\n",
       "    <vat_amount>461.0</vat_amount>\n",
       "    <vat_breakdown_amount>630.0</vat_breakdown_amount>\n",
       "    <tax_exemption_code>ES</tax_exemption_code>\n",
       "    <tax_exemption_amount>85.0</tax_exemption_amount>\n",
       "  </tax_amount>\n",
       "  <invoice_line>\n",
       "    <invoice_line_identifier>1</invoice_line_identifier>\n",
       "    <invoice_line_amount>690.0</invoice_line_amount>\n",
       "    <price>290.0</price>\n",
       "    <invoice_start_date>30-05-2024</invoice_start_date>\n",
       "    <invoice_end_date>05-06-2024</invoice_end_date>\n",
       "    <invoice_total_amount>880.0</invoice_total_amount>\n",
       "  </invoice_line>\n",
       "</invoice></td><td>233462839-SS</td><td>k237165c-6dc2-4695-9635-6245f8913c99</td><td>123-456-680</td><td>SPcvNDYyODM3LVNTX2YyMzcxNjVjLTZkYzItNDY5NS15NjM1TTYhNDPmODkxM2K1FG==</td><td>2024-05-30</td><td>Alpha</td><td>Canes</td><td>North</td><td>Southern Investors</td><td>Texas</td><td>Atlanta</td><td>EDIT</td><td>null</td><td>dbfs:/FileStore/tables/invoices/xml_landing/xml_06.xml</td><td>2024-07-14T10:47:06.458+0000</td><td>2024-07-01</td><td>2024-07-14</td><td>BATCH-2024-07-14-10_47_06</td></tr><tr><td><?xml version='1.0' encoding='UTF-8'?>\n",
       "<invoice>\n",
       "  <invoice_number>123462835-SS</invoice_number>\n",
       "  <unique_invoice_identifier>f237165c-6dc2-4695-9635-6245f8913c65</unique_invoice_identifier>\n",
       "  <account_number>123-456-680</account_number>\n",
       "  <invoice_hash>QPxzNDYyODM3LVNTX2YyMzcxNjVjLTZkYzItNDY5NS05NjM1LTYyNDVmODkxM2M1NA==</invoice_hash>\n",
       "  <invoice_date>20-05-2024</invoice_date>\n",
       "  <customer_address>\n",
       "    <customer_name>Alpha</customer_name>\n",
       "    <customer_state>Canes</customer_state>\n",
       "    <customer_city>North</customer_city>\n",
       "  </customer_address>\n",
       "  <company_address>\n",
       "    <company_name>Southern Investors</company_name>\n",
       "    <company_state>Texas</company_state>\n",
       "    <company_city>Atlanta</company_city>\n",
       "  </company_address>\n",
       "  <tax_amount>\n",
       "    <vat_amount>351.0</vat_amount>\n",
       "    <vat_breakdown_amount>400.0</vat_breakdown_amount>\n",
       "    <tax_exemption_code>ES</tax_exemption_code>\n",
       "    <tax_exemption_amount>55.0</tax_exemption_amount>\n",
       "  </tax_amount>\n",
       "  <invoice_line>\n",
       "    <invoice_line_identifier>1</invoice_line_identifier>\n",
       "    <invoice_line_amount>600.0</invoice_line_amount>\n",
       "    <price>200.0</price>\n",
       "    <invoice_start_date>20-05-2024</invoice_start_date>\n",
       "    <invoice_end_date>31-05-2024</invoice_end_date>\n",
       "    <invoice_total_amount>750.0</invoice_total_amount>\n",
       "  </invoice_line>\n",
       "</invoice></td><td>123462835-SS</td><td>f237165c-6dc2-4695-9635-6245f8913c65</td><td>123-456-680</td><td>QPxzNDYyODM3LVNTX2YyMzcxNjVjLTZkYzItNDY5NS05NjM1LTYyNDVmODkxM2M1NA==</td><td>2024-05-20</td><td>Alpha</td><td>Canes</td><td>North</td><td>Southern Investors</td><td>Texas</td><td>Atlanta</td><td>ADD</td><td>null</td><td>dbfs:/FileStore/tables/invoices/xml_landing/xml_03.xml</td><td>2024-07-14T10:05:45.145+0000</td><td>2024-07-01</td><td>2024-07-14</td><td>BATCH-2024-07-14-10_05_45</td></tr></tbody></table></div>"
      ]
     },
     "metadata": {
      "application/vnd.databricks.v1+output": {
       "addedWidgets": {},
       "aggData": [],
       "aggError": "",
       "aggOverflow": false,
       "aggSchema": [],
       "aggSeriesLimitReached": false,
       "aggType": "",
       "arguments": {},
       "columnCustomDisplayInfos": {},
       "data": [
        [
         "<?xml version='1.0' encoding='UTF-8'?>\n<invoice>\n  <invoice_number>123462837-SS</invoice_number>\n  <unique_invoice_identifier>f237165c-6dc2-4695-9635-6245f8913c54</unique_invoice_identifier>\n  <account_number>123-456-658</account_number>\n  <invoice_hash>MTIzNDYyODM3LVNTX2YyMzcxNjVjLTZkYzItNDY5NS05NjM1LTYyNDVmODkxM2M1NA==</invoice_hash>\n  <invoice_date>18-05-2024</invoice_date>\n  <customer_address>\n    <customer_name>Joseph Christ</customer_name>\n    <customer_state>Pebbas</customer_state>\n    <customer_city>North</customer_city>\n  </customer_address>\n  <company_address>\n    <company_name>Southern Investors</company_name>\n    <company_state>Texas</company_state>\n    <company_city>Atlanta</company_city>\n  </company_address>\n  <tax_amount>\n    <vat_amount>250.0</vat_amount>\n    <vat_breakdown_amount>100.0</vat_breakdown_amount>\n    <tax_exemption_code>ES</tax_exemption_code>\n    <tax_exemption_amount>50.0</tax_exemption_amount>\n  </tax_amount>\n  <invoice_line>\n    <invoice_line_identifier>1</invoice_line_identifier>\n    <invoice_line_amount>200.0</invoice_line_amount>\n    <price>200.0</price>\n    <invoice_start_date>18-05-2024</invoice_start_date>\n    <invoice_end_date>31-05-2024</invoice_end_date>\n    <invoice_total_amount>450.0</invoice_total_amount>\n  </invoice_line>\n  <invoice_line>\n    <invoice_line_identifier>2</invoice_line_identifier>\n    <invoice_line_amount>200.0</invoice_line_amount>\n    <price>200.0</price>\n    <invoice_start_date>19-05-2024</invoice_start_date>\n    <invoice_end_date>01-06-2024</invoice_end_date>\n    <invoice_total_amount>450.0</invoice_total_amount>\n  </invoice_line>\n</invoice>",
         "123462837-SS",
         "f237165c-6dc2-4695-9635-6245f8913c54",
         "123-456-658",
         "MTIzNDYyODM3LVNTX2YyMzcxNjVjLTZkYzItNDY5NS05NjM1LTYyNDVmODkxM2M1NA==",
         "2024-05-18",
         "Joseph Christ",
         "Pebbas",
         "North",
         "Southern Investors",
         "Texas",
         "Atlanta",
         "ADD",
         null,
         "dbfs:/FileStore/tables/invoices/xml_landing/xml_file_01.xml",
         "2024-07-14T09:37:51.442+0000",
         "2024-07-01",
         "2024-07-14",
         "BATCH-2024-07-14-09_37_51"
        ],
        [
         "<?xml version='1.0' encoding='UTF-8'?>\n<invoice>\n  <invoice_number>123462838-SS</invoice_number>\n  <unique_invoice_identifier>f237165c-6dc2-4695-9635-6245f8913c54</unique_invoice_identifier>\n  <account_number>123-456-659</account_number>\n  <invoice_hash>GHTzNDYyODM3LVNTX2YyMzcxNjVjLTZkYzItNDY5NS05NjM1LTYyNDVmODkxM2M1NA==</invoice_hash>\n  <invoice_date>20-05-2024</invoice_date>\n  <customer_address>\n    <customer_name>Jane Christ</customer_name>\n    <customer_state>Texas</customer_state>\n    <customer_city>North</customer_city>\n  </customer_address>\n  <company_address>\n    <company_name>Southern Investors</company_name>\n    <company_state>Texas</company_state>\n    <company_city>Atlanta</company_city>\n  </company_address>\n  <tax_amount>\n    <vat_amount>251.0</vat_amount>\n    <vat_breakdown_amount>400.0</vat_breakdown_amount>\n    <tax_exemption_code>ES</tax_exemption_code>\n    <tax_exemption_amount>55.0</tax_exemption_amount>\n  </tax_amount>\n  <invoice_line>\n    <invoice_line_identifier>1</invoice_line_identifier>\n    <invoice_line_amount>300.0</invoice_line_amount>\n    <price>200.0</price>\n    <invoice_start_date>20-05-2024</invoice_start_date>\n    <invoice_end_date>31-05-2024</invoice_end_date>\n    <invoice_total_amount>750.0</invoice_total_amount>\n  </invoice_line>\n  <invoice_line>\n    <invoice_line_identifier>2</invoice_line_identifier>\n    <invoice_line_amount>200.0</invoice_line_amount>\n    <price>250.0</price>\n    <invoice_start_date>20-05-2024</invoice_start_date>\n    <invoice_end_date>04-06-2024</invoice_end_date>\n    <invoice_total_amount>850.0</invoice_total_amount>\n  </invoice_line>\n</invoice>",
         "123462838-SS",
         "f237165c-6dc2-4695-9635-6245f8913c54",
         "123-456-659",
         "GHTzNDYyODM3LVNTX2YyMzcxNjVjLTZkYzItNDY5NS05NjM1LTYyNDVmODkxM2M1NA==",
         "2024-05-20",
         "Jane Christ",
         "Texas",
         "North",
         "Southern Investors",
         "Texas",
         "Atlanta",
         "ADD",
         null,
         "dbfs:/FileStore/tables/invoices/xml_landing/xml_file_02.xml",
         "2024-07-14T09:51:41.884+0000",
         "2024-07-01",
         "2024-07-14",
         "BATCH-2024-07-14-09_51_41"
        ],
        [
         "<?xml version='1.0' encoding='UTF-8'?>\n<invoice>\n  <invoice_number>123462868-SS</invoice_number>\n  <unique_invoice_identifier>f237165c-6dc2-4695-9635-6245f8913c94</unique_invoice_identifier>\n  <account_number>123-456-659</account_number>\n  <invoice_hash>GHTzNDYyODM3LVNTX2YyMzcxNjVjLTZkYzItNDY5NS05NjM1LTYyNDVmODkxM2M1KA==</invoice_hash>\n  <invoice_date>21-05-2024</invoice_date>\n  <customer_address>\n    <customer_name>Jane Christ</customer_name>\n    <customer_state>Texas</customer_state>\n    <customer_city>North</customer_city>\n  </customer_address>\n  <company_address>\n    <company_name>Southern Investors</company_name>\n    <company_state>Texas</company_state>\n    <company_city>Atlanta</company_city>\n  </company_address>\n  <tax_amount>\n    <vat_amount>551.0</vat_amount>\n    <vat_breakdown_amount>200.0</vat_breakdown_amount>\n    <tax_exemption_code>ES</tax_exemption_code>\n    <tax_exemption_amount>65.0</tax_exemption_amount>\n  </tax_amount>\n  <invoice_line>\n    <invoice_line_identifier>1</invoice_line_identifier>\n    <invoice_line_amount>400.0</invoice_line_amount>\n    <price>250.0</price>\n    <invoice_start_date>21-05-2024</invoice_start_date>\n    <invoice_end_date>31-05-2024</invoice_end_date>\n    <invoice_total_amount>760.0</invoice_total_amount>\n  </invoice_line>\n  <invoice_line>\n    <invoice_line_identifier>2</invoice_line_identifier>\n    <invoice_line_amount>200.0</invoice_line_amount>\n    <price>280.0</price>\n    <invoice_start_date>21-05-2024</invoice_start_date>\n    <invoice_end_date>04-06-2024</invoice_end_date>\n    <invoice_total_amount>890.0</invoice_total_amount>\n  </invoice_line>\n</invoice>",
         "123462868-SS",
         "f237165c-6dc2-4695-9635-6245f8913c94",
         "123-456-659",
         "GHTzNDYyODM3LVNTX2YyMzcxNjVjLTZkYzItNDY5NS05NjM1LTYyNDVmODkxM2M1KA==",
         "2024-05-21",
         "Jane Christ",
         "Texas",
         "North",
         "Southern Investors",
         "Texas",
         "Atlanta",
         "EDIT",
         null,
         "dbfs:/FileStore/tables/invoices/xml_landing/xml_07.xml",
         "2024-07-14T10:57:25.617+0000",
         "2024-07-01",
         "2024-07-14",
         "BATCH-2024-07-14-10_57_25"
        ],
        [
         "<?xml version='1.0' encoding='UTF-8'?>\n<invoice>\n  <invoice_number>123462869-SS</invoice_number>\n  <unique_invoice_identifier>l237165c-6dc2-4695-9635-6245f8913g57</unique_invoice_identifier>\n  <account_number>123-456-659</account_number>\n  <invoice_hash>KHTzNDYyODM3LVNTX2YyMzcxNjVjLTZkYzItNDY5NS05NtM1LTYyNDVmODkxM2M1MP==</invoice_hash>\n  <invoice_date>26-05-2024</invoice_date>\n  <customer_address>\n    <customer_name>Jane Christ</customer_name>\n    <customer_state>SA</customer_state>\n    <customer_city>North</customer_city>\n  </customer_address>\n  <company_address>\n    <company_name>Southern Investors</company_name>\n    <company_state>Texas</company_state>\n    <company_city>Atlanta</company_city>\n  </company_address>\n  <tax_amount>\n    <vat_amount>251.0</vat_amount>\n    <vat_breakdown_amount>450.0</vat_breakdown_amount>\n    <tax_exemption_code>ES</tax_exemption_code>\n    <tax_exemption_amount>55.0</tax_exemption_amount>\n  </tax_amount>\n  <invoice_line>\n    <invoice_line_identifier>1</invoice_line_identifier>\n    <invoice_line_amount>300.0</invoice_line_amount>\n    <price>200.0</price>\n    <invoice_start_date>20-05-2024</invoice_start_date>\n    <invoice_end_date>31-05-2024</invoice_end_date>\n    <invoice_total_amount>750.0</invoice_total_amount>\n  </invoice_line>\n  <invoice_line>\n    <invoice_line_identifier>2</invoice_line_identifier>\n    <invoice_line_amount>200.0</invoice_line_amount>\n    <price>250.0</price>\n    <invoice_start_date>20-05-2024</invoice_start_date>\n    <invoice_end_date>04-06-2024</invoice_end_date>\n    <invoice_total_amount>850.0</invoice_total_amount>\n  </invoice_line>\n</invoice>",
         "123462869-SS",
         "l237165c-6dc2-4695-9635-6245f8913g57",
         "123-456-659",
         "KHTzNDYyODM3LVNTX2YyMzcxNjVjLTZkYzItNDY5NS05NtM1LTYyNDVmODkxM2M1MP==",
         "2024-05-26",
         "Jane Christ",
         "SA",
         "North",
         "Southern Investors",
         "Texas",
         "Atlanta",
         "EDIT",
         null,
         "dbfs:/FileStore/tables/invoices/xml_landing/xml_04.xml",
         "2024-07-14T10:18:10.145+0000",
         "2024-07-01",
         "2024-07-14",
         "BATCH-2024-07-14-10_18_10"
        ],
        [
         "<?xml version='1.0' encoding='UTF-8'?>\n<invoice>\n  <invoice_number>223462839-SS</invoice_number>\n  <unique_invoice_identifier>g237165c-6dc2-4695-9635-6245f8913c95</unique_invoice_identifier>\n  <account_number>123-456-680</account_number>\n  <invoice_hash>SPxzNDYyODM3LVNTX2YyMzcxNjVjLTZkYzItNDY5NS15NjM1LTYyNDPmODkxM2K1NA==</invoice_hash>\n  <invoice_date>29-05-2024</invoice_date>\n  <customer_address>\n    <customer_name>Alpha</customer_name>\n    <customer_state>Canes</customer_state>\n    <customer_city>North</customer_city>\n  </customer_address>\n  <company_address>\n    <company_name>Southern Investors</company_name>\n    <company_state>Texas</company_state>\n    <company_city>Atlanta</company_city>\n  </company_address>\n  <tax_amount>\n    <vat_amount>451.0</vat_amount>\n    <vat_breakdown_amount>600.0</vat_breakdown_amount>\n    <tax_exemption_code>ES</tax_exemption_code>\n    <tax_exemption_amount>75.0</tax_exemption_amount>\n  </tax_amount>\n  <invoice_line>\n    <invoice_line_identifier>1</invoice_line_identifier>\n    <invoice_line_amount>650.0</invoice_line_amount>\n    <price>240.0</price>\n    <invoice_start_date>29-05-2024</invoice_start_date>\n    <invoice_end_date>03-06-2024</invoice_end_date>\n    <invoice_total_amount>780.0</invoice_total_amount>\n  </invoice_line>\n</invoice>",
         "223462839-SS",
         "g237165c-6dc2-4695-9635-6245f8913c95",
         "123-456-680",
         "SPxzNDYyODM3LVNTX2YyMzcxNjVjLTZkYzItNDY5NS15NjM1LTYyNDPmODkxM2K1NA==",
         "2024-05-29",
         "Alpha",
         "Canes",
         "North",
         "Southern Investors",
         "Texas",
         "Atlanta",
         "EDIT",
         null,
         "dbfs:/FileStore/tables/invoices/xml_landing/xml_05.xml",
         "2024-07-14T10:35:00.898+0000",
         "2024-07-01",
         "2024-07-14",
         "BATCH-2024-07-14-10_35_00"
        ],
        [
         "<?xml version='1.0' encoding='UTF-8'?>\n<invoice>\n  <invoice_number>233462839-SS</invoice_number>\n  <unique_invoice_identifier>k237165c-6dc2-4695-9635-6245f8913c99</unique_invoice_identifier>\n  <account_number>123-456-680</account_number>\n  <invoice_hash>SPcvNDYyODM3LVNTX2YyMzcxNjVjLTZkYzItNDY5NS15NjM1TTYhNDPmODkxM2K1FG==</invoice_hash>\n  <invoice_date>30-05-2024</invoice_date>\n  <customer_address>\n    <customer_name>Alpha</customer_name>\n    <customer_state>Canes</customer_state>\n    <customer_city>North</customer_city>\n  </customer_address>\n  <company_address>\n    <company_name>Southern Investors</company_name>\n    <company_state>Texas</company_state>\n    <company_city>Atlanta</company_city>\n  </company_address>\n  <tax_amount>\n    <vat_amount>461.0</vat_amount>\n    <vat_breakdown_amount>630.0</vat_breakdown_amount>\n    <tax_exemption_code>ES</tax_exemption_code>\n    <tax_exemption_amount>85.0</tax_exemption_amount>\n  </tax_amount>\n  <invoice_line>\n    <invoice_line_identifier>1</invoice_line_identifier>\n    <invoice_line_amount>690.0</invoice_line_amount>\n    <price>290.0</price>\n    <invoice_start_date>30-05-2024</invoice_start_date>\n    <invoice_end_date>05-06-2024</invoice_end_date>\n    <invoice_total_amount>880.0</invoice_total_amount>\n  </invoice_line>\n</invoice>",
         "233462839-SS",
         "k237165c-6dc2-4695-9635-6245f8913c99",
         "123-456-680",
         "SPcvNDYyODM3LVNTX2YyMzcxNjVjLTZkYzItNDY5NS15NjM1TTYhNDPmODkxM2K1FG==",
         "2024-05-30",
         "Alpha",
         "Canes",
         "North",
         "Southern Investors",
         "Texas",
         "Atlanta",
         "EDIT",
         null,
         "dbfs:/FileStore/tables/invoices/xml_landing/xml_06.xml",
         "2024-07-14T10:47:06.458+0000",
         "2024-07-01",
         "2024-07-14",
         "BATCH-2024-07-14-10_47_06"
        ],
        [
         "<?xml version='1.0' encoding='UTF-8'?>\n<invoice>\n  <invoice_number>123462835-SS</invoice_number>\n  <unique_invoice_identifier>f237165c-6dc2-4695-9635-6245f8913c65</unique_invoice_identifier>\n  <account_number>123-456-680</account_number>\n  <invoice_hash>QPxzNDYyODM3LVNTX2YyMzcxNjVjLTZkYzItNDY5NS05NjM1LTYyNDVmODkxM2M1NA==</invoice_hash>\n  <invoice_date>20-05-2024</invoice_date>\n  <customer_address>\n    <customer_name>Alpha</customer_name>\n    <customer_state>Canes</customer_state>\n    <customer_city>North</customer_city>\n  </customer_address>\n  <company_address>\n    <company_name>Southern Investors</company_name>\n    <company_state>Texas</company_state>\n    <company_city>Atlanta</company_city>\n  </company_address>\n  <tax_amount>\n    <vat_amount>351.0</vat_amount>\n    <vat_breakdown_amount>400.0</vat_breakdown_amount>\n    <tax_exemption_code>ES</tax_exemption_code>\n    <tax_exemption_amount>55.0</tax_exemption_amount>\n  </tax_amount>\n  <invoice_line>\n    <invoice_line_identifier>1</invoice_line_identifier>\n    <invoice_line_amount>600.0</invoice_line_amount>\n    <price>200.0</price>\n    <invoice_start_date>20-05-2024</invoice_start_date>\n    <invoice_end_date>31-05-2024</invoice_end_date>\n    <invoice_total_amount>750.0</invoice_total_amount>\n  </invoice_line>\n</invoice>",
         "123462835-SS",
         "f237165c-6dc2-4695-9635-6245f8913c65",
         "123-456-680",
         "QPxzNDYyODM3LVNTX2YyMzcxNjVjLTZkYzItNDY5NS05NjM1LTYyNDVmODkxM2M1NA==",
         "2024-05-20",
         "Alpha",
         "Canes",
         "North",
         "Southern Investors",
         "Texas",
         "Atlanta",
         "ADD",
         null,
         "dbfs:/FileStore/tables/invoices/xml_landing/xml_03.xml",
         "2024-07-14T10:05:45.145+0000",
         "2024-07-01",
         "2024-07-14",
         "BATCH-2024-07-14-10_05_45"
        ]
       ],
       "datasetInfos": [],
       "dbfsResultPath": null,
       "isJsonSchema": true,
       "metadata": {},
       "overflow": false,
       "plotOptions": {
        "customPlotOptions": {},
        "displayType": "table",
        "pivotAggregation": null,
        "pivotColumns": null,
        "xColumns": null,
        "yColumns": null
       },
       "removedWidgets": [],
       "schema": [
        {
         "metadata": "{}",
         "name": "xml_content",
         "type": "\"string\""
        },
        {
         "metadata": "{}",
         "name": "invoice_number",
         "type": "\"string\""
        },
        {
         "metadata": "{}",
         "name": "unique_invoice_identifier",
         "type": "\"string\""
        },
        {
         "metadata": "{}",
         "name": "account_number",
         "type": "\"string\""
        },
        {
         "metadata": "{}",
         "name": "invoice_hash",
         "type": "\"string\""
        },
        {
         "metadata": "{}",
         "name": "invoice_date",
         "type": "\"date\""
        },
        {
         "metadata": "{}",
         "name": "customer_name",
         "type": "\"string\""
        },
        {
         "metadata": "{}",
         "name": "customer_state",
         "type": "\"string\""
        },
        {
         "metadata": "{}",
         "name": "customer_city",
         "type": "\"string\""
        },
        {
         "metadata": "{}",
         "name": "company_name",
         "type": "\"string\""
        },
        {
         "metadata": "{}",
         "name": "company_state",
         "type": "\"string\""
        },
        {
         "metadata": "{}",
         "name": "company_city",
         "type": "\"string\""
        },
        {
         "metadata": "{}",
         "name": "invoice_status",
         "type": "\"string\""
        },
        {
         "metadata": "{}",
         "name": "invoice_line_identifier",
         "type": "\"integer\""
        },
        {
         "metadata": "{}",
         "name": "file_name",
         "type": "\"string\""
        },
        {
         "metadata": "{}",
         "name": "target_committime",
         "type": "\"timestamp\""
        },
        {
         "metadata": "{}",
         "name": "load_month",
         "type": "\"date\""
        },
        {
         "metadata": "{}",
         "name": "load_date",
         "type": "\"date\""
        },
        {
         "metadata": "{}",
         "name": "batch_id",
         "type": "\"string\""
        }
       ],
       "type": "table"
      }
     },
     "output_type": "display_data"
    }
   ],
   "source": [
    "%sql\n",
    "select * from invoice_db.invoice_cust_data_stg;"
   ]
  },
  {
   "cell_type": "code",
   "execution_count": 0,
   "metadata": {
    "application/vnd.databricks.v1+cell": {
     "cellMetadata": {
      "byteLimit": 2048000,
      "rowLimit": 10000
     },
     "inputWidgets": {},
     "nuid": "035b0407-8a49-4313-a617-33d3a31c2636",
     "showTitle": false,
     "title": ""
    }
   },
   "outputs": [
    {
     "output_type": "stream",
     "name": "stdout",
     "output_type": "stream",
     "text": [
      "+--------------------+--------------+-------------------------+--------------+--------------------+------------+-------------+--------------+-------------+------------------+-------------+------------+--------------+-----------------------+--------------------+--------------------+----------+----------+--------------------+\n|         xml_content|invoice_number|unique_invoice_identifier|account_number|        invoice_hash|invoice_date|customer_name|customer_state|customer_city|      company_name|company_state|company_city|invoice_status|invoice_line_identifier|           file_name|   target_committime|load_month| load_date|            batch_id|\n+--------------------+--------------+-------------------------+--------------+--------------------+------------+-------------+--------------+-------------+------------------+-------------+------------+--------------+-----------------------+--------------------+--------------------+----------+----------+--------------------+\n|<?xml version='1....|  123462837-SS|     f237165c-6dc2-469...|   123-456-658|MTIzNDYyODM3LVNTX...|  2024-05-18|Joseph Christ|        Pebbas|        North|Southern Investors|        Texas|     Atlanta|           ADD|                   null|dbfs:/FileStore/t...|2024-07-14 09:37:...|2024-07-01|2024-07-14|BATCH-2024-07-14-...|\n|<?xml version='1....|  123462838-SS|     f237165c-6dc2-469...|   123-456-659|GHTzNDYyODM3LVNTX...|  2024-05-20|  Jane Christ|         Texas|        North|Southern Investors|        Texas|     Atlanta|           ADD|                   null|dbfs:/FileStore/t...|2024-07-14 09:51:...|2024-07-01|2024-07-14|BATCH-2024-07-14-...|\n|<?xml version='1....|  123462868-SS|     f237165c-6dc2-469...|   123-456-659|GHTzNDYyODM3LVNTX...|  2024-05-21|  Jane Christ|         Texas|        North|Southern Investors|        Texas|     Atlanta|          EDIT|                   null|dbfs:/FileStore/t...|2024-07-14 10:57:...|2024-07-01|2024-07-14|BATCH-2024-07-14-...|\n|<?xml version='1....|  123462869-SS|     l237165c-6dc2-469...|   123-456-659|KHTzNDYyODM3LVNTX...|  2024-05-26|  Jane Christ|            SA|        North|Southern Investors|        Texas|     Atlanta|          EDIT|                   null|dbfs:/FileStore/t...|2024-07-14 10:18:...|2024-07-01|2024-07-14|BATCH-2024-07-14-...|\n|<?xml version='1....|  223462839-SS|     g237165c-6dc2-469...|   123-456-680|SPxzNDYyODM3LVNTX...|  2024-05-29|        Alpha|         Canes|        North|Southern Investors|        Texas|     Atlanta|          EDIT|                   null|dbfs:/FileStore/t...|2024-07-14 10:35:...|2024-07-01|2024-07-14|BATCH-2024-07-14-...|\n|<?xml version='1....|  233462839-SS|     k237165c-6dc2-469...|   123-456-680|SPcvNDYyODM3LVNTX...|  2024-05-30|        Alpha|         Canes|        North|Southern Investors|        Texas|     Atlanta|          EDIT|                   null|dbfs:/FileStore/t...|2024-07-14 10:47:...|2024-07-01|2024-07-14|BATCH-2024-07-14-...|\n|<?xml version='1....|  123462835-SS|     f237165c-6dc2-469...|   123-456-680|QPxzNDYyODM3LVNTX...|  2024-05-20|        Alpha|         Canes|        North|Southern Investors|        Texas|     Atlanta|           ADD|                   null|dbfs:/FileStore/t...|2024-07-14 10:05:...|2024-07-01|2024-07-14|BATCH-2024-07-14-...|\n+--------------------+--------------+-------------------------+--------------+--------------------+------------+-------------+--------------+-------------+------------------+-------------+------------+--------------+-----------------------+--------------------+--------------------+----------+----------+--------------------+\n\n"
     ]
    }
   ],
   "source": [
    "spark.sql('''select * from invoice_db.invoice_cust_data_stg''').show()"
   ]
  },
  {
   "cell_type": "code",
   "execution_count": 0,
   "metadata": {
    "application/vnd.databricks.v1+cell": {
     "cellMetadata": {
      "byteLimit": 2048000,
      "implicitDf": true,
      "rowLimit": 10000
     },
     "inputWidgets": {},
     "nuid": "889fbf25-2ab5-4aeb-aa35-f14009fcd67e",
     "showTitle": false,
     "title": ""
    }
   },
   "outputs": [
    {
     "output_type": "display_data",
     "data": {
      "text/html": [
       "<style scoped>\n",
       "  .table-result-container {\n",
       "    max-height: 300px;\n",
       "    overflow: auto;\n",
       "  }\n",
       "  table, th, td {\n",
       "    border: 1px solid black;\n",
       "    border-collapse: collapse;\n",
       "  }\n",
       "  th, td {\n",
       "    padding: 5px;\n",
       "  }\n",
       "  th {\n",
       "    text-align: left;\n",
       "  }\n",
       "</style><div class='table-result-container'><table class='table-result'><thead style='background-color: white'><tr><th>invoice_number</th><th>unique_invoice_identifier</th><th>account_number</th><th>customer_name</th><th>vat_amount</th><th>vat_breakdown_amount</th><th>tax_exemption_code</th><th>tax_exemption_amount</th><th>invoice_status</th><th>target_committime</th><th>load_month</th><th>load_date</th><th>batch_id</th></tr></thead><tbody><tr><td>123462837-SS</td><td>f237165c-6dc2-4695-9635-6245f8913c54</td><td>123-456-658</td><td>Joseph Christ</td><td>250.00</td><td>100.00</td><td>ES</td><td>50.00</td><td>ADD</td><td>2024-07-14T09:37:51.442+0000</td><td>2024-07-01</td><td>2024-07-14</td><td>BATCH-2024-07-14-09_37_51</td></tr><tr><td>123462869-SS</td><td>l237165c-6dc2-4695-9635-6245f8913g57</td><td>123-456-659</td><td>Jane Christ</td><td>251.00</td><td>450.00</td><td>ES</td><td>55.00</td><td>EDIT</td><td>2024-07-14T10:18:10.145+0000</td><td>2024-07-01</td><td>2024-07-14</td><td>BATCH-2024-07-14-10_18_10</td></tr><tr><td>123462868-SS</td><td>f237165c-6dc2-4695-9635-6245f8913c94</td><td>123-456-659</td><td>Jane Christ</td><td>551.00</td><td>200.00</td><td>ES</td><td>65.00</td><td>EDIT</td><td>2024-07-14T10:57:25.617+0000</td><td>2024-07-01</td><td>2024-07-14</td><td>BATCH-2024-07-14-10_57_25</td></tr><tr><td>123462838-SS</td><td>f237165c-6dc2-4695-9635-6245f8913c54</td><td>123-456-659</td><td>Jane Christ</td><td>251.00</td><td>400.00</td><td>ES</td><td>55.00</td><td>ADD</td><td>2024-07-14T09:51:41.884+0000</td><td>2024-07-01</td><td>2024-07-14</td><td>BATCH-2024-07-14-09_51_41</td></tr><tr><td>223462839-SS</td><td>g237165c-6dc2-4695-9635-6245f8913c95</td><td>123-456-680</td><td>Alpha</td><td>451.00</td><td>600.00</td><td>ES</td><td>75.00</td><td>EDIT</td><td>2024-07-14T10:35:00.898+0000</td><td>2024-07-01</td><td>2024-07-14</td><td>BATCH-2024-07-14-10_35_00</td></tr><tr><td>233462839-SS</td><td>k237165c-6dc2-4695-9635-6245f8913c99</td><td>123-456-680</td><td>Alpha</td><td>461.00</td><td>630.00</td><td>ES</td><td>85.00</td><td>EDIT</td><td>2024-07-14T10:47:06.458+0000</td><td>2024-07-01</td><td>2024-07-14</td><td>BATCH-2024-07-14-10_47_06</td></tr><tr><td>123462835-SS</td><td>f237165c-6dc2-4695-9635-6245f8913c65</td><td>123-456-680</td><td>Alpha</td><td>351.00</td><td>400.00</td><td>ES</td><td>55.00</td><td>ADD</td><td>2024-07-14T10:05:45.145+0000</td><td>2024-07-01</td><td>2024-07-14</td><td>BATCH-2024-07-14-10_05_45</td></tr></tbody></table></div>"
      ]
     },
     "metadata": {
      "application/vnd.databricks.v1+output": {
       "addedWidgets": {},
       "aggData": [],
       "aggError": "",
       "aggOverflow": false,
       "aggSchema": [],
       "aggSeriesLimitReached": false,
       "aggType": "",
       "arguments": {},
       "columnCustomDisplayInfos": {},
       "data": [
        [
         "123462837-SS",
         "f237165c-6dc2-4695-9635-6245f8913c54",
         "123-456-658",
         "Joseph Christ",
         "250.00",
         "100.00",
         "ES",
         "50.00",
         "ADD",
         "2024-07-14T09:37:51.442+0000",
         "2024-07-01",
         "2024-07-14",
         "BATCH-2024-07-14-09_37_51"
        ],
        [
         "123462869-SS",
         "l237165c-6dc2-4695-9635-6245f8913g57",
         "123-456-659",
         "Jane Christ",
         "251.00",
         "450.00",
         "ES",
         "55.00",
         "EDIT",
         "2024-07-14T10:18:10.145+0000",
         "2024-07-01",
         "2024-07-14",
         "BATCH-2024-07-14-10_18_10"
        ],
        [
         "123462868-SS",
         "f237165c-6dc2-4695-9635-6245f8913c94",
         "123-456-659",
         "Jane Christ",
         "551.00",
         "200.00",
         "ES",
         "65.00",
         "EDIT",
         "2024-07-14T10:57:25.617+0000",
         "2024-07-01",
         "2024-07-14",
         "BATCH-2024-07-14-10_57_25"
        ],
        [
         "123462838-SS",
         "f237165c-6dc2-4695-9635-6245f8913c54",
         "123-456-659",
         "Jane Christ",
         "251.00",
         "400.00",
         "ES",
         "55.00",
         "ADD",
         "2024-07-14T09:51:41.884+0000",
         "2024-07-01",
         "2024-07-14",
         "BATCH-2024-07-14-09_51_41"
        ],
        [
         "223462839-SS",
         "g237165c-6dc2-4695-9635-6245f8913c95",
         "123-456-680",
         "Alpha",
         "451.00",
         "600.00",
         "ES",
         "75.00",
         "EDIT",
         "2024-07-14T10:35:00.898+0000",
         "2024-07-01",
         "2024-07-14",
         "BATCH-2024-07-14-10_35_00"
        ],
        [
         "233462839-SS",
         "k237165c-6dc2-4695-9635-6245f8913c99",
         "123-456-680",
         "Alpha",
         "461.00",
         "630.00",
         "ES",
         "85.00",
         "EDIT",
         "2024-07-14T10:47:06.458+0000",
         "2024-07-01",
         "2024-07-14",
         "BATCH-2024-07-14-10_47_06"
        ],
        [
         "123462835-SS",
         "f237165c-6dc2-4695-9635-6245f8913c65",
         "123-456-680",
         "Alpha",
         "351.00",
         "400.00",
         "ES",
         "55.00",
         "ADD",
         "2024-07-14T10:05:45.145+0000",
         "2024-07-01",
         "2024-07-14",
         "BATCH-2024-07-14-10_05_45"
        ]
       ],
       "datasetInfos": [],
       "dbfsResultPath": null,
       "isJsonSchema": true,
       "metadata": {},
       "overflow": false,
       "plotOptions": {
        "customPlotOptions": {},
        "displayType": "table",
        "pivotAggregation": null,
        "pivotColumns": null,
        "xColumns": null,
        "yColumns": null
       },
       "removedWidgets": [],
       "schema": [
        {
         "metadata": "{}",
         "name": "invoice_number",
         "type": "\"string\""
        },
        {
         "metadata": "{}",
         "name": "unique_invoice_identifier",
         "type": "\"string\""
        },
        {
         "metadata": "{}",
         "name": "account_number",
         "type": "\"string\""
        },
        {
         "metadata": "{}",
         "name": "customer_name",
         "type": "\"string\""
        },
        {
         "metadata": "{}",
         "name": "vat_amount",
         "type": "\"decimal(10,2)\""
        },
        {
         "metadata": "{}",
         "name": "vat_breakdown_amount",
         "type": "\"decimal(10,2)\""
        },
        {
         "metadata": "{}",
         "name": "tax_exemption_code",
         "type": "\"string\""
        },
        {
         "metadata": "{}",
         "name": "tax_exemption_amount",
         "type": "\"decimal(10,2)\""
        },
        {
         "metadata": "{}",
         "name": "invoice_status",
         "type": "\"string\""
        },
        {
         "metadata": "{}",
         "name": "target_committime",
         "type": "\"timestamp\""
        },
        {
         "metadata": "{}",
         "name": "load_month",
         "type": "\"date\""
        },
        {
         "metadata": "{}",
         "name": "load_date",
         "type": "\"date\""
        },
        {
         "metadata": "{}",
         "name": "batch_id",
         "type": "\"string\""
        }
       ],
       "type": "table"
      }
     },
     "output_type": "display_data"
    }
   ],
   "source": [
    "%sql\n",
    "select * from invoice_db.invoice_vat_data_stg;"
   ]
  },
  {
   "cell_type": "code",
   "execution_count": 0,
   "metadata": {
    "application/vnd.databricks.v1+cell": {
     "cellMetadata": {
      "byteLimit": 2048000,
      "rowLimit": 10000
     },
     "inputWidgets": {},
     "nuid": "7c0c8f29-0393-48dd-b68e-55bd6b274657",
     "showTitle": false,
     "title": ""
    }
   },
   "outputs": [
    {
     "output_type": "stream",
     "name": "stdout",
     "output_type": "stream",
     "text": [
      "+--------------+-------------------------+--------------+-------------+----------+--------------------+------------------+--------------------+--------------+--------------------+----------+----------+--------------------+\n|invoice_number|unique_invoice_identifier|account_number|customer_name|vat_amount|vat_breakdown_amount|tax_exemption_code|tax_exemption_amount|invoice_status|   target_committime|load_month| load_date|            batch_id|\n+--------------+-------------------------+--------------+-------------+----------+--------------------+------------------+--------------------+--------------+--------------------+----------+----------+--------------------+\n|  123462837-SS|     f237165c-6dc2-469...|   123-456-658|Joseph Christ|    250.00|              100.00|                ES|               50.00|           ADD|2024-07-14 09:37:...|2024-07-01|2024-07-14|BATCH-2024-07-14-...|\n|  123462869-SS|     l237165c-6dc2-469...|   123-456-659|  Jane Christ|    251.00|              450.00|                ES|               55.00|          EDIT|2024-07-14 10:18:...|2024-07-01|2024-07-14|BATCH-2024-07-14-...|\n|  123462868-SS|     f237165c-6dc2-469...|   123-456-659|  Jane Christ|    551.00|              200.00|                ES|               65.00|          EDIT|2024-07-14 10:57:...|2024-07-01|2024-07-14|BATCH-2024-07-14-...|\n|  123462838-SS|     f237165c-6dc2-469...|   123-456-659|  Jane Christ|    251.00|              400.00|                ES|               55.00|           ADD|2024-07-14 09:51:...|2024-07-01|2024-07-14|BATCH-2024-07-14-...|\n|  223462839-SS|     g237165c-6dc2-469...|   123-456-680|        Alpha|    451.00|              600.00|                ES|               75.00|          EDIT|2024-07-14 10:35:...|2024-07-01|2024-07-14|BATCH-2024-07-14-...|\n|  233462839-SS|     k237165c-6dc2-469...|   123-456-680|        Alpha|    461.00|              630.00|                ES|               85.00|          EDIT|2024-07-14 10:47:...|2024-07-01|2024-07-14|BATCH-2024-07-14-...|\n|  123462835-SS|     f237165c-6dc2-469...|   123-456-680|        Alpha|    351.00|              400.00|                ES|               55.00|           ADD|2024-07-14 10:05:...|2024-07-01|2024-07-14|BATCH-2024-07-14-...|\n+--------------+-------------------------+--------------+-------------+----------+--------------------+------------------+--------------------+--------------+--------------------+----------+----------+--------------------+\n\n"
     ]
    }
   ],
   "source": [
    "spark.sql('''select * from invoice_db.invoice_vat_data_stg''').show()"
   ]
  },
  {
   "cell_type": "code",
   "execution_count": 0,
   "metadata": {
    "application/vnd.databricks.v1+cell": {
     "cellMetadata": {
      "byteLimit": 2048000,
      "implicitDf": true,
      "rowLimit": 10000
     },
     "inputWidgets": {},
     "nuid": "531268f7-7f96-46f7-9466-0579f40c4763",
     "showTitle": false,
     "title": ""
    }
   },
   "outputs": [
    {
     "output_type": "display_data",
     "data": {
      "text/html": [
       "<style scoped>\n",
       "  .table-result-container {\n",
       "    max-height: 300px;\n",
       "    overflow: auto;\n",
       "  }\n",
       "  table, th, td {\n",
       "    border: 1px solid black;\n",
       "    border-collapse: collapse;\n",
       "  }\n",
       "  th, td {\n",
       "    padding: 5px;\n",
       "  }\n",
       "  th {\n",
       "    text-align: left;\n",
       "  }\n",
       "</style><div class='table-result-container'><table class='table-result'><thead style='background-color: white'><tr><th>invoice_number</th><th>unique_invoice_identifier</th><th>account_number</th><th>customer_name</th><th>invoice_line_identifier</th><th>invoice_line_amount</th><th>price</th><th>invoice_start_date</th><th>invoice_end_date</th><th>invoice_total_amount</th><th>invoice_status</th><th>target_committime</th><th>load_month</th><th>load_date</th><th>batch_id</th></tr></thead><tbody><tr><td>123462837-SS</td><td>f237165c-6dc2-4695-9635-6245f8913c54</td><td>123-456-658</td><td>Joseph Christ</td><td>1</td><td>200.00</td><td>200.00</td><td>2024-05-18</td><td>2024-05-31</td><td>450.00</td><td>ADD</td><td>2024-07-14T09:37:51.442+0000</td><td>2024-07-01</td><td>2024-07-14</td><td>BATCH-2024-07-14-09_37_51</td></tr><tr><td>123462837-SS</td><td>f237165c-6dc2-4695-9635-6245f8913c54</td><td>123-456-658</td><td>Joseph Christ</td><td>2</td><td>200.00</td><td>200.00</td><td>2024-05-19</td><td>2024-06-01</td><td>450.00</td><td>ADD</td><td>2024-07-14T09:37:51.442+0000</td><td>2024-07-01</td><td>2024-07-14</td><td>BATCH-2024-07-14-09_37_51</td></tr><tr><td>123462869-SS</td><td>l237165c-6dc2-4695-9635-6245f8913g57</td><td>123-456-659</td><td>Jane Christ</td><td>2</td><td>200.00</td><td>250.00</td><td>2024-05-20</td><td>2024-06-04</td><td>850.00</td><td>EDIT</td><td>2024-07-14T10:18:10.145+0000</td><td>2024-07-01</td><td>2024-07-14</td><td>BATCH-2024-07-14-10_18_10</td></tr><tr><td>123462869-SS</td><td>l237165c-6dc2-4695-9635-6245f8913g57</td><td>123-456-659</td><td>Jane Christ</td><td>1</td><td>300.00</td><td>200.00</td><td>2024-05-20</td><td>2024-05-31</td><td>750.00</td><td>EDIT</td><td>2024-07-14T10:18:10.145+0000</td><td>2024-07-01</td><td>2024-07-14</td><td>BATCH-2024-07-14-10_18_10</td></tr><tr><td>123462868-SS</td><td>f237165c-6dc2-4695-9635-6245f8913c94</td><td>123-456-659</td><td>Jane Christ</td><td>1</td><td>400.00</td><td>250.00</td><td>2024-05-21</td><td>2024-05-31</td><td>760.00</td><td>EDIT</td><td>2024-07-14T10:57:25.617+0000</td><td>2024-07-01</td><td>2024-07-14</td><td>BATCH-2024-07-14-10_57_25</td></tr><tr><td>123462868-SS</td><td>f237165c-6dc2-4695-9635-6245f8913c94</td><td>123-456-659</td><td>Jane Christ</td><td>2</td><td>200.00</td><td>280.00</td><td>2024-05-21</td><td>2024-06-04</td><td>890.00</td><td>EDIT</td><td>2024-07-14T10:57:25.617+0000</td><td>2024-07-01</td><td>2024-07-14</td><td>BATCH-2024-07-14-10_57_25</td></tr><tr><td>123462838-SS</td><td>f237165c-6dc2-4695-9635-6245f8913c54</td><td>123-456-659</td><td>Jane Christ</td><td>2</td><td>200.00</td><td>250.00</td><td>2024-05-20</td><td>2024-06-04</td><td>850.00</td><td>ADD</td><td>2024-07-14T09:51:41.884+0000</td><td>2024-07-01</td><td>2024-07-14</td><td>BATCH-2024-07-14-09_51_41</td></tr><tr><td>123462838-SS</td><td>f237165c-6dc2-4695-9635-6245f8913c54</td><td>123-456-659</td><td>Jane Christ</td><td>1</td><td>300.00</td><td>200.00</td><td>2024-05-20</td><td>2024-05-31</td><td>750.00</td><td>ADD</td><td>2024-07-14T09:51:41.884+0000</td><td>2024-07-01</td><td>2024-07-14</td><td>BATCH-2024-07-14-09_51_41</td></tr><tr><td>223462839-SS</td><td>g237165c-6dc2-4695-9635-6245f8913c95</td><td>123-456-680</td><td>Alpha</td><td>1</td><td>650.00</td><td>240.00</td><td>2024-05-29</td><td>2024-06-03</td><td>780.00</td><td>EDIT</td><td>2024-07-14T10:35:00.898+0000</td><td>2024-07-01</td><td>2024-07-14</td><td>BATCH-2024-07-14-10_35_00</td></tr><tr><td>233462839-SS</td><td>k237165c-6dc2-4695-9635-6245f8913c99</td><td>123-456-680</td><td>Alpha</td><td>1</td><td>690.00</td><td>290.00</td><td>2024-05-30</td><td>2024-06-05</td><td>880.00</td><td>EDIT</td><td>2024-07-14T10:47:06.458+0000</td><td>2024-07-01</td><td>2024-07-14</td><td>BATCH-2024-07-14-10_47_06</td></tr><tr><td>123462835-SS</td><td>f237165c-6dc2-4695-9635-6245f8913c65</td><td>123-456-680</td><td>Alpha</td><td>1</td><td>600.00</td><td>200.00</td><td>2024-05-20</td><td>2024-05-31</td><td>750.00</td><td>ADD</td><td>2024-07-14T10:05:45.145+0000</td><td>2024-07-01</td><td>2024-07-14</td><td>BATCH-2024-07-14-10_05_45</td></tr></tbody></table></div>"
      ]
     },
     "metadata": {
      "application/vnd.databricks.v1+output": {
       "addedWidgets": {},
       "aggData": [],
       "aggError": "",
       "aggOverflow": false,
       "aggSchema": [],
       "aggSeriesLimitReached": false,
       "aggType": "",
       "arguments": {},
       "columnCustomDisplayInfos": {},
       "data": [
        [
         "123462837-SS",
         "f237165c-6dc2-4695-9635-6245f8913c54",
         "123-456-658",
         "Joseph Christ",
         1,
         "200.00",
         "200.00",
         "2024-05-18",
         "2024-05-31",
         "450.00",
         "ADD",
         "2024-07-14T09:37:51.442+0000",
         "2024-07-01",
         "2024-07-14",
         "BATCH-2024-07-14-09_37_51"
        ],
        [
         "123462837-SS",
         "f237165c-6dc2-4695-9635-6245f8913c54",
         "123-456-658",
         "Joseph Christ",
         2,
         "200.00",
         "200.00",
         "2024-05-19",
         "2024-06-01",
         "450.00",
         "ADD",
         "2024-07-14T09:37:51.442+0000",
         "2024-07-01",
         "2024-07-14",
         "BATCH-2024-07-14-09_37_51"
        ],
        [
         "123462869-SS",
         "l237165c-6dc2-4695-9635-6245f8913g57",
         "123-456-659",
         "Jane Christ",
         2,
         "200.00",
         "250.00",
         "2024-05-20",
         "2024-06-04",
         "850.00",
         "EDIT",
         "2024-07-14T10:18:10.145+0000",
         "2024-07-01",
         "2024-07-14",
         "BATCH-2024-07-14-10_18_10"
        ],
        [
         "123462869-SS",
         "l237165c-6dc2-4695-9635-6245f8913g57",
         "123-456-659",
         "Jane Christ",
         1,
         "300.00",
         "200.00",
         "2024-05-20",
         "2024-05-31",
         "750.00",
         "EDIT",
         "2024-07-14T10:18:10.145+0000",
         "2024-07-01",
         "2024-07-14",
         "BATCH-2024-07-14-10_18_10"
        ],
        [
         "123462868-SS",
         "f237165c-6dc2-4695-9635-6245f8913c94",
         "123-456-659",
         "Jane Christ",
         1,
         "400.00",
         "250.00",
         "2024-05-21",
         "2024-05-31",
         "760.00",
         "EDIT",
         "2024-07-14T10:57:25.617+0000",
         "2024-07-01",
         "2024-07-14",
         "BATCH-2024-07-14-10_57_25"
        ],
        [
         "123462868-SS",
         "f237165c-6dc2-4695-9635-6245f8913c94",
         "123-456-659",
         "Jane Christ",
         2,
         "200.00",
         "280.00",
         "2024-05-21",
         "2024-06-04",
         "890.00",
         "EDIT",
         "2024-07-14T10:57:25.617+0000",
         "2024-07-01",
         "2024-07-14",
         "BATCH-2024-07-14-10_57_25"
        ],
        [
         "123462838-SS",
         "f237165c-6dc2-4695-9635-6245f8913c54",
         "123-456-659",
         "Jane Christ",
         2,
         "200.00",
         "250.00",
         "2024-05-20",
         "2024-06-04",
         "850.00",
         "ADD",
         "2024-07-14T09:51:41.884+0000",
         "2024-07-01",
         "2024-07-14",
         "BATCH-2024-07-14-09_51_41"
        ],
        [
         "123462838-SS",
         "f237165c-6dc2-4695-9635-6245f8913c54",
         "123-456-659",
         "Jane Christ",
         1,
         "300.00",
         "200.00",
         "2024-05-20",
         "2024-05-31",
         "750.00",
         "ADD",
         "2024-07-14T09:51:41.884+0000",
         "2024-07-01",
         "2024-07-14",
         "BATCH-2024-07-14-09_51_41"
        ],
        [
         "223462839-SS",
         "g237165c-6dc2-4695-9635-6245f8913c95",
         "123-456-680",
         "Alpha",
         1,
         "650.00",
         "240.00",
         "2024-05-29",
         "2024-06-03",
         "780.00",
         "EDIT",
         "2024-07-14T10:35:00.898+0000",
         "2024-07-01",
         "2024-07-14",
         "BATCH-2024-07-14-10_35_00"
        ],
        [
         "233462839-SS",
         "k237165c-6dc2-4695-9635-6245f8913c99",
         "123-456-680",
         "Alpha",
         1,
         "690.00",
         "290.00",
         "2024-05-30",
         "2024-06-05",
         "880.00",
         "EDIT",
         "2024-07-14T10:47:06.458+0000",
         "2024-07-01",
         "2024-07-14",
         "BATCH-2024-07-14-10_47_06"
        ],
        [
         "123462835-SS",
         "f237165c-6dc2-4695-9635-6245f8913c65",
         "123-456-680",
         "Alpha",
         1,
         "600.00",
         "200.00",
         "2024-05-20",
         "2024-05-31",
         "750.00",
         "ADD",
         "2024-07-14T10:05:45.145+0000",
         "2024-07-01",
         "2024-07-14",
         "BATCH-2024-07-14-10_05_45"
        ]
       ],
       "datasetInfos": [],
       "dbfsResultPath": null,
       "isJsonSchema": true,
       "metadata": {},
       "overflow": false,
       "plotOptions": {
        "customPlotOptions": {},
        "displayType": "table",
        "pivotAggregation": null,
        "pivotColumns": null,
        "xColumns": null,
        "yColumns": null
       },
       "removedWidgets": [],
       "schema": [
        {
         "metadata": "{}",
         "name": "invoice_number",
         "type": "\"string\""
        },
        {
         "metadata": "{}",
         "name": "unique_invoice_identifier",
         "type": "\"string\""
        },
        {
         "metadata": "{}",
         "name": "account_number",
         "type": "\"string\""
        },
        {
         "metadata": "{}",
         "name": "customer_name",
         "type": "\"string\""
        },
        {
         "metadata": "{}",
         "name": "invoice_line_identifier",
         "type": "\"integer\""
        },
        {
         "metadata": "{}",
         "name": "invoice_line_amount",
         "type": "\"decimal(10,2)\""
        },
        {
         "metadata": "{}",
         "name": "price",
         "type": "\"decimal(10,2)\""
        },
        {
         "metadata": "{}",
         "name": "invoice_start_date",
         "type": "\"date\""
        },
        {
         "metadata": "{}",
         "name": "invoice_end_date",
         "type": "\"date\""
        },
        {
         "metadata": "{}",
         "name": "invoice_total_amount",
         "type": "\"decimal(10,2)\""
        },
        {
         "metadata": "{}",
         "name": "invoice_status",
         "type": "\"string\""
        },
        {
         "metadata": "{}",
         "name": "target_committime",
         "type": "\"timestamp\""
        },
        {
         "metadata": "{}",
         "name": "load_month",
         "type": "\"date\""
        },
        {
         "metadata": "{}",
         "name": "load_date",
         "type": "\"date\""
        },
        {
         "metadata": "{}",
         "name": "batch_id",
         "type": "\"string\""
        }
       ],
       "type": "table"
      }
     },
     "output_type": "display_data"
    }
   ],
   "source": [
    "%sql\n",
    "select * from invoice_db.invoice_line_data_stg;"
   ]
  },
  {
   "cell_type": "code",
   "execution_count": 0,
   "metadata": {
    "application/vnd.databricks.v1+cell": {
     "cellMetadata": {
      "byteLimit": 2048000,
      "rowLimit": 10000
     },
     "inputWidgets": {},
     "nuid": "f2108d2a-b63d-4ba1-90db-756ab3bf2ecc",
     "showTitle": false,
     "title": ""
    }
   },
   "outputs": [
    {
     "output_type": "stream",
     "name": "stdout",
     "output_type": "stream",
     "text": [
      "+--------------+-------------------------+--------------+-------------+-----------------------+-------------------+------+------------------+----------------+--------------------+--------------+--------------------+----------+----------+--------------------+\n|invoice_number|unique_invoice_identifier|account_number|customer_name|invoice_line_identifier|invoice_line_amount| price|invoice_start_date|invoice_end_date|invoice_total_amount|invoice_status|   target_committime|load_month| load_date|            batch_id|\n+--------------+-------------------------+--------------+-------------+-----------------------+-------------------+------+------------------+----------------+--------------------+--------------+--------------------+----------+----------+--------------------+\n|  123462837-SS|     f237165c-6dc2-469...|   123-456-658|Joseph Christ|                      1|             200.00|200.00|        2024-05-18|      2024-05-31|              450.00|           ADD|2024-07-14 09:37:...|2024-07-01|2024-07-14|BATCH-2024-07-14-...|\n|  123462837-SS|     f237165c-6dc2-469...|   123-456-658|Joseph Christ|                      2|             200.00|200.00|        2024-05-19|      2024-06-01|              450.00|           ADD|2024-07-14 09:37:...|2024-07-01|2024-07-14|BATCH-2024-07-14-...|\n|  123462869-SS|     l237165c-6dc2-469...|   123-456-659|  Jane Christ|                      2|             200.00|250.00|        2024-05-20|      2024-06-04|              850.00|          EDIT|2024-07-14 10:18:...|2024-07-01|2024-07-14|BATCH-2024-07-14-...|\n|  123462869-SS|     l237165c-6dc2-469...|   123-456-659|  Jane Christ|                      1|             300.00|200.00|        2024-05-20|      2024-05-31|              750.00|          EDIT|2024-07-14 10:18:...|2024-07-01|2024-07-14|BATCH-2024-07-14-...|\n|  123462868-SS|     f237165c-6dc2-469...|   123-456-659|  Jane Christ|                      1|             400.00|250.00|        2024-05-21|      2024-05-31|              760.00|          EDIT|2024-07-14 10:57:...|2024-07-01|2024-07-14|BATCH-2024-07-14-...|\n|  123462868-SS|     f237165c-6dc2-469...|   123-456-659|  Jane Christ|                      2|             200.00|280.00|        2024-05-21|      2024-06-04|              890.00|          EDIT|2024-07-14 10:57:...|2024-07-01|2024-07-14|BATCH-2024-07-14-...|\n|  123462838-SS|     f237165c-6dc2-469...|   123-456-659|  Jane Christ|                      2|             200.00|250.00|        2024-05-20|      2024-06-04|              850.00|           ADD|2024-07-14 09:51:...|2024-07-01|2024-07-14|BATCH-2024-07-14-...|\n|  123462838-SS|     f237165c-6dc2-469...|   123-456-659|  Jane Christ|                      1|             300.00|200.00|        2024-05-20|      2024-05-31|              750.00|           ADD|2024-07-14 09:51:...|2024-07-01|2024-07-14|BATCH-2024-07-14-...|\n|  223462839-SS|     g237165c-6dc2-469...|   123-456-680|        Alpha|                      1|             650.00|240.00|        2024-05-29|      2024-06-03|              780.00|          EDIT|2024-07-14 10:35:...|2024-07-01|2024-07-14|BATCH-2024-07-14-...|\n|  233462839-SS|     k237165c-6dc2-469...|   123-456-680|        Alpha|                      1|             690.00|290.00|        2024-05-30|      2024-06-05|              880.00|          EDIT|2024-07-14 10:47:...|2024-07-01|2024-07-14|BATCH-2024-07-14-...|\n|  123462835-SS|     f237165c-6dc2-469...|   123-456-680|        Alpha|                      1|             600.00|200.00|        2024-05-20|      2024-05-31|              750.00|           ADD|2024-07-14 10:05:...|2024-07-01|2024-07-14|BATCH-2024-07-14-...|\n+--------------+-------------------------+--------------+-------------+-----------------------+-------------------+------+------------------+----------------+--------------------+--------------+--------------------+----------+----------+--------------------+\n\n"
     ]
    }
   ],
   "source": [
    "spark.sql('''select * from invoice_db.invoice_line_data_stg''').show()"
   ]
  },
  {
   "cell_type": "code",
   "execution_count": 0,
   "metadata": {
    "application/vnd.databricks.v1+cell": {
     "cellMetadata": {
      "byteLimit": 2048000,
      "implicitDf": true,
      "rowLimit": 10000
     },
     "inputWidgets": {},
     "nuid": "ec4110de-3008-4d5e-89fd-d7eddc0adf1c",
     "showTitle": false,
     "title": ""
    }
   },
   "outputs": [
    {
     "output_type": "display_data",
     "data": {
      "text/html": [
       "<style scoped>\n",
       "  .table-result-container {\n",
       "    max-height: 300px;\n",
       "    overflow: auto;\n",
       "  }\n",
       "  table, th, td {\n",
       "    border: 1px solid black;\n",
       "    border-collapse: collapse;\n",
       "  }\n",
       "  th, td {\n",
       "    padding: 5px;\n",
       "  }\n",
       "  th {\n",
       "    text-align: left;\n",
       "  }\n",
       "</style><div class='table-result-container'><table class='table-result'><thead style='background-color: white'><tr><th>invoice_number</th><th>unique_invoice_identifier</th><th>account_number</th><th>customer_name</th><th>invoice_line_identifier</th><th>invoice_line_amount</th><th>price</th><th>invoice_start_date</th><th>invoice_end_date</th><th>invoice_total_amount</th><th>invoice_status</th><th>target_committime</th><th>load_month</th><th>load_date</th><th>batch_id</th></tr></thead><tbody><tr><td>123462838-SS</td><td>f237165c-6dc2-4695-9635-6245f8913c54</td><td>123-456-659</td><td>Jane Christ</td><td>1</td><td>300.00</td><td>200.00</td><td>2024-05-20</td><td>2024-05-31</td><td>750.00</td><td>ADD</td><td>2024-07-14T09:51:41.884+0000</td><td>2024-07-01</td><td>2024-07-14</td><td>BATCH-2024-07-14-09_51_41</td></tr><tr><td>123462838-SS</td><td>f237165c-6dc2-4695-9635-6245f8913c54</td><td>123-456-659</td><td>Jane Christ</td><td>2</td><td>200.00</td><td>250.00</td><td>2024-05-20</td><td>2024-06-04</td><td>850.00</td><td>ADD</td><td>2024-07-14T09:51:41.884+0000</td><td>2024-07-01</td><td>2024-07-14</td><td>BATCH-2024-07-14-09_51_41</td></tr><tr><td>123462869-SS</td><td>l237165c-6dc2-4695-9635-6245f8913g57</td><td>123-456-659</td><td>Jane Christ</td><td>1</td><td>300.00</td><td>200.00</td><td>2024-05-20</td><td>2024-05-31</td><td>750.00</td><td>EDIT</td><td>2024-07-14T10:18:10.145+0000</td><td>2024-07-01</td><td>2024-07-14</td><td>BATCH-2024-07-14-10_18_10</td></tr><tr><td>123462869-SS</td><td>l237165c-6dc2-4695-9635-6245f8913g57</td><td>123-456-659</td><td>Jane Christ</td><td>2</td><td>200.00</td><td>250.00</td><td>2024-05-20</td><td>2024-06-04</td><td>850.00</td><td>EDIT</td><td>2024-07-14T10:18:10.145+0000</td><td>2024-07-01</td><td>2024-07-14</td><td>BATCH-2024-07-14-10_18_10</td></tr><tr><td>123462868-SS</td><td>f237165c-6dc2-4695-9635-6245f8913c94</td><td>123-456-659</td><td>Jane Christ</td><td>1</td><td>400.00</td><td>250.00</td><td>2024-05-21</td><td>2024-05-31</td><td>760.00</td><td>EDIT</td><td>2024-07-14T10:57:25.617+0000</td><td>2024-07-01</td><td>2024-07-14</td><td>BATCH-2024-07-14-10_57_25</td></tr><tr><td>123462868-SS</td><td>f237165c-6dc2-4695-9635-6245f8913c94</td><td>123-456-659</td><td>Jane Christ</td><td>2</td><td>200.00</td><td>280.00</td><td>2024-05-21</td><td>2024-06-04</td><td>890.00</td><td>EDIT</td><td>2024-07-14T10:57:25.617+0000</td><td>2024-07-01</td><td>2024-07-14</td><td>BATCH-2024-07-14-10_57_25</td></tr></tbody></table></div>"
      ]
     },
     "metadata": {
      "application/vnd.databricks.v1+output": {
       "addedWidgets": {},
       "aggData": [],
       "aggError": "",
       "aggOverflow": false,
       "aggSchema": [],
       "aggSeriesLimitReached": false,
       "aggType": "",
       "arguments": {},
       "columnCustomDisplayInfos": {},
       "data": [
        [
         "123462838-SS",
         "f237165c-6dc2-4695-9635-6245f8913c54",
         "123-456-659",
         "Jane Christ",
         1,
         "300.00",
         "200.00",
         "2024-05-20",
         "2024-05-31",
         "750.00",
         "ADD",
         "2024-07-14T09:51:41.884+0000",
         "2024-07-01",
         "2024-07-14",
         "BATCH-2024-07-14-09_51_41"
        ],
        [
         "123462838-SS",
         "f237165c-6dc2-4695-9635-6245f8913c54",
         "123-456-659",
         "Jane Christ",
         2,
         "200.00",
         "250.00",
         "2024-05-20",
         "2024-06-04",
         "850.00",
         "ADD",
         "2024-07-14T09:51:41.884+0000",
         "2024-07-01",
         "2024-07-14",
         "BATCH-2024-07-14-09_51_41"
        ],
        [
         "123462869-SS",
         "l237165c-6dc2-4695-9635-6245f8913g57",
         "123-456-659",
         "Jane Christ",
         1,
         "300.00",
         "200.00",
         "2024-05-20",
         "2024-05-31",
         "750.00",
         "EDIT",
         "2024-07-14T10:18:10.145+0000",
         "2024-07-01",
         "2024-07-14",
         "BATCH-2024-07-14-10_18_10"
        ],
        [
         "123462869-SS",
         "l237165c-6dc2-4695-9635-6245f8913g57",
         "123-456-659",
         "Jane Christ",
         2,
         "200.00",
         "250.00",
         "2024-05-20",
         "2024-06-04",
         "850.00",
         "EDIT",
         "2024-07-14T10:18:10.145+0000",
         "2024-07-01",
         "2024-07-14",
         "BATCH-2024-07-14-10_18_10"
        ],
        [
         "123462868-SS",
         "f237165c-6dc2-4695-9635-6245f8913c94",
         "123-456-659",
         "Jane Christ",
         1,
         "400.00",
         "250.00",
         "2024-05-21",
         "2024-05-31",
         "760.00",
         "EDIT",
         "2024-07-14T10:57:25.617+0000",
         "2024-07-01",
         "2024-07-14",
         "BATCH-2024-07-14-10_57_25"
        ],
        [
         "123462868-SS",
         "f237165c-6dc2-4695-9635-6245f8913c94",
         "123-456-659",
         "Jane Christ",
         2,
         "200.00",
         "280.00",
         "2024-05-21",
         "2024-06-04",
         "890.00",
         "EDIT",
         "2024-07-14T10:57:25.617+0000",
         "2024-07-01",
         "2024-07-14",
         "BATCH-2024-07-14-10_57_25"
        ]
       ],
       "datasetInfos": [],
       "dbfsResultPath": null,
       "isJsonSchema": true,
       "metadata": {},
       "overflow": false,
       "plotOptions": {
        "customPlotOptions": {},
        "displayType": "table",
        "pivotAggregation": null,
        "pivotColumns": null,
        "xColumns": null,
        "yColumns": null
       },
       "removedWidgets": [],
       "schema": [
        {
         "metadata": "{}",
         "name": "invoice_number",
         "type": "\"string\""
        },
        {
         "metadata": "{}",
         "name": "unique_invoice_identifier",
         "type": "\"string\""
        },
        {
         "metadata": "{}",
         "name": "account_number",
         "type": "\"string\""
        },
        {
         "metadata": "{}",
         "name": "customer_name",
         "type": "\"string\""
        },
        {
         "metadata": "{}",
         "name": "invoice_line_identifier",
         "type": "\"integer\""
        },
        {
         "metadata": "{}",
         "name": "invoice_line_amount",
         "type": "\"decimal(10,2)\""
        },
        {
         "metadata": "{}",
         "name": "price",
         "type": "\"decimal(10,2)\""
        },
        {
         "metadata": "{}",
         "name": "invoice_start_date",
         "type": "\"date\""
        },
        {
         "metadata": "{}",
         "name": "invoice_end_date",
         "type": "\"date\""
        },
        {
         "metadata": "{}",
         "name": "invoice_total_amount",
         "type": "\"decimal(10,2)\""
        },
        {
         "metadata": "{}",
         "name": "invoice_status",
         "type": "\"string\""
        },
        {
         "metadata": "{}",
         "name": "target_committime",
         "type": "\"timestamp\""
        },
        {
         "metadata": "{}",
         "name": "load_month",
         "type": "\"date\""
        },
        {
         "metadata": "{}",
         "name": "load_date",
         "type": "\"date\""
        },
        {
         "metadata": "{}",
         "name": "batch_id",
         "type": "\"string\""
        }
       ],
       "type": "table"
      }
     },
     "output_type": "display_data"
    }
   ],
   "source": [
    "%sql\n",
    "select * from invoice_db.invoice_line_data_stg where account_number='123-456-659' order by batch_id, invoice_line_identifier"
   ]
  },
  {
   "cell_type": "code",
   "execution_count": 0,
   "metadata": {
    "application/vnd.databricks.v1+cell": {
     "cellMetadata": {
      "byteLimit": 2048000,
      "rowLimit": 10000
     },
     "inputWidgets": {},
     "nuid": "d083bff0-325c-4548-8dc4-7c95edea2127",
     "showTitle": false,
     "title": ""
    }
   },
   "outputs": [
    {
     "output_type": "stream",
     "name": "stdout",
     "output_type": "stream",
     "text": [
      "+--------------+-------------------------+--------------+-------------+-----------------------+-------------------+------+------------------+----------------+--------------------+--------------+--------------------+----------+----------+--------------------+\n|invoice_number|unique_invoice_identifier|account_number|customer_name|invoice_line_identifier|invoice_line_amount| price|invoice_start_date|invoice_end_date|invoice_total_amount|invoice_status|   target_committime|load_month| load_date|            batch_id|\n+--------------+-------------------------+--------------+-------------+-----------------------+-------------------+------+------------------+----------------+--------------------+--------------+--------------------+----------+----------+--------------------+\n|  123462838-SS|     f237165c-6dc2-469...|   123-456-659|  Jane Christ|                      1|             300.00|200.00|        2024-05-20|      2024-05-31|              750.00|           ADD|2024-07-14 09:51:...|2024-07-01|2024-07-14|BATCH-2024-07-14-...|\n|  123462838-SS|     f237165c-6dc2-469...|   123-456-659|  Jane Christ|                      2|             200.00|250.00|        2024-05-20|      2024-06-04|              850.00|           ADD|2024-07-14 09:51:...|2024-07-01|2024-07-14|BATCH-2024-07-14-...|\n|  123462869-SS|     l237165c-6dc2-469...|   123-456-659|  Jane Christ|                      1|             300.00|200.00|        2024-05-20|      2024-05-31|              750.00|          EDIT|2024-07-14 10:18:...|2024-07-01|2024-07-14|BATCH-2024-07-14-...|\n|  123462869-SS|     l237165c-6dc2-469...|   123-456-659|  Jane Christ|                      2|             200.00|250.00|        2024-05-20|      2024-06-04|              850.00|          EDIT|2024-07-14 10:18:...|2024-07-01|2024-07-14|BATCH-2024-07-14-...|\n|  123462868-SS|     f237165c-6dc2-469...|   123-456-659|  Jane Christ|                      1|             400.00|250.00|        2024-05-21|      2024-05-31|              760.00|          EDIT|2024-07-14 10:57:...|2024-07-01|2024-07-14|BATCH-2024-07-14-...|\n|  123462868-SS|     f237165c-6dc2-469...|   123-456-659|  Jane Christ|                      2|             200.00|280.00|        2024-05-21|      2024-06-04|              890.00|          EDIT|2024-07-14 10:57:...|2024-07-01|2024-07-14|BATCH-2024-07-14-...|\n+--------------+-------------------------+--------------+-------------+-----------------------+-------------------+------+------------------+----------------+--------------------+--------------+--------------------+----------+----------+--------------------+\n\n"
     ]
    }
   ],
   "source": [
    "spark.sql('''select * from invoice_db.invoice_line_data_stg where account_number='123-456-659' order by batch_id, invoice_line_identifier''').show()"
   ]
  }
 ],
 "metadata": {
  "application/vnd.databricks.v1+notebook": {
   "dashboards": [],
   "environmentMetadata": null,
   "language": "python",
   "notebookMetadata": {
    "mostRecentlyExecutedCommandWithImplicitDF": {
     "commandId": 2618700362645686,
     "dataframes": [
      "_sqldf"
     ]
    },
    "pythonIndentUnit": 4
   },
   "notebookName": "create_invoice_staging_tables",
   "widgets": {}
  }
 },
 "nbformat": 4,
 "nbformat_minor": 0
}
