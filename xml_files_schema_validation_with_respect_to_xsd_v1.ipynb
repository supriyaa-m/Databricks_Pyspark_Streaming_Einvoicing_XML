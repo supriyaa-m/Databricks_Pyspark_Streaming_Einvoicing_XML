{
 "cells": [
  {
   "cell_type": "code",
   "execution_count": 0,
   "metadata": {
    "application/vnd.databricks.v1+cell": {
     "cellMetadata": {
      "byteLimit": 2048000,
      "rowLimit": 10000
     },
     "inputWidgets": {},
     "nuid": "01f16e9e-da40-4216-8c81-626933341121",
     "showTitle": false,
     "title": ""
    }
   },
   "outputs": [
    {
     "output_type": "stream",
     "name": "stdout",
     "output_type": "stream",
     "text": [
      "Python interpreter will be restarted.\nCollecting lxml\n  Downloading lxml-5.2.2-cp39-cp39-manylinux_2_28_x86_64.whl (5.0 MB)\nInstalling collected packages: lxml\nSuccessfully installed lxml-5.2.2\nPython interpreter will be restarted.\n"
     ]
    }
   ],
   "source": [
    "pip install lxml"
   ]
  },
  {
   "cell_type": "code",
   "execution_count": 0,
   "metadata": {
    "application/vnd.databricks.v1+cell": {
     "cellMetadata": {
      "byteLimit": 2048000,
      "rowLimit": 10000
     },
     "inputWidgets": {},
     "nuid": "6a258265-959e-4996-b556-35ee51f5f38a",
     "showTitle": false,
     "title": ""
    }
   },
   "outputs": [],
   "source": [
    "import os\n",
    "from lxml import etree\n",
    "from pyspark.sql.types import StructType, StructField, StringType, TimestampType\n",
    "from pyspark.sql.functions import current_timestamp, input_file_name\n",
    "import os\n",
    "import subprocess\n",
    "import smtplib\n",
    "from email.mime.text import MIMEText\n",
    "from email.mime.multipart import MIMEMultipart"
   ]
  },
  {
   "cell_type": "code",
   "execution_count": 0,
   "metadata": {
    "application/vnd.databricks.v1+cell": {
     "cellMetadata": {
      "byteLimit": 2048000,
      "rowLimit": 10000
     },
     "inputWidgets": {},
     "nuid": "b1d5d319-18cd-4fee-b7de-dd4dd8767292",
     "showTitle": false,
     "title": ""
    }
   },
   "outputs": [],
   "source": [
    "import smtplib\n",
    "from email.mime.text import MIMEText\n",
    "\n",
    "# SMTP server configuration\n",
    "host = \"smtp.gmail.com\"\n",
    "port = 587  # TLS port\n",
    "\n",
    "# Create a text widget for the google app password and mail ID\n",
    "dbutils.widgets.text(\"app_password\", \"\")\n",
    "dbutils.widgets.text(\"sender_mailId\", \"\")\n",
    "dbutils.widgets.text(\"receiver_mailId\", \"\")\n",
    "\n",
    "# Email content\n",
    "FROM = dbutils.widgets.get(\"sender_mailId\")\n",
    "TO = dbutils.widgets.get(\"receiver_mailId\")\n",
    "SUBJECT = \"XML file got rejected\"\n",
    "BODY = \"\"\"\n",
    "Hi Team,\\n\\nXML files have been rejected. Kindly check the reject table <b>invoice_db.xml_reject_audit_table</b> for more information.\\n\\nThanks.\n",
    "\"\"\"\n",
    "\n",
    "def send_alert_mail(FROM,TO,BODY,SUBJECT,host,port):\n",
    "    # Create MIMEText object\n",
    "    msg = MIMEText(BODY, 'html')\n",
    "    msg['Subject'] = SUBJECT\n",
    "    msg['From'] = FROM\n",
    "    msg['To'] = TO\n",
    "    try:\n",
    "        # Connect to the SMTP server\n",
    "        server = smtplib.SMTP(host, port)\n",
    "        server.starttls()  # Upgrade the connection to secure TLS\n",
    "\n",
    "        # Login to the SMTP server using app-specific password\n",
    "        server.login(FROM, dbutils.widgets.get(\"app_password\"))\n",
    "\n",
    "        # Send email\n",
    "        server.sendmail(FROM, TO, msg.as_string())\n",
    "        print(\"Email sent successfully!\")\n",
    "\n",
    "    except Exception as e:\n",
    "        print(f\"Failed to send email: {e}\")\n",
    "\n",
    "    finally:\n",
    "        # Quit the SMTP session\n",
    "        server.quit()"
   ]
  },
  {
   "cell_type": "code",
   "execution_count": 0,
   "metadata": {
    "application/vnd.databricks.v1+cell": {
     "cellMetadata": {
      "byteLimit": 2048000,
      "rowLimit": 10000
     },
     "inputWidgets": {},
     "nuid": "05fd2bb1-f6e2-4327-9b75-bc7f6d333f84",
     "showTitle": false,
     "title": ""
    }
   },
   "outputs": [
    {
     "output_type": "stream",
     "name": "stdout",
     "output_type": "stream",
     "text": [
      "Out[4]: True"
     ]
    }
   ],
   "source": [
    "dbutils.fs.mkdirs(\"/FileStore/tables/invoices/xml_landing\")\n",
    "dbutils.fs.mkdirs(\"/FileStore/tables/invoices/xml_reject\")\n",
    "dbutils.fs.mkdirs(\"/FileStore/tables/invoices/xsd\")\n",
    "dbutils.fs.mkdirs(\"/FileStore/tables/invoices/xml_checkpoint\")"
   ]
  },
  {
   "cell_type": "code",
   "execution_count": 0,
   "metadata": {
    "application/vnd.databricks.v1+cell": {
     "cellMetadata": {
      "byteLimit": 2048000,
      "rowLimit": 10000
     },
     "inputWidgets": {},
     "nuid": "9daf2aa6-0389-40aa-82e5-cfd693f43ee5",
     "showTitle": false,
     "title": ""
    }
   },
   "outputs": [],
   "source": [
    "source_directory = \"/FileStore/tables/invoices/staging\"\n",
    "landing_directory = \"/FileStore/tables/invoices/xml_landing\"\n",
    "rejects_directory = \"/FileStore/tables/invoices/xml_reject\"\n",
    "xsd_path = \"/FileStore/tables/invoices/xsd/xsd_for_generated_xml.xsd\"\n",
    "checkpoint_dir = \"/FileStore/tables/invoices/xml_checkpoint\""
   ]
  },
  {
   "cell_type": "code",
   "execution_count": 0,
   "metadata": {
    "application/vnd.databricks.v1+cell": {
     "cellMetadata": {
      "byteLimit": 2048000,
      "rowLimit": 10000
     },
     "inputWidgets": {},
     "nuid": "55debcce-7de5-4cea-8599-52f7b1d4544f",
     "showTitle": false,
     "title": ""
    }
   },
   "outputs": [],
   "source": [
    "# Load XSD schema from DBFS\n",
    "xsd_content = dbutils.fs.head(xsd_path, 10000) \n",
    "schema_root = etree.XML(xsd_content.encode('utf-8'))\n",
    "schema = etree.XMLSchema(schema_root)"
   ]
  },
  {
   "cell_type": "code",
   "execution_count": 0,
   "metadata": {
    "application/vnd.databricks.v1+cell": {
     "cellMetadata": {
      "byteLimit": 2048000,
      "implicitDf": true,
      "rowLimit": 10000
     },
     "inputWidgets": {},
     "nuid": "e8591754-fe44-485d-82af-a68ca4eb150a",
     "showTitle": false,
     "title": ""
    }
   },
   "outputs": [],
   "source": [
    "# Create reject table schema\n",
    "audit_schema = StructType([\n",
    "    StructField(\"filename\", StringType(), True),\n",
    "    StructField(\"error_message\", StringType(), True)\n",
    "])"
   ]
  },
  {
   "cell_type": "code",
   "execution_count": 0,
   "metadata": {
    "application/vnd.databricks.v1+cell": {
     "cellMetadata": {
      "byteLimit": 2048000,
      "rowLimit": 10000
     },
     "inputWidgets": {},
     "nuid": "1f3fb7a0-0ad8-4b6e-99ad-4415b1d4b187",
     "showTitle": false,
     "title": ""
    }
   },
   "outputs": [],
   "source": [
    "# Function to validate XML and capture error message\n",
    "def validate_xml(xml_content):\n",
    "    try:\n",
    "        xml_doc = etree.XML(xml_content)\n",
    "        schema.assertValid(xml_doc)\n",
    "        return True, None\n",
    "    except (etree.DocumentInvalid, etree.XMLSyntaxError) as e:\n",
    "        return False, str(e)"
   ]
  },
  {
   "cell_type": "code",
   "execution_count": 0,
   "metadata": {
    "application/vnd.databricks.v1+cell": {
     "cellMetadata": {
      "byteLimit": 2048000,
      "rowLimit": 10000
     },
     "inputWidgets": {},
     "nuid": "34ac13ea-cc0e-4616-b05f-4a077f8c4725",
     "showTitle": false,
     "title": ""
    }
   },
   "outputs": [],
   "source": [
    "def process_batch(df, epoch_id):\n",
    "    # Collecting rows is inefficient and may cause repeated processing messages.\n",
    "    xml_files = [os.path.join(source_directory, f.name) for f in dbutils.fs.ls(source_directory) if f.name.endswith('.xml')]\n",
    "    reject_flag=False\n",
    "    for row in xml_files:\n",
    "        file_name = row\n",
    "        source_path = row.replace(\"dbfs:\", \"\")\n",
    "        try:\n",
    "            # Read XML content from DBFS\n",
    "            xml_content = dbutils.fs.head(row, 10000)  # Adjust size if necessary\n",
    "            is_valid, error_message = validate_xml(xml_content.encode('utf-8'))\n",
    "            if is_valid:\n",
    "                destination_path = landing_directory\n",
    "                print(f\"Validation successful: {file_name}\")\n",
    "            else:\n",
    "                destination_path = rejects_directory\n",
    "                print(f\"Validation failed: {file_name}\")\n",
    "\n",
    "                # Write error message to audit table\n",
    "                audit_data = [(file_name, error_message)]\n",
    "                audit_df = spark.createDataFrame(audit_data, schema=audit_schema).withColumn(\"reject_date\",current_timestamp())\n",
    "                audit_df.write.format(\"delta\").mode(\"append\").saveAsTable(\"invoice_db.xml_reject_audit_table\")\n",
    "\n",
    "                # setting reject flag\n",
    "                reject_flag = True   \n",
    "\n",
    "            # Move file to destination\n",
    "            dbutils.fs.mv(source_path, destination_path)\n",
    "        except Exception as e:\n",
    "            print(f\"Error processing file {file_name}: {e}\")\n",
    "    # Send alert email using shell script\n",
    "    if reject_flag:\n",
    "        send_alert_mail(FROM,TO,BODY,SUBJECT,host,port)\n"
   ]
  },
  {
   "cell_type": "code",
   "execution_count": 0,
   "metadata": {
    "application/vnd.databricks.v1+cell": {
     "cellMetadata": {
      "byteLimit": 2048000,
      "rowLimit": 10000
     },
     "inputWidgets": {},
     "nuid": "f173b8cb-4aae-4bea-b7c1-df8bb3a4cd24",
     "showTitle": false,
     "title": ""
    }
   },
   "outputs": [],
   "source": [
    "xml_df = spark.readStream.format(\"text\").option(\"path\", source_directory).load()"
   ]
  },
  {
   "cell_type": "code",
   "execution_count": 0,
   "metadata": {
    "application/vnd.databricks.v1+cell": {
     "cellMetadata": {
      "byteLimit": 2048000,
      "rowLimit": 10000
     },
     "inputWidgets": {},
     "nuid": "27323a5c-4573-432e-a01a-a0625632ab2a",
     "showTitle": false,
     "title": ""
    }
   },
   "outputs": [
    {
     "output_type": "stream",
     "name": "stdout",
     "output_type": "stream",
     "text": [
      "Validation failed: /FileStore/tables/invoices/staging/rejects14.xml\nEmail sent successfully!\n"
     ]
    },
    {
     "output_type": "display_data",
     "data": {
      "text/html": [
       "<style scoped>\n",
       "  .ansiout {\n",
       "    display: block;\n",
       "    unicode-bidi: embed;\n",
       "    white-space: pre-wrap;\n",
       "    word-wrap: break-word;\n",
       "    word-break: break-all;\n",
       "    font-family: \"Menlo\", \"Monaco\", \"Consolas\", \"Ubuntu Mono\", \"Source Code Pro\", monospace;\n",
       "    font-size: 13px;\n",
       "    color: #555;\n",
       "    margin-left: 4px;\n",
       "    line-height: 19px;\n",
       "  }\n",
       "</style>"
      ]
     },
     "metadata": {
      "application/vnd.databricks.v1+output": {
       "arguments": {},
       "data": "",
       "errorSummary": "Cancelled",
       "errorTraceType": "html",
       "metadata": {},
       "type": "ipynbError"
      }
     },
     "output_type": "display_data"
    }
   ],
   "source": [
    "# Process each micro batch of files\n",
    "xml_df.writeStream.foreachBatch(process_batch).option(\"checkpointLocation\", checkpoint_dir).start().awaitTermination()"
   ]
  }
 ],
 "metadata": {
  "application/vnd.databricks.v1+notebook": {
   "dashboards": [],
   "environmentMetadata": null,
   "language": "python",
   "notebookMetadata": {
    "mostRecentlyExecutedCommandWithImplicitDF": {
     "commandId": -1,
     "dataframes": [
      "_sqldf"
     ]
    },
    "pythonIndentUnit": 4
   },
   "notebookName": "xml_files_schema_validation_with_respect_to_xsd",
   "widgets": {
    "app_password": {
     "currentValue": "",
     "nuid": "aecd5bea-762b-41c7-ae04-94b99bea62c9",
     "typedWidgetInfo": null,
     "widgetInfo": {
      "widgetType": "text",
      "defaultValue": "",
      "label": null,
      "name": "app_password",
      "options": {
       "widgetType": "text",
       "autoCreated": null,
       "validationRegex": null
      }
     }
    },
    "receiver_mailId": {
     "currentValue": "",
     "nuid": "dec685f7-407d-46f5-bd2a-d91e25e2cb35",
     "typedWidgetInfo": null,
     "widgetInfo": {
      "widgetType": "text",
      "defaultValue": "",
      "label": null,
      "name": "receiver_mailId",
      "options": {
       "widgetType": "text",
       "autoCreated": null,
       "validationRegex": null
      }
     }
    },
    "sender_mailId": {
     "currentValue": "",
     "nuid": "1a9b5b82-2d88-473b-9046-321f72017d6f",
     "typedWidgetInfo": null,
     "widgetInfo": {
      "widgetType": "text",
      "defaultValue": "",
      "label": null,
      "name": "sender_mailId",
      "options": {
       "widgetType": "text",
       "autoCreated": null,
       "validationRegex": null
      }
     }
    }
   }
  }
 },
 "nbformat": 4,
 "nbformat_minor": 0
}
